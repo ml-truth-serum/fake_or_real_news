{
 "cells": [
  {
   "cell_type": "code",
   "execution_count": 1,
   "id": "8d088d74",
   "metadata": {
    "id": "8d088d74"
   },
   "outputs": [],
   "source": [
    "import pandas as pd\n",
    "from pathlib import Path\n",
    "import matplotlib.pyplot as plt\n",
    "import numpy as np\n",
    "%matplotlib inline\n",
    "import warnings"
   ]
  },
  {
   "cell_type": "code",
   "execution_count": 2,
   "id": "60cf8130",
   "metadata": {
    "colab": {
     "base_uri": "https://localhost:8080/",
     "height": 362
    },
    "id": "60cf8130",
    "outputId": "14390b2d-ee33-45a6-80e5-77ee27197ccf"
   },
   "outputs": [
    {
     "data": {
      "text/html": [
       "<div>\n",
       "<style scoped>\n",
       "    .dataframe tbody tr th:only-of-type {\n",
       "        vertical-align: middle;\n",
       "    }\n",
       "\n",
       "    .dataframe tbody tr th {\n",
       "        vertical-align: top;\n",
       "    }\n",
       "\n",
       "    .dataframe thead th {\n",
       "        text-align: right;\n",
       "    }\n",
       "</style>\n",
       "<table border=\"1\" class=\"dataframe\">\n",
       "  <thead>\n",
       "    <tr style=\"text-align: right;\">\n",
       "      <th></th>\n",
       "      <th>id</th>\n",
       "      <th>title</th>\n",
       "      <th>text</th>\n",
       "      <th>label</th>\n",
       "    </tr>\n",
       "  </thead>\n",
       "  <tbody>\n",
       "    <tr>\n",
       "      <th>0</th>\n",
       "      <td>8476.0</td>\n",
       "      <td>You Can Smell Hillary’s Fear</td>\n",
       "      <td>Daniel Greenfield, a Shillman Journalism Fello...</td>\n",
       "      <td>FAKE</td>\n",
       "    </tr>\n",
       "    <tr>\n",
       "      <th>1</th>\n",
       "      <td>10294.0</td>\n",
       "      <td>Watch The Exact Moment Paul Ryan Committed Pol...</td>\n",
       "      <td>Google Pinterest Digg Linkedin Reddit Stumbleu...</td>\n",
       "      <td>FAKE</td>\n",
       "    </tr>\n",
       "    <tr>\n",
       "      <th>2</th>\n",
       "      <td>3608.0</td>\n",
       "      <td>Kerry to go to Paris in gesture of sympathy</td>\n",
       "      <td>U.S. Secretary of State John F. Kerry said Mon...</td>\n",
       "      <td>REAL</td>\n",
       "    </tr>\n",
       "    <tr>\n",
       "      <th>3</th>\n",
       "      <td>10142.0</td>\n",
       "      <td>Bernie supporters on Twitter erupt in anger ag...</td>\n",
       "      <td>— Kaydee King (@KaydeeKing) November 9, 2016 T...</td>\n",
       "      <td>FAKE</td>\n",
       "    </tr>\n",
       "    <tr>\n",
       "      <th>4</th>\n",
       "      <td>875.0</td>\n",
       "      <td>The Battle of New York: Why This Primary Matters</td>\n",
       "      <td>It's primary day in New York and front-runners...</td>\n",
       "      <td>REAL</td>\n",
       "    </tr>\n",
       "    <tr>\n",
       "      <th>5</th>\n",
       "      <td>6903.0</td>\n",
       "      <td>Tehran, USA</td>\n",
       "      <td>\\nI’m not an immigrant, but my grandparents ...</td>\n",
       "      <td>FAKE</td>\n",
       "    </tr>\n",
       "    <tr>\n",
       "      <th>6</th>\n",
       "      <td>7341.0</td>\n",
       "      <td>Girl Horrified At What She Watches Boyfriend D...</td>\n",
       "      <td>Share This Baylee Luciani (left), Screenshot o...</td>\n",
       "      <td>FAKE</td>\n",
       "    </tr>\n",
       "    <tr>\n",
       "      <th>7</th>\n",
       "      <td>95.0</td>\n",
       "      <td>‘Britain’s Schindler’ Dies at 106</td>\n",
       "      <td>A Czech stockbroker who saved more than 650 Je...</td>\n",
       "      <td>REAL</td>\n",
       "    </tr>\n",
       "    <tr>\n",
       "      <th>8</th>\n",
       "      <td>4869.0</td>\n",
       "      <td>Fact check: Trump and Clinton at the 'commande...</td>\n",
       "      <td>Hillary Clinton and Donald Trump made some ina...</td>\n",
       "      <td>REAL</td>\n",
       "    </tr>\n",
       "    <tr>\n",
       "      <th>9</th>\n",
       "      <td>2909.0</td>\n",
       "      <td>Iran reportedly makes new push for uranium con...</td>\n",
       "      <td>Iranian negotiators reportedly have made a las...</td>\n",
       "      <td>REAL</td>\n",
       "    </tr>\n",
       "  </tbody>\n",
       "</table>\n",
       "</div>"
      ],
      "text/plain": [
       "        id                                              title  \\\n",
       "0   8476.0                       You Can Smell Hillary’s Fear   \n",
       "1  10294.0  Watch The Exact Moment Paul Ryan Committed Pol...   \n",
       "2   3608.0        Kerry to go to Paris in gesture of sympathy   \n",
       "3  10142.0  Bernie supporters on Twitter erupt in anger ag...   \n",
       "4    875.0   The Battle of New York: Why This Primary Matters   \n",
       "5   6903.0                                        Tehran, USA   \n",
       "6   7341.0  Girl Horrified At What She Watches Boyfriend D...   \n",
       "7     95.0                  ‘Britain’s Schindler’ Dies at 106   \n",
       "8   4869.0  Fact check: Trump and Clinton at the 'commande...   \n",
       "9   2909.0  Iran reportedly makes new push for uranium con...   \n",
       "\n",
       "                                                text label  \n",
       "0  Daniel Greenfield, a Shillman Journalism Fello...  FAKE  \n",
       "1  Google Pinterest Digg Linkedin Reddit Stumbleu...  FAKE  \n",
       "2  U.S. Secretary of State John F. Kerry said Mon...  REAL  \n",
       "3  — Kaydee King (@KaydeeKing) November 9, 2016 T...  FAKE  \n",
       "4  It's primary day in New York and front-runners...  REAL  \n",
       "5    \\nI’m not an immigrant, but my grandparents ...  FAKE  \n",
       "6  Share This Baylee Luciani (left), Screenshot o...  FAKE  \n",
       "7  A Czech stockbroker who saved more than 650 Je...  REAL  \n",
       "8  Hillary Clinton and Donald Trump made some ina...  REAL  \n",
       "9  Iranian negotiators reportedly have made a las...  REAL  "
      ]
     },
     "execution_count": 2,
     "metadata": {},
     "output_type": "execute_result"
    }
   ],
   "source": [
    "#Raw csv file from Github\n",
    "news_data = \"https://raw.githubusercontent.com/ml-truth-serum/fake_or_real_news/main/simple_model/Resources/Data/cleaned_news_df.csv\"\n",
    "\n",
    "# Read File\n",
    "news_df = pd.read_csv(news_data, header=0, encoding='utf-8')\n",
    "# Display sample data\n",
    "news_df.head(10)"
   ]
  },
  {
   "cell_type": "markdown",
   "id": "3852acbe",
   "metadata": {
    "id": "3852acbe"
   },
   "source": [
    "## Step 1 - Clean the data"
   ]
  },
  {
   "cell_type": "code",
   "execution_count": 3,
   "id": "5cd7c051",
   "metadata": {
    "id": "5cd7c051"
   },
   "outputs": [
    {
     "name": "stdout",
     "output_type": "stream",
     "text": [
      "<class 'pandas.core.frame.DataFrame'>\n",
      "RangeIndex: 6315 entries, 0 to 6314\n",
      "Data columns (total 4 columns):\n",
      " #   Column  Non-Null Count  Dtype  \n",
      "---  ------  --------------  -----  \n",
      " 0   id      6310 non-null   float64\n",
      " 1   title   6315 non-null   object \n",
      " 2   text    6315 non-null   object \n",
      " 3   label   6315 non-null   object \n",
      "dtypes: float64(1), object(3)\n",
      "memory usage: 197.5+ KB\n"
     ]
    }
   ],
   "source": [
    "#check count of all rows\n",
    "news_df.info()"
   ]
  },
  {
   "cell_type": "code",
   "execution_count": 4,
   "id": "01bed7b1",
   "metadata": {
    "colab": {
     "base_uri": "https://localhost:8080/"
    },
    "id": "01bed7b1",
    "outputId": "7244d448-e767-4664-f311-d2a3a14c9e11"
   },
   "outputs": [
    {
     "data": {
      "text/plain": [
       "id       float64\n",
       "title     object\n",
       "text      object\n",
       "label     object\n",
       "dtype: object"
      ]
     },
     "execution_count": 4,
     "metadata": {},
     "output_type": "execute_result"
    }
   ],
   "source": [
    "#see datatype\n",
    "news_df.dtypes"
   ]
  },
  {
   "cell_type": "code",
   "execution_count": 5,
   "id": "7b43647f",
   "metadata": {
    "colab": {
     "base_uri": "https://localhost:8080/",
     "height": 206
    },
    "id": "7b43647f",
    "outputId": "7dc6ef95-fa2a-4e9a-f938-c6d4207e07d4"
   },
   "outputs": [
    {
     "data": {
      "text/html": [
       "<div>\n",
       "<style scoped>\n",
       "    .dataframe tbody tr th:only-of-type {\n",
       "        vertical-align: middle;\n",
       "    }\n",
       "\n",
       "    .dataframe tbody tr th {\n",
       "        vertical-align: top;\n",
       "    }\n",
       "\n",
       "    .dataframe thead th {\n",
       "        text-align: right;\n",
       "    }\n",
       "</style>\n",
       "<table border=\"1\" class=\"dataframe\">\n",
       "  <thead>\n",
       "    <tr style=\"text-align: right;\">\n",
       "      <th></th>\n",
       "      <th>title</th>\n",
       "      <th>text</th>\n",
       "      <th>label</th>\n",
       "    </tr>\n",
       "  </thead>\n",
       "  <tbody>\n",
       "    <tr>\n",
       "      <th>0</th>\n",
       "      <td>You Can Smell Hillary’s Fear</td>\n",
       "      <td>Daniel Greenfield, a Shillman Journalism Fello...</td>\n",
       "      <td>FAKE</td>\n",
       "    </tr>\n",
       "    <tr>\n",
       "      <th>1</th>\n",
       "      <td>Watch The Exact Moment Paul Ryan Committed Pol...</td>\n",
       "      <td>Google Pinterest Digg Linkedin Reddit Stumbleu...</td>\n",
       "      <td>FAKE</td>\n",
       "    </tr>\n",
       "    <tr>\n",
       "      <th>2</th>\n",
       "      <td>Kerry to go to Paris in gesture of sympathy</td>\n",
       "      <td>U.S. Secretary of State John F. Kerry said Mon...</td>\n",
       "      <td>REAL</td>\n",
       "    </tr>\n",
       "    <tr>\n",
       "      <th>3</th>\n",
       "      <td>Bernie supporters on Twitter erupt in anger ag...</td>\n",
       "      <td>— Kaydee King (@KaydeeKing) November 9, 2016 T...</td>\n",
       "      <td>FAKE</td>\n",
       "    </tr>\n",
       "    <tr>\n",
       "      <th>4</th>\n",
       "      <td>The Battle of New York: Why This Primary Matters</td>\n",
       "      <td>It's primary day in New York and front-runners...</td>\n",
       "      <td>REAL</td>\n",
       "    </tr>\n",
       "  </tbody>\n",
       "</table>\n",
       "</div>"
      ],
      "text/plain": [
       "                                               title  \\\n",
       "0                       You Can Smell Hillary’s Fear   \n",
       "1  Watch The Exact Moment Paul Ryan Committed Pol...   \n",
       "2        Kerry to go to Paris in gesture of sympathy   \n",
       "3  Bernie supporters on Twitter erupt in anger ag...   \n",
       "4   The Battle of New York: Why This Primary Matters   \n",
       "\n",
       "                                                text label  \n",
       "0  Daniel Greenfield, a Shillman Journalism Fello...  FAKE  \n",
       "1  Google Pinterest Digg Linkedin Reddit Stumbleu...  FAKE  \n",
       "2  U.S. Secretary of State John F. Kerry said Mon...  REAL  \n",
       "3  — Kaydee King (@KaydeeKing) November 9, 2016 T...  FAKE  \n",
       "4  It's primary day in New York and front-runners...  REAL  "
      ]
     },
     "execution_count": 5,
     "metadata": {},
     "output_type": "execute_result"
    }
   ],
   "source": [
    "#drop the id column\n",
    "revise_news_df = news_df.loc[:,[\"title\", \"text\", \"label\"]]\n",
    "revise_news_df.head()"
   ]
  },
  {
   "cell_type": "markdown",
   "id": "4f1beb77",
   "metadata": {
    "id": "4f1beb77"
   },
   "source": [
    "## Step 2 - Get the columns that we need by transforming the columns"
   ]
  },
  {
   "cell_type": "code",
   "execution_count": 6,
   "id": "zX88-1BimECR",
   "metadata": {
    "colab": {
     "base_uri": "https://localhost:8080/"
    },
    "id": "zX88-1BimECR",
    "outputId": "261ed7c4-8d40-4cfd-e8ae-6e91626e01a3"
   },
   "outputs": [
    {
     "name": "stdout",
     "output_type": "stream",
     "text": [
      "Requirement already satisfied: unidecode in /Applications/anaconda3/lib/python3.9/site-packages (1.2.0)\n",
      "Note: you may need to restart the kernel to use updated packages.\n"
     ]
    }
   ],
   "source": [
    "pip install unidecode"
   ]
  },
  {
   "cell_type": "code",
   "execution_count": 7,
   "id": "qGy6dkbxq0l6",
   "metadata": {
    "id": "qGy6dkbxq0l6"
   },
   "outputs": [],
   "source": [
    "import unidecode\n",
    "import re, string\n",
    "\n",
    "filter_df = pd.DataFrame(revise_news_df)\n",
    "\n",
    "# Define the clean_text function\n",
    "def clean_text(input_text):\n",
    "    # 1. Change text to lower case\n",
    "    final_text = input_text.lower()\n",
    "    final_text = unidecode.unidecode(final_text)\n",
    "\n",
    "    # 2. Remove digits\n",
    "    final_text = re.sub(r'\\d+', '', final_text)\n",
    "\n",
    "    # 3. Remove punctuation, excluding apostrophes\n",
    "    exclude = set(string.punctuation) - set(\"'\")\n",
    "    final_text = ''.join(ch for ch in final_text if ch not in exclude)\n",
    "    #4 return the value\n",
    "    return final_text"
   ]
  },
  {
   "cell_type": "code",
   "execution_count": 8,
   "id": "62ytHWLUt9gK",
   "metadata": {
    "colab": {
     "base_uri": "https://localhost:8080/",
     "height": 206
    },
    "id": "62ytHWLUt9gK",
    "outputId": "f0cb1a5d-d332-42de-91e5-8e8650835959"
   },
   "outputs": [
    {
     "data": {
      "text/html": [
       "<div>\n",
       "<style scoped>\n",
       "    .dataframe tbody tr th:only-of-type {\n",
       "        vertical-align: middle;\n",
       "    }\n",
       "\n",
       "    .dataframe tbody tr th {\n",
       "        vertical-align: top;\n",
       "    }\n",
       "\n",
       "    .dataframe thead th {\n",
       "        text-align: right;\n",
       "    }\n",
       "</style>\n",
       "<table border=\"1\" class=\"dataframe\">\n",
       "  <thead>\n",
       "    <tr style=\"text-align: right;\">\n",
       "      <th></th>\n",
       "      <th>title</th>\n",
       "      <th>text</th>\n",
       "      <th>label</th>\n",
       "    </tr>\n",
       "  </thead>\n",
       "  <tbody>\n",
       "    <tr>\n",
       "      <th>0</th>\n",
       "      <td>you can smell hillary's fear</td>\n",
       "      <td>daniel greenfield a shillman journalism fellow...</td>\n",
       "      <td>FAKE</td>\n",
       "    </tr>\n",
       "    <tr>\n",
       "      <th>1</th>\n",
       "      <td>watch the exact moment paul ryan committed pol...</td>\n",
       "      <td>google pinterest digg linkedin reddit stumbleu...</td>\n",
       "      <td>FAKE</td>\n",
       "    </tr>\n",
       "    <tr>\n",
       "      <th>2</th>\n",
       "      <td>kerry to go to paris in gesture of sympathy</td>\n",
       "      <td>us secretary of state john f kerry said monday...</td>\n",
       "      <td>REAL</td>\n",
       "    </tr>\n",
       "    <tr>\n",
       "      <th>3</th>\n",
       "      <td>bernie supporters on twitter erupt in anger ag...</td>\n",
       "      <td>kaydee king kaydeeking november   the lesson ...</td>\n",
       "      <td>FAKE</td>\n",
       "    </tr>\n",
       "    <tr>\n",
       "      <th>4</th>\n",
       "      <td>the battle of new york why this primary matters</td>\n",
       "      <td>it's primary day in new york and frontrunners ...</td>\n",
       "      <td>REAL</td>\n",
       "    </tr>\n",
       "  </tbody>\n",
       "</table>\n",
       "</div>"
      ],
      "text/plain": [
       "                                               title  \\\n",
       "0                       you can smell hillary's fear   \n",
       "1  watch the exact moment paul ryan committed pol...   \n",
       "2        kerry to go to paris in gesture of sympathy   \n",
       "3  bernie supporters on twitter erupt in anger ag...   \n",
       "4    the battle of new york why this primary matters   \n",
       "\n",
       "                                                text label  \n",
       "0  daniel greenfield a shillman journalism fellow...  FAKE  \n",
       "1  google pinterest digg linkedin reddit stumbleu...  FAKE  \n",
       "2  us secretary of state john f kerry said monday...  REAL  \n",
       "3   kaydee king kaydeeking november   the lesson ...  FAKE  \n",
       "4  it's primary day in new york and frontrunners ...  REAL  "
      ]
     },
     "execution_count": 8,
     "metadata": {},
     "output_type": "execute_result"
    }
   ],
   "source": [
    "# Apply the clean_text function to the 'title' and 'text' columns\n",
    "filter_df['title'] = filter_df['title'].apply(clean_text)\n",
    "filter_df['text'] = filter_df['text'].apply(clean_text)\n",
    "\n",
    "filter_df.head()"
   ]
  },
  {
   "cell_type": "code",
   "execution_count": 9,
   "id": "29148a6e",
   "metadata": {
    "colab": {
     "base_uri": "https://localhost:8080/",
     "height": 206
    },
    "id": "29148a6e",
    "outputId": "6ef39cd7-5d3c-4997-f82f-4fb50790bbc1"
   },
   "outputs": [
    {
     "data": {
      "text/html": [
       "<div>\n",
       "<style scoped>\n",
       "    .dataframe tbody tr th:only-of-type {\n",
       "        vertical-align: middle;\n",
       "    }\n",
       "\n",
       "    .dataframe tbody tr th {\n",
       "        vertical-align: top;\n",
       "    }\n",
       "\n",
       "    .dataframe thead th {\n",
       "        text-align: right;\n",
       "    }\n",
       "</style>\n",
       "<table border=\"1\" class=\"dataframe\">\n",
       "  <thead>\n",
       "    <tr style=\"text-align: right;\">\n",
       "      <th></th>\n",
       "      <th>label</th>\n",
       "      <th>title_array</th>\n",
       "      <th>text_array</th>\n",
       "    </tr>\n",
       "  </thead>\n",
       "  <tbody>\n",
       "    <tr>\n",
       "      <th>0</th>\n",
       "      <td>FAKE</td>\n",
       "      <td>[can, fear, hillary's, smell, you]</td>\n",
       "      <td>[a, abedin, about, abuses, accused, accusing, ...</td>\n",
       "    </tr>\n",
       "    <tr>\n",
       "      <th>1</th>\n",
       "      <td>FAKE</td>\n",
       "      <td>[a, at, committed, exact, moment, paul, politi...</td>\n",
       "      <td>['s, a, abc, abcpolitics, about, aboutface, ad...</td>\n",
       "    </tr>\n",
       "    <tr>\n",
       "      <th>2</th>\n",
       "      <td>REAL</td>\n",
       "      <td>[gesture, go, in, kerry, of, paris, sympathy, to]</td>\n",
       "      <td>[a, about, abroad, act, address, affairs, afte...</td>\n",
       "    </tr>\n",
       "    <tr>\n",
       "      <th>3</th>\n",
       "      <td>FAKE</td>\n",
       "      <td>['we, against, anger, bernie, dnc, erupt, in, ...</td>\n",
       "      <td>[a, about, according, account, activist, adama...</td>\n",
       "    </tr>\n",
       "    <tr>\n",
       "      <th>4</th>\n",
       "      <td>REAL</td>\n",
       "      <td>[battle, matters, new, of, primary, the, this,...</td>\n",
       "      <td>[a, about, all, also, and, are, aren't, avoidi...</td>\n",
       "    </tr>\n",
       "  </tbody>\n",
       "</table>\n",
       "</div>"
      ],
      "text/plain": [
       "  label                                        title_array  \\\n",
       "0  FAKE                 [can, fear, hillary's, smell, you]   \n",
       "1  FAKE  [a, at, committed, exact, moment, paul, politi...   \n",
       "2  REAL  [gesture, go, in, kerry, of, paris, sympathy, to]   \n",
       "3  FAKE  ['we, against, anger, bernie, dnc, erupt, in, ...   \n",
       "4  REAL  [battle, matters, new, of, primary, the, this,...   \n",
       "\n",
       "                                          text_array  \n",
       "0  [a, abedin, about, abuses, accused, accusing, ...  \n",
       "1  ['s, a, abc, abcpolitics, about, aboutface, ad...  \n",
       "2  [a, about, abroad, act, address, affairs, afte...  \n",
       "3  [a, about, according, account, activist, adama...  \n",
       "4  [a, about, all, also, and, are, aren't, avoidi...  "
      ]
     },
     "execution_count": 9,
     "metadata": {},
     "output_type": "execute_result"
    }
   ],
   "source": [
    "# Splitting the 'TextColumn' for each row based on whitespace\n",
    "filter_df['title_array'] = filter_df['title'].apply(lambda x: x.split())\n",
    "filter_df['text_array'] = filter_df['text'].apply(lambda x: x.split())\n",
    "\n",
    "# Drop duplicate words for each row\n",
    "filter_df['title_array'] = filter_df['title_array'].apply(lambda x: np.unique(x))\n",
    "filter_df['text_array'] = filter_df['text_array'].apply(lambda x: np.unique(x))\n",
    "\n",
    "# Only grab the label and the new array columns\n",
    "transform_array_df = filter_df[['label','title_array', 'text_array']]\n",
    "\n",
    "transform_array_df.head()"
   ]
  },
  {
   "cell_type": "code",
   "execution_count": 12,
   "id": "4743fce4",
   "metadata": {},
   "outputs": [
    {
     "data": {
      "text/plain": [
       "label          string\n",
       "title_array    object\n",
       "text_array     object\n",
       "dtype: object"
      ]
     },
     "execution_count": 12,
     "metadata": {},
     "output_type": "execute_result"
    }
   ],
   "source": [
    "transform_array_df = transform_array_df.astype(dtype={'label': 'string'})\n",
    "\n",
    "transform_array_df.dtypes"
   ]
  },
  {
   "cell_type": "code",
   "execution_count": 13,
   "id": "249c4fed",
   "metadata": {
    "colab": {
     "base_uri": "https://localhost:8080/",
     "height": 206
    },
    "id": "249c4fed",
    "outputId": "a4642ba6-1e62-486e-86c2-b09d63f03533"
   },
   "outputs": [
    {
     "data": {
      "text/html": [
       "<div>\n",
       "<style scoped>\n",
       "    .dataframe tbody tr th:only-of-type {\n",
       "        vertical-align: middle;\n",
       "    }\n",
       "\n",
       "    .dataframe tbody tr th {\n",
       "        vertical-align: top;\n",
       "    }\n",
       "\n",
       "    .dataframe thead th {\n",
       "        text-align: right;\n",
       "    }\n",
       "</style>\n",
       "<table border=\"1\" class=\"dataframe\">\n",
       "  <thead>\n",
       "    <tr style=\"text-align: right;\">\n",
       "      <th></th>\n",
       "      <th>label</th>\n",
       "      <th>combo_array</th>\n",
       "    </tr>\n",
       "  </thead>\n",
       "  <tbody>\n",
       "    <tr>\n",
       "      <th>0</th>\n",
       "      <td>FAKE</td>\n",
       "      <td>[can, fear, hillary's, smell, you, a, abedin, ...</td>\n",
       "    </tr>\n",
       "    <tr>\n",
       "      <th>1</th>\n",
       "      <td>FAKE</td>\n",
       "      <td>[a, at, committed, exact, moment, paul, politi...</td>\n",
       "    </tr>\n",
       "    <tr>\n",
       "      <th>2</th>\n",
       "      <td>REAL</td>\n",
       "      <td>[gesture, go, in, kerry, of, paris, sympathy, ...</td>\n",
       "    </tr>\n",
       "    <tr>\n",
       "      <th>3</th>\n",
       "      <td>FAKE</td>\n",
       "      <td>['we, against, anger, bernie, dnc, erupt, in, ...</td>\n",
       "    </tr>\n",
       "    <tr>\n",
       "      <th>4</th>\n",
       "      <td>REAL</td>\n",
       "      <td>[battle, matters, new, of, primary, the, this,...</td>\n",
       "    </tr>\n",
       "  </tbody>\n",
       "</table>\n",
       "</div>"
      ],
      "text/plain": [
       "  label                                        combo_array\n",
       "0  FAKE  [can, fear, hillary's, smell, you, a, abedin, ...\n",
       "1  FAKE  [a, at, committed, exact, moment, paul, politi...\n",
       "2  REAL  [gesture, go, in, kerry, of, paris, sympathy, ...\n",
       "3  FAKE  ['we, against, anger, bernie, dnc, erupt, in, ...\n",
       "4  REAL  [battle, matters, new, of, primary, the, this,..."
      ]
     },
     "execution_count": 13,
     "metadata": {},
     "output_type": "execute_result"
    }
   ],
   "source": [
    "#join array together\n",
    "\n",
    "join_array_df = transform_array_df.loc[:,[\"label\"]]\n",
    "\n",
    "# Combine the arrays from both columns into a single array\n",
    "join_array_df['combo_array'] = transform_array_df.apply(lambda row: np.concatenate([row['title_array'], row['text_array']]), axis=1)\n",
    "\n",
    "\n",
    "join_array_df.head()"
   ]
  },
  {
   "cell_type": "markdown",
   "id": "793b3dc3",
   "metadata": {
    "id": "793b3dc3"
   },
   "source": [
    "### Title and Label Columns ONLY"
   ]
  },
  {
   "cell_type": "code",
   "execution_count": 14,
   "id": "e64da52a",
   "metadata": {
    "colab": {
     "base_uri": "https://localhost:8080/",
     "height": 235
    },
    "id": "e64da52a",
    "outputId": "68664491-d5af-4cce-e582-e72b75c279ed"
   },
   "outputs": [
    {
     "data": {
      "text/html": [
       "<div>\n",
       "<style scoped>\n",
       "    .dataframe tbody tr th:only-of-type {\n",
       "        vertical-align: middle;\n",
       "    }\n",
       "\n",
       "    .dataframe tbody tr th {\n",
       "        vertical-align: top;\n",
       "    }\n",
       "\n",
       "    .dataframe thead th {\n",
       "        text-align: right;\n",
       "    }\n",
       "</style>\n",
       "<table border=\"1\" class=\"dataframe\">\n",
       "  <thead>\n",
       "    <tr style=\"text-align: right;\">\n",
       "      <th></th>\n",
       "      <th>label</th>\n",
       "      <th>0</th>\n",
       "      <th>1</th>\n",
       "      <th>2</th>\n",
       "      <th>3</th>\n",
       "      <th>4</th>\n",
       "      <th>5</th>\n",
       "      <th>6</th>\n",
       "      <th>7</th>\n",
       "      <th>8</th>\n",
       "      <th>...</th>\n",
       "      <th>24</th>\n",
       "      <th>25</th>\n",
       "      <th>26</th>\n",
       "      <th>27</th>\n",
       "      <th>28</th>\n",
       "      <th>29</th>\n",
       "      <th>30</th>\n",
       "      <th>31</th>\n",
       "      <th>32</th>\n",
       "      <th>33</th>\n",
       "    </tr>\n",
       "  </thead>\n",
       "  <tbody>\n",
       "    <tr>\n",
       "      <th>0</th>\n",
       "      <td>FAKE</td>\n",
       "      <td>can</td>\n",
       "      <td>fear</td>\n",
       "      <td>hillary's</td>\n",
       "      <td>smell</td>\n",
       "      <td>you</td>\n",
       "      <td>NA</td>\n",
       "      <td>NA</td>\n",
       "      <td>NA</td>\n",
       "      <td>NA</td>\n",
       "      <td>...</td>\n",
       "      <td>NA</td>\n",
       "      <td>NA</td>\n",
       "      <td>NA</td>\n",
       "      <td>NA</td>\n",
       "      <td>NA</td>\n",
       "      <td>NA</td>\n",
       "      <td>NA</td>\n",
       "      <td>NA</td>\n",
       "      <td>NA</td>\n",
       "      <td>NA</td>\n",
       "    </tr>\n",
       "    <tr>\n",
       "      <th>1</th>\n",
       "      <td>FAKE</td>\n",
       "      <td>a</td>\n",
       "      <td>at</td>\n",
       "      <td>committed</td>\n",
       "      <td>exact</td>\n",
       "      <td>moment</td>\n",
       "      <td>paul</td>\n",
       "      <td>political</td>\n",
       "      <td>rally</td>\n",
       "      <td>ryan</td>\n",
       "      <td>...</td>\n",
       "      <td>NA</td>\n",
       "      <td>NA</td>\n",
       "      <td>NA</td>\n",
       "      <td>NA</td>\n",
       "      <td>NA</td>\n",
       "      <td>NA</td>\n",
       "      <td>NA</td>\n",
       "      <td>NA</td>\n",
       "      <td>NA</td>\n",
       "      <td>NA</td>\n",
       "    </tr>\n",
       "    <tr>\n",
       "      <th>2</th>\n",
       "      <td>REAL</td>\n",
       "      <td>gesture</td>\n",
       "      <td>go</td>\n",
       "      <td>in</td>\n",
       "      <td>kerry</td>\n",
       "      <td>of</td>\n",
       "      <td>paris</td>\n",
       "      <td>sympathy</td>\n",
       "      <td>to</td>\n",
       "      <td>NA</td>\n",
       "      <td>...</td>\n",
       "      <td>NA</td>\n",
       "      <td>NA</td>\n",
       "      <td>NA</td>\n",
       "      <td>NA</td>\n",
       "      <td>NA</td>\n",
       "      <td>NA</td>\n",
       "      <td>NA</td>\n",
       "      <td>NA</td>\n",
       "      <td>NA</td>\n",
       "      <td>NA</td>\n",
       "    </tr>\n",
       "    <tr>\n",
       "      <th>3</th>\n",
       "      <td>FAKE</td>\n",
       "      <td>'we</td>\n",
       "      <td>against</td>\n",
       "      <td>anger</td>\n",
       "      <td>bernie</td>\n",
       "      <td>dnc</td>\n",
       "      <td>erupt</td>\n",
       "      <td>in</td>\n",
       "      <td>on</td>\n",
       "      <td>supporters</td>\n",
       "      <td>...</td>\n",
       "      <td>NA</td>\n",
       "      <td>NA</td>\n",
       "      <td>NA</td>\n",
       "      <td>NA</td>\n",
       "      <td>NA</td>\n",
       "      <td>NA</td>\n",
       "      <td>NA</td>\n",
       "      <td>NA</td>\n",
       "      <td>NA</td>\n",
       "      <td>NA</td>\n",
       "    </tr>\n",
       "    <tr>\n",
       "      <th>4</th>\n",
       "      <td>REAL</td>\n",
       "      <td>battle</td>\n",
       "      <td>matters</td>\n",
       "      <td>new</td>\n",
       "      <td>of</td>\n",
       "      <td>primary</td>\n",
       "      <td>the</td>\n",
       "      <td>this</td>\n",
       "      <td>why</td>\n",
       "      <td>york</td>\n",
       "      <td>...</td>\n",
       "      <td>NA</td>\n",
       "      <td>NA</td>\n",
       "      <td>NA</td>\n",
       "      <td>NA</td>\n",
       "      <td>NA</td>\n",
       "      <td>NA</td>\n",
       "      <td>NA</td>\n",
       "      <td>NA</td>\n",
       "      <td>NA</td>\n",
       "      <td>NA</td>\n",
       "    </tr>\n",
       "  </tbody>\n",
       "</table>\n",
       "<p>5 rows × 35 columns</p>\n",
       "</div>"
      ],
      "text/plain": [
       "  label        0        1          2       3        4      5          6  \\\n",
       "0  FAKE      can     fear  hillary's   smell      you     NA         NA   \n",
       "1  FAKE        a       at  committed   exact   moment   paul  political   \n",
       "2  REAL  gesture       go         in   kerry       of  paris   sympathy   \n",
       "3  FAKE      'we  against      anger  bernie      dnc  erupt         in   \n",
       "4  REAL   battle  matters        new      of  primary    the       this   \n",
       "\n",
       "       7           8  ...  24  25  26  27  28  29  30  31  32  33  \n",
       "0     NA          NA  ...  NA  NA  NA  NA  NA  NA  NA  NA  NA  NA  \n",
       "1  rally        ryan  ...  NA  NA  NA  NA  NA  NA  NA  NA  NA  NA  \n",
       "2     to          NA  ...  NA  NA  NA  NA  NA  NA  NA  NA  NA  NA  \n",
       "3     on  supporters  ...  NA  NA  NA  NA  NA  NA  NA  NA  NA  NA  \n",
       "4    why        york  ...  NA  NA  NA  NA  NA  NA  NA  NA  NA  NA  \n",
       "\n",
       "[5 rows x 35 columns]"
      ]
     },
     "execution_count": 14,
     "metadata": {},
     "output_type": "execute_result"
    }
   ],
   "source": [
    "# Expand only the title array into new columns\n",
    "title_expand_array_df = transform_array_df.loc[:, [\"label\"]]\n",
    "\n",
    "# Create new columns for each element in the arrays\n",
    "title_array_columns = pd.DataFrame(transform_array_df['title_array'].tolist(), dtype='string')\n",
    "\n",
    "# Concatenate the new columns with the original DataFrame\n",
    "title_expand_array_df = pd.concat([title_expand_array_df, title_array_columns], axis=1)\n",
    "\n",
    "# Fill in NA with \"NA\"\n",
    "title_expand_array_df = title_expand_array_df.fillna(\"NA\")\n",
    "\n",
    "# Display the DataFrame\n",
    "title_expand_array_df.head()"
   ]
  },
  {
   "cell_type": "code",
   "execution_count": 15,
   "id": "4f0d225d",
   "metadata": {
    "colab": {
     "base_uri": "https://localhost:8080/"
    },
    "id": "4f0d225d",
    "outputId": "09e8b20d-5a41-47bf-ec63-45c865c5dea0"
   },
   "outputs": [
    {
     "data": {
      "text/plain": [
       "label    string\n",
       "0        string\n",
       "1        string\n",
       "2        string\n",
       "3        string\n",
       "4        string\n",
       "5        string\n",
       "6        string\n",
       "7        string\n",
       "8        string\n",
       "9        string\n",
       "10       string\n",
       "11       string\n",
       "12       string\n",
       "13       string\n",
       "14       string\n",
       "15       string\n",
       "16       string\n",
       "17       string\n",
       "18       string\n",
       "19       string\n",
       "20       string\n",
       "21       string\n",
       "22       string\n",
       "23       string\n",
       "24       string\n",
       "25       string\n",
       "26       string\n",
       "27       string\n",
       "28       string\n",
       "29       string\n",
       "30       string\n",
       "31       string\n",
       "32       string\n",
       "33       string\n",
       "dtype: object"
      ]
     },
     "execution_count": 15,
     "metadata": {},
     "output_type": "execute_result"
    }
   ],
   "source": [
    "title_expand_array_df.dtypes"
   ]
  },
  {
   "cell_type": "markdown",
   "id": "376b7b1c",
   "metadata": {
    "id": "376b7b1c"
   },
   "source": [
    "### Text and Label Columns ONLY"
   ]
  },
  {
   "cell_type": "code",
   "execution_count": 16,
   "id": "abd14b55",
   "metadata": {
    "colab": {
     "base_uri": "https://localhost:8080/",
     "height": 235
    },
    "id": "abd14b55",
    "outputId": "179841d8-0587-4f85-c22a-972328674cca"
   },
   "outputs": [
    {
     "data": {
      "text/html": [
       "<div>\n",
       "<style scoped>\n",
       "    .dataframe tbody tr th:only-of-type {\n",
       "        vertical-align: middle;\n",
       "    }\n",
       "\n",
       "    .dataframe tbody tr th {\n",
       "        vertical-align: top;\n",
       "    }\n",
       "\n",
       "    .dataframe thead th {\n",
       "        text-align: right;\n",
       "    }\n",
       "</style>\n",
       "<table border=\"1\" class=\"dataframe\">\n",
       "  <thead>\n",
       "    <tr style=\"text-align: right;\">\n",
       "      <th></th>\n",
       "      <th>label</th>\n",
       "      <th>0</th>\n",
       "      <th>1</th>\n",
       "      <th>2</th>\n",
       "      <th>3</th>\n",
       "      <th>4</th>\n",
       "      <th>5</th>\n",
       "      <th>6</th>\n",
       "      <th>7</th>\n",
       "      <th>8</th>\n",
       "      <th>...</th>\n",
       "      <th>2010</th>\n",
       "      <th>2011</th>\n",
       "      <th>2012</th>\n",
       "      <th>2013</th>\n",
       "      <th>2014</th>\n",
       "      <th>2015</th>\n",
       "      <th>2016</th>\n",
       "      <th>2017</th>\n",
       "      <th>2018</th>\n",
       "      <th>2019</th>\n",
       "    </tr>\n",
       "  </thead>\n",
       "  <tbody>\n",
       "    <tr>\n",
       "      <th>0</th>\n",
       "      <td>FAKE</td>\n",
       "      <td>a</td>\n",
       "      <td>abedin</td>\n",
       "      <td>about</td>\n",
       "      <td>abuses</td>\n",
       "      <td>accused</td>\n",
       "      <td>accusing</td>\n",
       "      <td>act</td>\n",
       "      <td>admits</td>\n",
       "      <td>ads</td>\n",
       "      <td>...</td>\n",
       "      <td>NA</td>\n",
       "      <td>NA</td>\n",
       "      <td>NA</td>\n",
       "      <td>NA</td>\n",
       "      <td>NA</td>\n",
       "      <td>NA</td>\n",
       "      <td>NA</td>\n",
       "      <td>NA</td>\n",
       "      <td>NA</td>\n",
       "      <td>NA</td>\n",
       "    </tr>\n",
       "    <tr>\n",
       "      <th>1</th>\n",
       "      <td>FAKE</td>\n",
       "      <td>'s</td>\n",
       "      <td>a</td>\n",
       "      <td>abc</td>\n",
       "      <td>abcpolitics</td>\n",
       "      <td>about</td>\n",
       "      <td>aboutface</td>\n",
       "      <td>ad</td>\n",
       "      <td>after</td>\n",
       "      <td>afternoon</td>\n",
       "      <td>...</td>\n",
       "      <td>NA</td>\n",
       "      <td>NA</td>\n",
       "      <td>NA</td>\n",
       "      <td>NA</td>\n",
       "      <td>NA</td>\n",
       "      <td>NA</td>\n",
       "      <td>NA</td>\n",
       "      <td>NA</td>\n",
       "      <td>NA</td>\n",
       "      <td>NA</td>\n",
       "    </tr>\n",
       "    <tr>\n",
       "      <th>2</th>\n",
       "      <td>REAL</td>\n",
       "      <td>a</td>\n",
       "      <td>about</td>\n",
       "      <td>abroad</td>\n",
       "      <td>act</td>\n",
       "      <td>address</td>\n",
       "      <td>affairs</td>\n",
       "      <td>after</td>\n",
       "      <td>against</td>\n",
       "      <td>am</td>\n",
       "      <td>...</td>\n",
       "      <td>NA</td>\n",
       "      <td>NA</td>\n",
       "      <td>NA</td>\n",
       "      <td>NA</td>\n",
       "      <td>NA</td>\n",
       "      <td>NA</td>\n",
       "      <td>NA</td>\n",
       "      <td>NA</td>\n",
       "      <td>NA</td>\n",
       "      <td>NA</td>\n",
       "    </tr>\n",
       "    <tr>\n",
       "      <th>3</th>\n",
       "      <td>FAKE</td>\n",
       "      <td>a</td>\n",
       "      <td>about</td>\n",
       "      <td>according</td>\n",
       "      <td>account</td>\n",
       "      <td>activist</td>\n",
       "      <td>adamant</td>\n",
       "      <td>against</td>\n",
       "      <td>all</td>\n",
       "      <td>almost</td>\n",
       "      <td>...</td>\n",
       "      <td>NA</td>\n",
       "      <td>NA</td>\n",
       "      <td>NA</td>\n",
       "      <td>NA</td>\n",
       "      <td>NA</td>\n",
       "      <td>NA</td>\n",
       "      <td>NA</td>\n",
       "      <td>NA</td>\n",
       "      <td>NA</td>\n",
       "      <td>NA</td>\n",
       "    </tr>\n",
       "    <tr>\n",
       "      <th>4</th>\n",
       "      <td>REAL</td>\n",
       "      <td>a</td>\n",
       "      <td>about</td>\n",
       "      <td>all</td>\n",
       "      <td>also</td>\n",
       "      <td>and</td>\n",
       "      <td>are</td>\n",
       "      <td>aren't</td>\n",
       "      <td>avoiding</td>\n",
       "      <td>be</td>\n",
       "      <td>...</td>\n",
       "      <td>NA</td>\n",
       "      <td>NA</td>\n",
       "      <td>NA</td>\n",
       "      <td>NA</td>\n",
       "      <td>NA</td>\n",
       "      <td>NA</td>\n",
       "      <td>NA</td>\n",
       "      <td>NA</td>\n",
       "      <td>NA</td>\n",
       "      <td>NA</td>\n",
       "    </tr>\n",
       "  </tbody>\n",
       "</table>\n",
       "<p>5 rows × 2021 columns</p>\n",
       "</div>"
      ],
      "text/plain": [
       "  label   0       1          2            3         4          5        6  \\\n",
       "0  FAKE   a  abedin      about       abuses   accused   accusing      act   \n",
       "1  FAKE  's       a        abc  abcpolitics     about  aboutface       ad   \n",
       "2  REAL   a   about     abroad          act   address    affairs    after   \n",
       "3  FAKE   a   about  according      account  activist    adamant  against   \n",
       "4  REAL   a   about        all         also       and        are   aren't   \n",
       "\n",
       "          7          8  ... 2010 2011 2012 2013 2014 2015 2016 2017 2018 2019  \n",
       "0    admits        ads  ...   NA   NA   NA   NA   NA   NA   NA   NA   NA   NA  \n",
       "1     after  afternoon  ...   NA   NA   NA   NA   NA   NA   NA   NA   NA   NA  \n",
       "2   against         am  ...   NA   NA   NA   NA   NA   NA   NA   NA   NA   NA  \n",
       "3       all     almost  ...   NA   NA   NA   NA   NA   NA   NA   NA   NA   NA  \n",
       "4  avoiding         be  ...   NA   NA   NA   NA   NA   NA   NA   NA   NA   NA  \n",
       "\n",
       "[5 rows x 2021 columns]"
      ]
     },
     "execution_count": 16,
     "metadata": {},
     "output_type": "execute_result"
    }
   ],
   "source": [
    "#expand only the title array into new columns\n",
    "text_expand_array_df = transform_array_df.loc[:,[\"label\"]]\n",
    "\n",
    "# Create new columns for each element in the arrays\n",
    "text_array_columns = pd.DataFrame(transform_array_df['text_array'].tolist(), dtype='string')\n",
    "\n",
    "# Concatenate the new columns with the original DataFrame\n",
    "text_expand_array_df = pd.concat([text_expand_array_df, text_array_columns], axis=1)\n",
    "\n",
    "#fill in na to \"none\"\n",
    "text_expand_array_df = text_expand_array_df.fillna(\"NA\")\n",
    "\n",
    "text_expand_array_df.head()"
   ]
  },
  {
   "cell_type": "markdown",
   "id": "eb67dfdb",
   "metadata": {
    "id": "eb67dfdb"
   },
   "source": [
    "### Combo(text and title) and Label Columns ONLY"
   ]
  },
  {
   "cell_type": "code",
   "execution_count": 17,
   "id": "92be834f",
   "metadata": {
    "colab": {
     "base_uri": "https://localhost:8080/",
     "height": 235
    },
    "id": "92be834f",
    "outputId": "6a325185-8f06-4a0e-87b7-cdfbfa775f7a"
   },
   "outputs": [
    {
     "data": {
      "text/html": [
       "<div>\n",
       "<style scoped>\n",
       "    .dataframe tbody tr th:only-of-type {\n",
       "        vertical-align: middle;\n",
       "    }\n",
       "\n",
       "    .dataframe tbody tr th {\n",
       "        vertical-align: top;\n",
       "    }\n",
       "\n",
       "    .dataframe thead th {\n",
       "        text-align: right;\n",
       "    }\n",
       "</style>\n",
       "<table border=\"1\" class=\"dataframe\">\n",
       "  <thead>\n",
       "    <tr style=\"text-align: right;\">\n",
       "      <th></th>\n",
       "      <th>label</th>\n",
       "      <th>0</th>\n",
       "      <th>1</th>\n",
       "      <th>2</th>\n",
       "      <th>3</th>\n",
       "      <th>4</th>\n",
       "      <th>5</th>\n",
       "      <th>6</th>\n",
       "      <th>7</th>\n",
       "      <th>8</th>\n",
       "      <th>...</th>\n",
       "      <th>2014</th>\n",
       "      <th>2015</th>\n",
       "      <th>2016</th>\n",
       "      <th>2017</th>\n",
       "      <th>2018</th>\n",
       "      <th>2019</th>\n",
       "      <th>2020</th>\n",
       "      <th>2021</th>\n",
       "      <th>2022</th>\n",
       "      <th>2023</th>\n",
       "    </tr>\n",
       "  </thead>\n",
       "  <tbody>\n",
       "    <tr>\n",
       "      <th>0</th>\n",
       "      <td>FAKE</td>\n",
       "      <td>can</td>\n",
       "      <td>fear</td>\n",
       "      <td>hillary's</td>\n",
       "      <td>smell</td>\n",
       "      <td>you</td>\n",
       "      <td>a</td>\n",
       "      <td>abedin</td>\n",
       "      <td>about</td>\n",
       "      <td>abuses</td>\n",
       "      <td>...</td>\n",
       "      <td></td>\n",
       "      <td></td>\n",
       "      <td></td>\n",
       "      <td></td>\n",
       "      <td></td>\n",
       "      <td></td>\n",
       "      <td></td>\n",
       "      <td></td>\n",
       "      <td></td>\n",
       "      <td></td>\n",
       "    </tr>\n",
       "    <tr>\n",
       "      <th>1</th>\n",
       "      <td>FAKE</td>\n",
       "      <td>a</td>\n",
       "      <td>at</td>\n",
       "      <td>committed</td>\n",
       "      <td>exact</td>\n",
       "      <td>moment</td>\n",
       "      <td>paul</td>\n",
       "      <td>political</td>\n",
       "      <td>rally</td>\n",
       "      <td>ryan</td>\n",
       "      <td>...</td>\n",
       "      <td></td>\n",
       "      <td></td>\n",
       "      <td></td>\n",
       "      <td></td>\n",
       "      <td></td>\n",
       "      <td></td>\n",
       "      <td></td>\n",
       "      <td></td>\n",
       "      <td></td>\n",
       "      <td></td>\n",
       "    </tr>\n",
       "    <tr>\n",
       "      <th>2</th>\n",
       "      <td>REAL</td>\n",
       "      <td>gesture</td>\n",
       "      <td>go</td>\n",
       "      <td>in</td>\n",
       "      <td>kerry</td>\n",
       "      <td>of</td>\n",
       "      <td>paris</td>\n",
       "      <td>sympathy</td>\n",
       "      <td>to</td>\n",
       "      <td>a</td>\n",
       "      <td>...</td>\n",
       "      <td></td>\n",
       "      <td></td>\n",
       "      <td></td>\n",
       "      <td></td>\n",
       "      <td></td>\n",
       "      <td></td>\n",
       "      <td></td>\n",
       "      <td></td>\n",
       "      <td></td>\n",
       "      <td></td>\n",
       "    </tr>\n",
       "    <tr>\n",
       "      <th>3</th>\n",
       "      <td>FAKE</td>\n",
       "      <td>'we</td>\n",
       "      <td>against</td>\n",
       "      <td>anger</td>\n",
       "      <td>bernie</td>\n",
       "      <td>dnc</td>\n",
       "      <td>erupt</td>\n",
       "      <td>in</td>\n",
       "      <td>on</td>\n",
       "      <td>supporters</td>\n",
       "      <td>...</td>\n",
       "      <td></td>\n",
       "      <td></td>\n",
       "      <td></td>\n",
       "      <td></td>\n",
       "      <td></td>\n",
       "      <td></td>\n",
       "      <td></td>\n",
       "      <td></td>\n",
       "      <td></td>\n",
       "      <td></td>\n",
       "    </tr>\n",
       "    <tr>\n",
       "      <th>4</th>\n",
       "      <td>REAL</td>\n",
       "      <td>battle</td>\n",
       "      <td>matters</td>\n",
       "      <td>new</td>\n",
       "      <td>of</td>\n",
       "      <td>primary</td>\n",
       "      <td>the</td>\n",
       "      <td>this</td>\n",
       "      <td>why</td>\n",
       "      <td>york</td>\n",
       "      <td>...</td>\n",
       "      <td></td>\n",
       "      <td></td>\n",
       "      <td></td>\n",
       "      <td></td>\n",
       "      <td></td>\n",
       "      <td></td>\n",
       "      <td></td>\n",
       "      <td></td>\n",
       "      <td></td>\n",
       "      <td></td>\n",
       "    </tr>\n",
       "  </tbody>\n",
       "</table>\n",
       "<p>5 rows × 2025 columns</p>\n",
       "</div>"
      ],
      "text/plain": [
       "  label        0        1          2       3        4      5          6  \\\n",
       "0  FAKE      can     fear  hillary's   smell      you      a     abedin   \n",
       "1  FAKE        a       at  committed   exact   moment   paul  political   \n",
       "2  REAL  gesture       go         in   kerry       of  paris   sympathy   \n",
       "3  FAKE      'we  against      anger  bernie      dnc  erupt         in   \n",
       "4  REAL   battle  matters        new      of  primary    the       this   \n",
       "\n",
       "       7           8  ... 2014 2015 2016 2017 2018 2019 2020 2021 2022 2023  \n",
       "0  about      abuses  ...                                                    \n",
       "1  rally        ryan  ...                                                    \n",
       "2     to           a  ...                                                    \n",
       "3     on  supporters  ...                                                    \n",
       "4    why        york  ...                                                    \n",
       "\n",
       "[5 rows x 2025 columns]"
      ]
     },
     "execution_count": 17,
     "metadata": {},
     "output_type": "execute_result"
    }
   ],
   "source": [
    "#expand only the combo array into new columns\n",
    "combo_expand_array_df = join_array_df.loc[:,[\"label\"]]\n",
    "\n",
    "# Create new columns for each element in the arrays and this keep the dtype as an object for each column\n",
    "# combo_array_columns = join_array_df['combo_array'].apply(lambda x: pd.Series(x, dtype='object'))\n",
    "\n",
    "# Create new columns for each element in the arrays and this keep the dtype as an STRING for each column\n",
    "combo_array_columns = pd.DataFrame(join_array_df['combo_array'].tolist(), dtype='string')\n",
    "\n",
    "\n",
    "# Concatenate the new columns with the original DataFrame\n",
    "combo_expand_array_df = pd.concat([combo_expand_array_df, combo_array_columns], axis=1)\n",
    "\n",
    "#fill in na to \"none\"\n",
    "combo_expand_array_df = combo_expand_array_df.fillna(\"\")\n",
    "\n",
    "combo_expand_array_df.head()"
   ]
  },
  {
   "cell_type": "code",
   "execution_count": 18,
   "id": "d7c9180e",
   "metadata": {
    "colab": {
     "base_uri": "https://localhost:8080/"
    },
    "id": "d7c9180e",
    "outputId": "81da75d9-8056-428f-815b-14909e2cb42e"
   },
   "outputs": [
    {
     "data": {
      "text/plain": [
       "label    string\n",
       "0        string\n",
       "1        string\n",
       "2        string\n",
       "3        string\n",
       "          ...  \n",
       "2019     string\n",
       "2020     string\n",
       "2021     string\n",
       "2022     string\n",
       "2023     string\n",
       "Length: 2025, dtype: object"
      ]
     },
     "execution_count": 18,
     "metadata": {},
     "output_type": "execute_result"
    }
   ],
   "source": [
    "combo_expand_array_df.dtypes"
   ]
  },
  {
   "cell_type": "markdown",
   "id": "d7289916",
   "metadata": {
    "id": "d7289916"
   },
   "source": [
    "## Step 3 - Train and test data "
   ]
  },
  {
   "cell_type": "code",
   "execution_count": 19,
   "id": "f5679ead",
   "metadata": {
    "id": "f5679ead"
   },
   "outputs": [],
   "source": [
    "from sklearn.compose import ColumnTransformer\n",
    "from sklearn.pipeline import Pipeline\n",
    "from sklearn.preprocessing import OneHotEncoder\n",
    "from sklearn.model_selection import train_test_split\n",
    "\n",
    "\n",
    "# Drop 'label' column for X and assign 'label' column to y\n",
    "X = combo_expand_array_df.drop('label', axis=1)\n",
    "y = combo_expand_array_df['label']\n",
    "\n",
    "# Create a column transformer with a pipeline for one-hot encoding each column\n",
    "transformers = []\n",
    "\n",
    "for i in range(len(X.columns)):\n",
    "    transformers.append((str(i), Pipeline([('onehot', OneHotEncoder())]), [i]))\n",
    "\n",
    "ct = ColumnTransformer(transformers=transformers, remainder='passthrough')\n",
    "\n",
    "# Fit and transform X\n",
    "X_transformed = ct.fit_transform(X)\n",
    "\n",
    "# Split the data into training and testing sets\n",
    "X_train, X_test, y_train, y_test = train_test_split(X_transformed, y, test_size=1/3, random_state=0)"
   ]
  },
  {
   "cell_type": "code",
   "execution_count": 20,
   "id": "31d57627",
   "metadata": {
    "colab": {
     "base_uri": "https://localhost:8080/"
    },
    "id": "31d57627",
    "outputId": "b8b9bd01-9282-4206-97be-a1af9203b9c3"
   },
   "outputs": [
    {
     "name": "stdout",
     "output_type": "stream",
     "text": [
      "           0           1              2       3          4           5     \\\n",
      "0           can        fear      hillary's   smell        you           a   \n",
      "1             a          at      committed   exact     moment        paul   \n",
      "2       gesture          go             in   kerry         of       paris   \n",
      "3           'we     against          anger  bernie        dnc       erupt   \n",
      "4        battle     matters            new      of    primary         the   \n",
      "...         ...         ...            ...     ...        ...         ...   \n",
      "6310      can't     clinton     department  emails       find        from   \n",
      "6311        'p'  'pentagon'  'plutocratic'     for         in          or   \n",
      "6312  antitrump         are    information      of  oligarchy  protesters   \n",
      "6313     africa        east       ethiopia      in      obama          on   \n",
      "6314  attacking        bush         here's      is        jeb     matters   \n",
      "\n",
      "           6         7           8        9     ... 2014 2015 2016 2017 2018  \\\n",
      "0        abedin     about      abuses  accused  ...                            \n",
      "1     political     rally        ryan  suicide  ...                            \n",
      "2      sympathy        to           a    about  ...                            \n",
      "3            in        on  supporters      the  ...                            \n",
      "4          this       why        york        a  ...                            \n",
      "...         ...       ...         ...      ...  ...  ...  ...  ...  ...  ...   \n",
      "6310         it      says  specialist    state  ...                            \n",
      "6311        pbs    should       stand      the  ...                            \n",
      "6312        the     tools           a    about  ...                            \n",
      "6313      peace  progress    security    seeks  ...                            \n",
      "6314   suddenly      that       trump      why  ...                            \n",
      "\n",
      "     2019 2020 2021 2022 2023  \n",
      "0                              \n",
      "1                              \n",
      "2                              \n",
      "3                              \n",
      "4                              \n",
      "...   ...  ...  ...  ...  ...  \n",
      "6310                           \n",
      "6311                           \n",
      "6312                           \n",
      "6313                           \n",
      "6314                           \n",
      "\n",
      "[6315 rows x 2024 columns]\n"
     ]
    }
   ],
   "source": [
    "print(X)"
   ]
  },
  {
   "cell_type": "code",
   "execution_count": 21,
   "id": "73c9d096",
   "metadata": {
    "colab": {
     "base_uri": "https://localhost:8080/"
    },
    "id": "73c9d096",
    "outputId": "df9c6182-560f-4a8f-cde1-1b6fb2af85ee"
   },
   "outputs": [
    {
     "name": "stdout",
     "output_type": "stream",
     "text": [
      "0       FAKE\n",
      "1       FAKE\n",
      "2       REAL\n",
      "3       FAKE\n",
      "4       REAL\n",
      "        ... \n",
      "6310    REAL\n",
      "6311    FAKE\n",
      "6312    FAKE\n",
      "6313    REAL\n",
      "6314    REAL\n",
      "Name: label, Length: 6315, dtype: string\n"
     ]
    }
   ],
   "source": [
    "print(y)"
   ]
  },
  {
   "cell_type": "markdown",
   "id": "366497e6",
   "metadata": {
    "id": "366497e6"
   },
   "source": [
    "### Feature Scaling"
   ]
  },
  {
   "cell_type": "code",
   "execution_count": 22,
   "id": "28853181",
   "metadata": {
    "id": "28853181"
   },
   "outputs": [],
   "source": [
    "from sklearn.preprocessing import StandardScaler\n",
    "scaler = StandardScaler(with_mean=False)\n",
    "X_train = scaler.fit_transform(X_train)\n",
    "X_test = scaler.transform(X_test)"
   ]
  },
  {
   "cell_type": "code",
   "execution_count": 23,
   "id": "e6a05973",
   "metadata": {
    "colab": {
     "base_uri": "https://localhost:8080/"
    },
    "id": "e6a05973",
    "outputId": "37275db5-1488-4b68-c439-34ed84a165ac"
   },
   "outputs": [
    {
     "name": "stdout",
     "output_type": "stream",
     "text": [
      "  (0, 422)\t45.89118080072871\n",
      "  (0, 2095)\t8.110789869874553\n",
      "  (0, 4314)\t26.50788738996085\n",
      "  (0, 6762)\t37.474445245134085\n",
      "  (0, 9408)\t45.89118080072871\n",
      "  (0, 11968)\t64.89222016225153\n",
      "  (0, 14564)\t64.89222016225153\n",
      "  (0, 17126)\t64.89222016225153\n",
      "  (0, 19552)\t64.89222016225153\n",
      "  (0, 21878)\t64.89222016225153\n",
      "  (0, 24043)\t64.89222016225153\n",
      "  (0, 25992)\t64.89222016225153\n",
      "  (0, 27841)\t64.89222016225153\n",
      "  (0, 29594)\t45.89118080072871\n",
      "  (0, 31164)\t32.45767938442841\n",
      "  (0, 32648)\t32.45767938442841\n",
      "  (0, 34137)\t64.89222016225153\n",
      "  (0, 35620)\t22.961966463160493\n",
      "  (0, 35766)\t9.724523632409163\n",
      "  (0, 37267)\t10.062215064960952\n",
      "  (0, 38891)\t26.50788738996085\n",
      "  (0, 40554)\t8.806741259355425\n",
      "  (0, 42003)\t5.961379048973364\n",
      "  (0, 43446)\t5.41218292626685\n",
      "  (0, 45000)\t32.45767938442841\n",
      "  :\t:\n",
      "  (4209, 1210797)\t45.89118080072871\n",
      "  (4209, 1210801)\t45.89118080072871\n",
      "  (4209, 1210805)\t45.89118080072871\n",
      "  (4209, 1210809)\t45.89118080072871\n",
      "  (4209, 1210813)\t45.89118080072871\n",
      "  (4209, 1210817)\t45.89118080072871\n",
      "  (4209, 1210821)\t64.89222016225155\n",
      "  (4209, 1210824)\t64.89222016225155\n",
      "  (4209, 1210827)\t64.89222016225155\n",
      "  (4209, 1210830)\t64.89222016225155\n",
      "  (4209, 1210833)\t64.89222016225155\n",
      "  (4209, 1210836)\t64.89222016225155\n",
      "  (4209, 1210839)\t64.89222016225155\n",
      "  (4209, 1210842)\t64.89222016225155\n",
      "  (4209, 1210845)\t64.89222016225155\n",
      "  (4209, 1210848)\t64.89222016225155\n",
      "  (4209, 1210851)\t64.89222016225155\n",
      "  (4209, 1210854)\t64.89222016225155\n",
      "  (4209, 1210857)\t64.89222016225155\n",
      "  (4209, 1210860)\t64.89222016225155\n",
      "  (4209, 1210863)\t64.89222016225155\n",
      "  (4209, 1210866)\t64.89222016225155\n",
      "  (4209, 1210869)\t64.89222016225155\n",
      "  (4209, 1210871)\t64.89222016225155\n",
      "  (4209, 1210873)\t64.89222016225155\n"
     ]
    }
   ],
   "source": [
    "print(X_train)"
   ]
  },
  {
   "cell_type": "code",
   "execution_count": 24,
   "id": "6e57722a",
   "metadata": {
    "colab": {
     "base_uri": "https://localhost:8080/"
    },
    "id": "6e57722a",
    "outputId": "699d5832-cf41-4de7-ffc7-638f5fc4f115"
   },
   "outputs": [
    {
     "name": "stdout",
     "output_type": "stream",
     "text": [
      "  (0, 740)\t64.89222016225153\n",
      "  (0, 2550)\t24.544454300424192\n",
      "  (0, 5247)\t37.474445245134085\n",
      "  (0, 7878)\t10.573484857204534\n",
      "  (0, 10448)\t7.462838281112977\n",
      "  (0, 13502)\t1.0\n",
      "  (0, 16460)\t6.325172732950989\n",
      "  (0, 18845)\t13.869711225102826\n",
      "  (0, 21152)\t1.0\n",
      "  (0, 21397)\t3.233386807617923\n",
      "  (0, 23668)\t17.370020789430523\n",
      "  (0, 25570)\t11.88867151395925\n",
      "  (0, 27563)\t32.45767938442841\n",
      "  (0, 29220)\t1.0\n",
      "  (0, 30745)\t8.728805898332102\n",
      "  (0, 32212)\t15.768675061648988\n",
      "  (0, 33605)\t7.932728527792043\n",
      "  (0, 34966)\t5.961379048973364\n",
      "  (0, 36458)\t64.89222016225153\n",
      "  (0, 37910)\t8.507064455259158\n",
      "  (0, 39316)\t1.0\n",
      "  (0, 40844)\t19.589024794476707\n",
      "  (0, 42318)\t10.573484857204534\n",
      "  (0, 43857)\t1.0\n",
      "  (0, 45500)\t20.54269653556662\n",
      "  :\t:\n",
      "  (2104, 1210797)\t45.89118080072871\n",
      "  (2104, 1210801)\t45.89118080072871\n",
      "  (2104, 1210805)\t45.89118080072871\n",
      "  (2104, 1210809)\t45.89118080072871\n",
      "  (2104, 1210813)\t45.89118080072871\n",
      "  (2104, 1210817)\t45.89118080072871\n",
      "  (2104, 1210821)\t64.89222016225155\n",
      "  (2104, 1210824)\t64.89222016225155\n",
      "  (2104, 1210827)\t64.89222016225155\n",
      "  (2104, 1210830)\t64.89222016225155\n",
      "  (2104, 1210833)\t64.89222016225155\n",
      "  (2104, 1210836)\t64.89222016225155\n",
      "  (2104, 1210839)\t64.89222016225155\n",
      "  (2104, 1210842)\t64.89222016225155\n",
      "  (2104, 1210845)\t64.89222016225155\n",
      "  (2104, 1210848)\t64.89222016225155\n",
      "  (2104, 1210851)\t64.89222016225155\n",
      "  (2104, 1210854)\t64.89222016225155\n",
      "  (2104, 1210857)\t64.89222016225155\n",
      "  (2104, 1210860)\t64.89222016225155\n",
      "  (2104, 1210863)\t64.89222016225155\n",
      "  (2104, 1210866)\t64.89222016225155\n",
      "  (2104, 1210869)\t64.89222016225155\n",
      "  (2104, 1210871)\t64.89222016225155\n",
      "  (2104, 1210873)\t64.89222016225155\n"
     ]
    }
   ],
   "source": [
    "print(X_test)"
   ]
  },
  {
   "cell_type": "markdown",
   "id": "e55a4056",
   "metadata": {
    "id": "e55a4056"
   },
   "source": [
    "### Training the Logistic Regression model on the Training set"
   ]
  },
  {
   "cell_type": "code",
   "execution_count": 25,
   "id": "35924162",
   "metadata": {
    "colab": {
     "base_uri": "https://localhost:8080/",
     "height": 74
    },
    "id": "35924162",
    "outputId": "d82720c7-8d86-49aa-8764-a516f27db026"
   },
   "outputs": [
    {
     "data": {
      "text/html": [
       "<style>#sk-container-id-1 {color: black;background-color: white;}#sk-container-id-1 pre{padding: 0;}#sk-container-id-1 div.sk-toggleable {background-color: white;}#sk-container-id-1 label.sk-toggleable__label {cursor: pointer;display: block;width: 100%;margin-bottom: 0;padding: 0.3em;box-sizing: border-box;text-align: center;}#sk-container-id-1 label.sk-toggleable__label-arrow:before {content: \"▸\";float: left;margin-right: 0.25em;color: #696969;}#sk-container-id-1 label.sk-toggleable__label-arrow:hover:before {color: black;}#sk-container-id-1 div.sk-estimator:hover label.sk-toggleable__label-arrow:before {color: black;}#sk-container-id-1 div.sk-toggleable__content {max-height: 0;max-width: 0;overflow: hidden;text-align: left;background-color: #f0f8ff;}#sk-container-id-1 div.sk-toggleable__content pre {margin: 0.2em;color: black;border-radius: 0.25em;background-color: #f0f8ff;}#sk-container-id-1 input.sk-toggleable__control:checked~div.sk-toggleable__content {max-height: 200px;max-width: 100%;overflow: auto;}#sk-container-id-1 input.sk-toggleable__control:checked~label.sk-toggleable__label-arrow:before {content: \"▾\";}#sk-container-id-1 div.sk-estimator input.sk-toggleable__control:checked~label.sk-toggleable__label {background-color: #d4ebff;}#sk-container-id-1 div.sk-label input.sk-toggleable__control:checked~label.sk-toggleable__label {background-color: #d4ebff;}#sk-container-id-1 input.sk-hidden--visually {border: 0;clip: rect(1px 1px 1px 1px);clip: rect(1px, 1px, 1px, 1px);height: 1px;margin: -1px;overflow: hidden;padding: 0;position: absolute;width: 1px;}#sk-container-id-1 div.sk-estimator {font-family: monospace;background-color: #f0f8ff;border: 1px dotted black;border-radius: 0.25em;box-sizing: border-box;margin-bottom: 0.5em;}#sk-container-id-1 div.sk-estimator:hover {background-color: #d4ebff;}#sk-container-id-1 div.sk-parallel-item::after {content: \"\";width: 100%;border-bottom: 1px solid gray;flex-grow: 1;}#sk-container-id-1 div.sk-label:hover label.sk-toggleable__label {background-color: #d4ebff;}#sk-container-id-1 div.sk-serial::before {content: \"\";position: absolute;border-left: 1px solid gray;box-sizing: border-box;top: 0;bottom: 0;left: 50%;z-index: 0;}#sk-container-id-1 div.sk-serial {display: flex;flex-direction: column;align-items: center;background-color: white;padding-right: 0.2em;padding-left: 0.2em;position: relative;}#sk-container-id-1 div.sk-item {position: relative;z-index: 1;}#sk-container-id-1 div.sk-parallel {display: flex;align-items: stretch;justify-content: center;background-color: white;position: relative;}#sk-container-id-1 div.sk-item::before, #sk-container-id-1 div.sk-parallel-item::before {content: \"\";position: absolute;border-left: 1px solid gray;box-sizing: border-box;top: 0;bottom: 0;left: 50%;z-index: -1;}#sk-container-id-1 div.sk-parallel-item {display: flex;flex-direction: column;z-index: 1;position: relative;background-color: white;}#sk-container-id-1 div.sk-parallel-item:first-child::after {align-self: flex-end;width: 50%;}#sk-container-id-1 div.sk-parallel-item:last-child::after {align-self: flex-start;width: 50%;}#sk-container-id-1 div.sk-parallel-item:only-child::after {width: 0;}#sk-container-id-1 div.sk-dashed-wrapped {border: 1px dashed gray;margin: 0 0.4em 0.5em 0.4em;box-sizing: border-box;padding-bottom: 0.4em;background-color: white;}#sk-container-id-1 div.sk-label label {font-family: monospace;font-weight: bold;display: inline-block;line-height: 1.2em;}#sk-container-id-1 div.sk-label-container {text-align: center;}#sk-container-id-1 div.sk-container {/* jupyter's `normalize.less` sets `[hidden] { display: none; }` but bootstrap.min.css set `[hidden] { display: none !important; }` so we also need the `!important` here to be able to override the default hidden behavior on the sphinx rendered scikit-learn.org. See: https://github.com/scikit-learn/scikit-learn/issues/21755 */display: inline-block !important;position: relative;}#sk-container-id-1 div.sk-text-repr-fallback {display: none;}</style><div id=\"sk-container-id-1\" class=\"sk-top-container\"><div class=\"sk-text-repr-fallback\"><pre>RandomForestClassifier(criterion=&#x27;entropy&#x27;, n_estimators=10, random_state=0)</pre><b>In a Jupyter environment, please rerun this cell to show the HTML representation or trust the notebook. <br />On GitHub, the HTML representation is unable to render, please try loading this page with nbviewer.org.</b></div><div class=\"sk-container\" hidden><div class=\"sk-item\"><div class=\"sk-estimator sk-toggleable\"><input class=\"sk-toggleable__control sk-hidden--visually\" id=\"sk-estimator-id-1\" type=\"checkbox\" checked><label for=\"sk-estimator-id-1\" class=\"sk-toggleable__label sk-toggleable__label-arrow\">RandomForestClassifier</label><div class=\"sk-toggleable__content\"><pre>RandomForestClassifier(criterion=&#x27;entropy&#x27;, n_estimators=10, random_state=0)</pre></div></div></div></div></div>"
      ],
      "text/plain": [
       "RandomForestClassifier(criterion='entropy', n_estimators=10, random_state=0)"
      ]
     },
     "execution_count": 25,
     "metadata": {},
     "output_type": "execute_result"
    }
   ],
   "source": [
    "from sklearn.ensemble import RandomForestClassifier\n",
    "classifier = RandomForestClassifier(n_estimators = 10, criterion = 'entropy', random_state = 0)\n",
    "classifier.fit(X_train, y_train)"
   ]
  },
  {
   "cell_type": "markdown",
   "id": "39843eb4",
   "metadata": {
    "id": "39843eb4"
   },
   "source": [
    "### Predicting the Test set results"
   ]
  },
  {
   "cell_type": "code",
   "execution_count": 26,
   "id": "077c9822",
   "metadata": {
    "id": "077c9822"
   },
   "outputs": [],
   "source": [
    "# Make predictions on the test set\n",
    "y_pred = classifier.predict(X_test)"
   ]
  },
  {
   "cell_type": "markdown",
   "id": "bd974ef9",
   "metadata": {
    "id": "bd974ef9"
   },
   "source": [
    "### Making the Confusion Matrix"
   ]
  },
  {
   "cell_type": "code",
   "execution_count": 27,
   "id": "57b9e9fe",
   "metadata": {
    "colab": {
     "base_uri": "https://localhost:8080/"
    },
    "id": "57b9e9fe",
    "outputId": "07402ec4-a5ff-4b9a-dbe1-9205476fa6cf"
   },
   "outputs": [
    {
     "name": "stdout",
     "output_type": "stream",
     "text": [
      "[[726 340]\n",
      " [337 702]]\n"
     ]
    },
    {
     "data": {
      "text/plain": [
       "0.6783847980997625"
      ]
     },
     "execution_count": 27,
     "metadata": {},
     "output_type": "execute_result"
    }
   ],
   "source": [
    "from sklearn.metrics import confusion_matrix, accuracy_score\n",
    "cm = confusion_matrix(y_test, y_pred)\n",
    "print(cm)\n",
    "accuracy_score(y_test, y_pred)"
   ]
  },
  {
   "cell_type": "markdown",
   "id": "17e0e706",
   "metadata": {},
   "source": [
    "### Make Classification Report"
   ]
  },
  {
   "cell_type": "code",
   "execution_count": 32,
   "id": "3ab34886",
   "metadata": {},
   "outputs": [
    {
     "name": "stdout",
     "output_type": "stream",
     "text": [
      "              precision    recall  f1-score   support\n",
      "\n",
      "        FAKE       0.68      0.68      0.68      1066\n",
      "        REAL       0.67      0.68      0.67      1039\n",
      "\n",
      "    accuracy                           0.68      2105\n",
      "   macro avg       0.68      0.68      0.68      2105\n",
      "weighted avg       0.68      0.68      0.68      2105\n",
      "\n"
     ]
    }
   ],
   "source": [
    "from sklearn.metrics import classification_report\n",
    "\n",
    "# Generate and print the classification report\n",
    "report = classification_report(y_test, y_pred)\n",
    "\n",
    "print(report)"
   ]
  },
  {
   "cell_type": "markdown",
   "id": "56c95afd",
   "metadata": {
    "id": "56c95afd"
   },
   "source": [
    "### Visualising the results"
   ]
  },
  {
   "cell_type": "code",
   "execution_count": 29,
   "id": "-s1Y-JeBxrqL",
   "metadata": {
    "colab": {
     "base_uri": "https://localhost:8080/",
     "height": 581
    },
    "id": "-s1Y-JeBxrqL",
    "outputId": "b386052f-437c-4d14-dfe0-238b30fed5b0"
   },
   "outputs": [
    {
     "data": {
      "image/png": "[encoded data removed]",
      "text/plain": [
       "<Figure size 800x600 with 1 Axes>"
      ]
     },
     "metadata": {},
     "output_type": "display_data"
    },
    {
     "name": "stdout",
     "output_type": "stream",
     "text": [
      "Accuracy: 67.84%\n"
     ]
    }
   ],
   "source": [
    "import seaborn as sns\n",
    "# Create a DataFrame with actual and predicted labels\n",
    "results_df = pd.DataFrame({'Actual': y_test, 'Predicted': y_pred})\n",
    "\n",
    "# Create a confusion matrix\n",
    "conf_matrix = confusion_matrix(results_df['Actual'], results_df['Predicted'])\n",
    "\n",
    "# Map the actual and predicted labels to \"Correctly Predicted\" and \"Incorrectly Predicted\"\n",
    "results_df['Outcome'] = results_df.apply(lambda row: 'Correctly Predicted' if row['Actual'] == row['Predicted'] else 'Incorrectly Predicted', axis=1)\n",
    "\n",
    "# Plot the count of correct and incorrect predictions\n",
    "plt.figure(figsize=(8, 6))\n",
    "sns.countplot(x='Outcome', data=results_df, palette='Set2')\n",
    "\n",
    "plt.title('Random Forrest Classification - All Data - Count of Correct and Incorrect Predictions')\n",
    "plt.xlabel('Prediction Outcome')\n",
    "plt.ylabel('Count')\n",
    "plt.show()\n",
    "\n",
    "# Calculate accuracy\n",
    "accuracy = accuracy_score(y_test, y_pred)\n",
    "print(f'Accuracy: {accuracy * 100:.2f}%')"
   ]
  },
  {
   "cell_type": "code",
   "execution_count": null,
   "id": "39d4c4b9",
   "metadata": {
    "id": "39d4c4b9"
   },
   "outputs": [],
   "source": []
  },
  {
   "cell_type": "code",
   "execution_count": null,
   "id": "da678e63",
   "metadata": {
    "id": "da678e63"
   },
   "outputs": [],
   "source": []
  },
  {
   "cell_type": "code",
   "execution_count": null,
   "id": "2210d37e",
   "metadata": {
    "id": "2210d37e"
   },
   "outputs": [],
   "source": []
  },
  {
   "cell_type": "code",
   "execution_count": null,
   "id": "3d79e816",
   "metadata": {
    "id": "3d79e816"
   },
   "outputs": [],
   "source": []
  },
  {
   "cell_type": "code",
   "execution_count": null,
   "id": "0ceecdf2",
   "metadata": {
    "id": "0ceecdf2"
   },
   "outputs": [],
   "source": []
  },
  {
   "cell_type": "code",
   "execution_count": null,
   "id": "9ff1cbdf",
   "metadata": {
    "id": "9ff1cbdf"
   },
   "outputs": [],
   "source": []
  },
  {
   "cell_type": "code",
   "execution_count": null,
   "id": "0801dbf4",
   "metadata": {
    "id": "0801dbf4"
   },
   "outputs": [],
   "source": []
  },
  {
   "cell_type": "code",
   "execution_count": null,
   "id": "09c6d0ed",
   "metadata": {
    "id": "09c6d0ed"
   },
   "outputs": [],
   "source": []
  }
 ],
 "metadata": {
  "colab": {
   "provenance": []
  },
  "kernelspec": {
   "display_name": "python3_data",
   "language": "python",
   "name": "python3_data"
  },
  "language_info": {
   "codemirror_mode": {
    "name": "ipython",
    "version": 3
   },
   "file_extension": ".py",
   "mimetype": "text/x-python",
   "name": "python",
   "nbconvert_exporter": "python",
   "pygments_lexer": "ipython3",
   "version": "3.9.7"
  }
 },
 "nbformat": 4,
 "nbformat_minor": 5
}
