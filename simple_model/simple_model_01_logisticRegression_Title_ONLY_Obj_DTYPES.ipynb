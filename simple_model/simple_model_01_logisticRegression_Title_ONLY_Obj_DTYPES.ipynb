{
 "cells": [
  {
   "cell_type": "code",
   "execution_count": 1,
   "id": "8d088d74",
   "metadata": {
    "id": "8d088d74"
   },
   "outputs": [],
   "source": [
    "import pandas as pd\n",
    "from pathlib import Path\n",
    "import matplotlib.pyplot as plt\n",
    "import numpy as np\n",
    "%matplotlib inline\n",
    "import warnings"
   ]
  },
  {
   "cell_type": "code",
   "execution_count": 2,
   "id": "60cf8130",
   "metadata": {
    "colab": {
     "base_uri": "https://localhost:8080/",
     "height": 362
    },
    "id": "60cf8130",
    "outputId": "dff538d2-09e6-4389-9f5d-4095db2514fd"
   },
   "outputs": [
    {
     "data": {
      "text/html": [
       "<div>\n",
       "<style scoped>\n",
       "    .dataframe tbody tr th:only-of-type {\n",
       "        vertical-align: middle;\n",
       "    }\n",
       "\n",
       "    .dataframe tbody tr th {\n",
       "        vertical-align: top;\n",
       "    }\n",
       "\n",
       "    .dataframe thead th {\n",
       "        text-align: right;\n",
       "    }\n",
       "</style>\n",
       "<table border=\"1\" class=\"dataframe\">\n",
       "  <thead>\n",
       "    <tr style=\"text-align: right;\">\n",
       "      <th></th>\n",
       "      <th>id</th>\n",
       "      <th>title</th>\n",
       "      <th>text</th>\n",
       "      <th>label</th>\n",
       "    </tr>\n",
       "  </thead>\n",
       "  <tbody>\n",
       "    <tr>\n",
       "      <th>0</th>\n",
       "      <td>8476.0</td>\n",
       "      <td>You Can Smell Hillary’s Fear</td>\n",
       "      <td>Daniel Greenfield, a Shillman Journalism Fello...</td>\n",
       "      <td>FAKE</td>\n",
       "    </tr>\n",
       "    <tr>\n",
       "      <th>1</th>\n",
       "      <td>10294.0</td>\n",
       "      <td>Watch The Exact Moment Paul Ryan Committed Pol...</td>\n",
       "      <td>Google Pinterest Digg Linkedin Reddit Stumbleu...</td>\n",
       "      <td>FAKE</td>\n",
       "    </tr>\n",
       "    <tr>\n",
       "      <th>2</th>\n",
       "      <td>3608.0</td>\n",
       "      <td>Kerry to go to Paris in gesture of sympathy</td>\n",
       "      <td>U.S. Secretary of State John F. Kerry said Mon...</td>\n",
       "      <td>REAL</td>\n",
       "    </tr>\n",
       "    <tr>\n",
       "      <th>3</th>\n",
       "      <td>10142.0</td>\n",
       "      <td>Bernie supporters on Twitter erupt in anger ag...</td>\n",
       "      <td>— Kaydee King (@KaydeeKing) November 9, 2016 T...</td>\n",
       "      <td>FAKE</td>\n",
       "    </tr>\n",
       "    <tr>\n",
       "      <th>4</th>\n",
       "      <td>875.0</td>\n",
       "      <td>The Battle of New York: Why This Primary Matters</td>\n",
       "      <td>It's primary day in New York and front-runners...</td>\n",
       "      <td>REAL</td>\n",
       "    </tr>\n",
       "    <tr>\n",
       "      <th>5</th>\n",
       "      <td>6903.0</td>\n",
       "      <td>Tehran, USA</td>\n",
       "      <td>\\nI’m not an immigrant, but my grandparents ...</td>\n",
       "      <td>FAKE</td>\n",
       "    </tr>\n",
       "    <tr>\n",
       "      <th>6</th>\n",
       "      <td>7341.0</td>\n",
       "      <td>Girl Horrified At What She Watches Boyfriend D...</td>\n",
       "      <td>Share This Baylee Luciani (left), Screenshot o...</td>\n",
       "      <td>FAKE</td>\n",
       "    </tr>\n",
       "    <tr>\n",
       "      <th>7</th>\n",
       "      <td>95.0</td>\n",
       "      <td>‘Britain’s Schindler’ Dies at 106</td>\n",
       "      <td>A Czech stockbroker who saved more than 650 Je...</td>\n",
       "      <td>REAL</td>\n",
       "    </tr>\n",
       "    <tr>\n",
       "      <th>8</th>\n",
       "      <td>4869.0</td>\n",
       "      <td>Fact check: Trump and Clinton at the 'commande...</td>\n",
       "      <td>Hillary Clinton and Donald Trump made some ina...</td>\n",
       "      <td>REAL</td>\n",
       "    </tr>\n",
       "    <tr>\n",
       "      <th>9</th>\n",
       "      <td>2909.0</td>\n",
       "      <td>Iran reportedly makes new push for uranium con...</td>\n",
       "      <td>Iranian negotiators reportedly have made a las...</td>\n",
       "      <td>REAL</td>\n",
       "    </tr>\n",
       "  </tbody>\n",
       "</table>\n",
       "</div>"
      ],
      "text/plain": [
       "        id                                              title  \\\n",
       "0   8476.0                       You Can Smell Hillary’s Fear   \n",
       "1  10294.0  Watch The Exact Moment Paul Ryan Committed Pol...   \n",
       "2   3608.0        Kerry to go to Paris in gesture of sympathy   \n",
       "3  10142.0  Bernie supporters on Twitter erupt in anger ag...   \n",
       "4    875.0   The Battle of New York: Why This Primary Matters   \n",
       "5   6903.0                                        Tehran, USA   \n",
       "6   7341.0  Girl Horrified At What She Watches Boyfriend D...   \n",
       "7     95.0                  ‘Britain’s Schindler’ Dies at 106   \n",
       "8   4869.0  Fact check: Trump and Clinton at the 'commande...   \n",
       "9   2909.0  Iran reportedly makes new push for uranium con...   \n",
       "\n",
       "                                                text label  \n",
       "0  Daniel Greenfield, a Shillman Journalism Fello...  FAKE  \n",
       "1  Google Pinterest Digg Linkedin Reddit Stumbleu...  FAKE  \n",
       "2  U.S. Secretary of State John F. Kerry said Mon...  REAL  \n",
       "3  — Kaydee King (@KaydeeKing) November 9, 2016 T...  FAKE  \n",
       "4  It's primary day in New York and front-runners...  REAL  \n",
       "5    \\nI’m not an immigrant, but my grandparents ...  FAKE  \n",
       "6  Share This Baylee Luciani (left), Screenshot o...  FAKE  \n",
       "7  A Czech stockbroker who saved more than 650 Je...  REAL  \n",
       "8  Hillary Clinton and Donald Trump made some ina...  REAL  \n",
       "9  Iranian negotiators reportedly have made a las...  REAL  "
      ]
     },
     "execution_count": 2,
     "metadata": {},
     "output_type": "execute_result"
    }
   ],
   "source": [
    "#Raw csv file from Github\n",
    "news_data = \"https://raw.githubusercontent.com/ml-truth-serum/fake_or_real_news/main/simple_model/Resources/Data/cleaned_news_df.csv\"\n",
    "\n",
    "# Read File\n",
    "news_df = pd.read_csv(news_data, header=0, encoding='utf-8')\n",
    "# Display sample data\n",
    "news_df.head(10)\n"
   ]
  },
  {
   "cell_type": "markdown",
   "id": "3852acbe",
   "metadata": {
    "id": "3852acbe"
   },
   "source": [
    "## Step 1 - Clean the data"
   ]
  },
  {
   "cell_type": "code",
   "execution_count": 3,
   "id": "d92a8132",
   "metadata": {
    "colab": {
     "base_uri": "https://localhost:8080/",
     "height": 174
    },
    "id": "d92a8132",
    "outputId": "94f4b1db-59a6-4aaa-f926-a62ba43e9a4c"
   },
   "outputs": [
    {
     "name": "stdout",
     "output_type": "stream",
     "text": [
      "<class 'pandas.core.frame.DataFrame'>\n",
      "RangeIndex: 6315 entries, 0 to 6314\n",
      "Data columns (total 4 columns):\n",
      " #   Column  Non-Null Count  Dtype  \n",
      "---  ------  --------------  -----  \n",
      " 0   id      6310 non-null   float64\n",
      " 1   title   6315 non-null   object \n",
      " 2   text    6315 non-null   object \n",
      " 3   label   6315 non-null   object \n",
      "dtypes: float64(1), object(3)\n",
      "memory usage: 197.5+ KB\n"
     ]
    }
   ],
   "source": [
    "#check count of all rows\n",
    "news_df.info()"
   ]
  },
  {
   "cell_type": "code",
   "execution_count": 4,
   "id": "7b43647f",
   "metadata": {
    "colab": {
     "base_uri": "https://localhost:8080/",
     "height": 206
    },
    "id": "7b43647f",
    "outputId": "7c72b45d-7070-4fe8-b090-6515e79cb5f6"
   },
   "outputs": [
    {
     "data": {
      "text/html": [
       "<div>\n",
       "<style scoped>\n",
       "    .dataframe tbody tr th:only-of-type {\n",
       "        vertical-align: middle;\n",
       "    }\n",
       "\n",
       "    .dataframe tbody tr th {\n",
       "        vertical-align: top;\n",
       "    }\n",
       "\n",
       "    .dataframe thead th {\n",
       "        text-align: right;\n",
       "    }\n",
       "</style>\n",
       "<table border=\"1\" class=\"dataframe\">\n",
       "  <thead>\n",
       "    <tr style=\"text-align: right;\">\n",
       "      <th></th>\n",
       "      <th>title</th>\n",
       "      <th>text</th>\n",
       "      <th>label</th>\n",
       "    </tr>\n",
       "  </thead>\n",
       "  <tbody>\n",
       "    <tr>\n",
       "      <th>0</th>\n",
       "      <td>You Can Smell Hillary’s Fear</td>\n",
       "      <td>Daniel Greenfield, a Shillman Journalism Fello...</td>\n",
       "      <td>FAKE</td>\n",
       "    </tr>\n",
       "    <tr>\n",
       "      <th>1</th>\n",
       "      <td>Watch The Exact Moment Paul Ryan Committed Pol...</td>\n",
       "      <td>Google Pinterest Digg Linkedin Reddit Stumbleu...</td>\n",
       "      <td>FAKE</td>\n",
       "    </tr>\n",
       "    <tr>\n",
       "      <th>2</th>\n",
       "      <td>Kerry to go to Paris in gesture of sympathy</td>\n",
       "      <td>U.S. Secretary of State John F. Kerry said Mon...</td>\n",
       "      <td>REAL</td>\n",
       "    </tr>\n",
       "    <tr>\n",
       "      <th>3</th>\n",
       "      <td>Bernie supporters on Twitter erupt in anger ag...</td>\n",
       "      <td>— Kaydee King (@KaydeeKing) November 9, 2016 T...</td>\n",
       "      <td>FAKE</td>\n",
       "    </tr>\n",
       "    <tr>\n",
       "      <th>4</th>\n",
       "      <td>The Battle of New York: Why This Primary Matters</td>\n",
       "      <td>It's primary day in New York and front-runners...</td>\n",
       "      <td>REAL</td>\n",
       "    </tr>\n",
       "  </tbody>\n",
       "</table>\n",
       "</div>"
      ],
      "text/plain": [
       "                                               title  \\\n",
       "0                       You Can Smell Hillary’s Fear   \n",
       "1  Watch The Exact Moment Paul Ryan Committed Pol...   \n",
       "2        Kerry to go to Paris in gesture of sympathy   \n",
       "3  Bernie supporters on Twitter erupt in anger ag...   \n",
       "4   The Battle of New York: Why This Primary Matters   \n",
       "\n",
       "                                                text label  \n",
       "0  Daniel Greenfield, a Shillman Journalism Fello...  FAKE  \n",
       "1  Google Pinterest Digg Linkedin Reddit Stumbleu...  FAKE  \n",
       "2  U.S. Secretary of State John F. Kerry said Mon...  REAL  \n",
       "3  — Kaydee King (@KaydeeKing) November 9, 2016 T...  FAKE  \n",
       "4  It's primary day in New York and front-runners...  REAL  "
      ]
     },
     "execution_count": 4,
     "metadata": {},
     "output_type": "execute_result"
    }
   ],
   "source": [
    "#drop the id column\n",
    "filter_df = news_df.loc[:,[\"title\", \"text\", \"label\"]]\n",
    "filter_df.head()"
   ]
  },
  {
   "cell_type": "markdown",
   "id": "4f1beb77",
   "metadata": {
    "id": "4f1beb77"
   },
   "source": [
    "## Step 2 - Get the columns that we need by transforming the columns"
   ]
  },
  {
   "cell_type": "code",
   "execution_count": 5,
   "id": "29148a6e",
   "metadata": {
    "colab": {
     "base_uri": "https://localhost:8080/",
     "height": 206
    },
    "id": "29148a6e",
    "outputId": "0a13fe2b-432a-4a39-b752-a979c1549a0f"
   },
   "outputs": [
    {
     "data": {
      "text/html": [
       "<div>\n",
       "<style scoped>\n",
       "    .dataframe tbody tr th:only-of-type {\n",
       "        vertical-align: middle;\n",
       "    }\n",
       "\n",
       "    .dataframe tbody tr th {\n",
       "        vertical-align: top;\n",
       "    }\n",
       "\n",
       "    .dataframe thead th {\n",
       "        text-align: right;\n",
       "    }\n",
       "</style>\n",
       "<table border=\"1\" class=\"dataframe\">\n",
       "  <thead>\n",
       "    <tr style=\"text-align: right;\">\n",
       "      <th></th>\n",
       "      <th>label</th>\n",
       "      <th>title_array</th>\n",
       "      <th>text_array</th>\n",
       "    </tr>\n",
       "  </thead>\n",
       "  <tbody>\n",
       "    <tr>\n",
       "      <th>0</th>\n",
       "      <td>FAKE</td>\n",
       "      <td>[You, Can, Smell, Hillary’s, Fear]</td>\n",
       "      <td>[Daniel, Greenfield,, a, Shillman, Journalism,...</td>\n",
       "    </tr>\n",
       "    <tr>\n",
       "      <th>1</th>\n",
       "      <td>FAKE</td>\n",
       "      <td>[Watch, The, Exact, Moment, Paul, Ryan, Commit...</td>\n",
       "      <td>[Google, Pinterest, Digg, Linkedin, Reddit, St...</td>\n",
       "    </tr>\n",
       "    <tr>\n",
       "      <th>2</th>\n",
       "      <td>REAL</td>\n",
       "      <td>[Kerry, to, go, to, Paris, in, gesture, of, sy...</td>\n",
       "      <td>[U.S., Secretary, of, State, John, F., Kerry, ...</td>\n",
       "    </tr>\n",
       "    <tr>\n",
       "      <th>3</th>\n",
       "      <td>FAKE</td>\n",
       "      <td>[Bernie, supporters, on, Twitter, erupt, in, a...</td>\n",
       "      <td>[—, Kaydee, King, (@KaydeeKing), November, 9,,...</td>\n",
       "    </tr>\n",
       "    <tr>\n",
       "      <th>4</th>\n",
       "      <td>REAL</td>\n",
       "      <td>[The, Battle, of, New, York:, Why, This, Prima...</td>\n",
       "      <td>[It's, primary, day, in, New, York, and, front...</td>\n",
       "    </tr>\n",
       "  </tbody>\n",
       "</table>\n",
       "</div>"
      ],
      "text/plain": [
       "  label                                        title_array  \\\n",
       "0  FAKE                 [You, Can, Smell, Hillary’s, Fear]   \n",
       "1  FAKE  [Watch, The, Exact, Moment, Paul, Ryan, Commit...   \n",
       "2  REAL  [Kerry, to, go, to, Paris, in, gesture, of, sy...   \n",
       "3  FAKE  [Bernie, supporters, on, Twitter, erupt, in, a...   \n",
       "4  REAL  [The, Battle, of, New, York:, Why, This, Prima...   \n",
       "\n",
       "                                          text_array  \n",
       "0  [Daniel, Greenfield,, a, Shillman, Journalism,...  \n",
       "1  [Google, Pinterest, Digg, Linkedin, Reddit, St...  \n",
       "2  [U.S., Secretary, of, State, John, F., Kerry, ...  \n",
       "3  [—, Kaydee, King, (@KaydeeKing), November, 9,,...  \n",
       "4  [It's, primary, day, in, New, York, and, front...  "
      ]
     },
     "execution_count": 5,
     "metadata": {},
     "output_type": "execute_result"
    }
   ],
   "source": [
    "# Splitting the 'TextColumn' for each row based on whitespace\n",
    "filter_df['title_array'] = filter_df['title'].apply(lambda x: x.split())\n",
    "filter_df['text_array'] = filter_df['text'].apply(lambda x: x.split())\n",
    "\n",
    "#only grab the label and the new array columns\n",
    "transform_array_df = filter_df[['label', 'title_array', 'text_array']]\n",
    "\n",
    "transform_array_df.head()"
   ]
  },
  {
   "cell_type": "code",
   "execution_count": 6,
   "id": "249c4fed",
   "metadata": {
    "colab": {
     "base_uri": "https://localhost:8080/",
     "height": 206
    },
    "id": "249c4fed",
    "outputId": "f384bb68-e717-4a24-8d67-c0be6ca3ce45"
   },
   "outputs": [
    {
     "data": {
      "text/html": [
       "<div>\n",
       "<style scoped>\n",
       "    .dataframe tbody tr th:only-of-type {\n",
       "        vertical-align: middle;\n",
       "    }\n",
       "\n",
       "    .dataframe tbody tr th {\n",
       "        vertical-align: top;\n",
       "    }\n",
       "\n",
       "    .dataframe thead th {\n",
       "        text-align: right;\n",
       "    }\n",
       "</style>\n",
       "<table border=\"1\" class=\"dataframe\">\n",
       "  <thead>\n",
       "    <tr style=\"text-align: right;\">\n",
       "      <th></th>\n",
       "      <th>label</th>\n",
       "      <th>combo_array</th>\n",
       "    </tr>\n",
       "  </thead>\n",
       "  <tbody>\n",
       "    <tr>\n",
       "      <th>0</th>\n",
       "      <td>FAKE</td>\n",
       "      <td>[You, Can, Smell, Hillary’s, Fear, Daniel, Gre...</td>\n",
       "    </tr>\n",
       "    <tr>\n",
       "      <th>1</th>\n",
       "      <td>FAKE</td>\n",
       "      <td>[Watch, The, Exact, Moment, Paul, Ryan, Commit...</td>\n",
       "    </tr>\n",
       "    <tr>\n",
       "      <th>2</th>\n",
       "      <td>REAL</td>\n",
       "      <td>[Kerry, to, go, to, Paris, in, gesture, of, sy...</td>\n",
       "    </tr>\n",
       "    <tr>\n",
       "      <th>3</th>\n",
       "      <td>FAKE</td>\n",
       "      <td>[Bernie, supporters, on, Twitter, erupt, in, a...</td>\n",
       "    </tr>\n",
       "    <tr>\n",
       "      <th>4</th>\n",
       "      <td>REAL</td>\n",
       "      <td>[The, Battle, of, New, York:, Why, This, Prima...</td>\n",
       "    </tr>\n",
       "  </tbody>\n",
       "</table>\n",
       "</div>"
      ],
      "text/plain": [
       "  label                                        combo_array\n",
       "0  FAKE  [You, Can, Smell, Hillary’s, Fear, Daniel, Gre...\n",
       "1  FAKE  [Watch, The, Exact, Moment, Paul, Ryan, Commit...\n",
       "2  REAL  [Kerry, to, go, to, Paris, in, gesture, of, sy...\n",
       "3  FAKE  [Bernie, supporters, on, Twitter, erupt, in, a...\n",
       "4  REAL  [The, Battle, of, New, York:, Why, This, Prima..."
      ]
     },
     "execution_count": 6,
     "metadata": {},
     "output_type": "execute_result"
    }
   ],
   "source": [
    "#join array together\n",
    "\n",
    "join_array_df = transform_array_df.loc[:,[\"label\"]]\n",
    "\n",
    "# Combine the arrays from both columns into a single array\n",
    "join_array_df['combo_array'] = transform_array_df.apply(lambda row: np.concatenate([row['title_array'], row['text_array']]), axis=1)\n",
    "\n",
    "\n",
    "join_array_df.head()"
   ]
  },
  {
   "cell_type": "markdown",
   "id": "793b3dc3",
   "metadata": {
    "id": "793b3dc3"
   },
   "source": [
    "### Title and Label Columns ONLY"
   ]
  },
  {
   "cell_type": "code",
   "execution_count": 7,
   "id": "e64da52a",
   "metadata": {
    "colab": {
     "base_uri": "https://localhost:8080/",
     "height": 235
    },
    "id": "e64da52a",
    "outputId": "d7b10c09-7c6b-4dba-ca8e-a8597bc61058"
   },
   "outputs": [
    {
     "data": {
      "text/html": [
       "<div>\n",
       "<style scoped>\n",
       "    .dataframe tbody tr th:only-of-type {\n",
       "        vertical-align: middle;\n",
       "    }\n",
       "\n",
       "    .dataframe tbody tr th {\n",
       "        vertical-align: top;\n",
       "    }\n",
       "\n",
       "    .dataframe thead th {\n",
       "        text-align: right;\n",
       "    }\n",
       "</style>\n",
       "<table border=\"1\" class=\"dataframe\">\n",
       "  <thead>\n",
       "    <tr style=\"text-align: right;\">\n",
       "      <th></th>\n",
       "      <th>label</th>\n",
       "      <th>0</th>\n",
       "      <th>1</th>\n",
       "      <th>2</th>\n",
       "      <th>3</th>\n",
       "      <th>4</th>\n",
       "      <th>5</th>\n",
       "      <th>6</th>\n",
       "      <th>7</th>\n",
       "      <th>8</th>\n",
       "      <th>...</th>\n",
       "      <th>43</th>\n",
       "      <th>44</th>\n",
       "      <th>45</th>\n",
       "      <th>46</th>\n",
       "      <th>47</th>\n",
       "      <th>48</th>\n",
       "      <th>49</th>\n",
       "      <th>50</th>\n",
       "      <th>51</th>\n",
       "      <th>52</th>\n",
       "    </tr>\n",
       "  </thead>\n",
       "  <tbody>\n",
       "    <tr>\n",
       "      <th>0</th>\n",
       "      <td>FAKE</td>\n",
       "      <td>You</td>\n",
       "      <td>Can</td>\n",
       "      <td>Smell</td>\n",
       "      <td>Hillary’s</td>\n",
       "      <td>Fear</td>\n",
       "      <td>NA</td>\n",
       "      <td>NA</td>\n",
       "      <td>NA</td>\n",
       "      <td>NA</td>\n",
       "      <td>...</td>\n",
       "      <td>NA</td>\n",
       "      <td>NA</td>\n",
       "      <td>NA</td>\n",
       "      <td>NA</td>\n",
       "      <td>NA</td>\n",
       "      <td>NA</td>\n",
       "      <td>NA</td>\n",
       "      <td>NA</td>\n",
       "      <td>NA</td>\n",
       "      <td>NA</td>\n",
       "    </tr>\n",
       "    <tr>\n",
       "      <th>1</th>\n",
       "      <td>FAKE</td>\n",
       "      <td>Watch</td>\n",
       "      <td>The</td>\n",
       "      <td>Exact</td>\n",
       "      <td>Moment</td>\n",
       "      <td>Paul</td>\n",
       "      <td>Ryan</td>\n",
       "      <td>Committed</td>\n",
       "      <td>Political</td>\n",
       "      <td>Suicide</td>\n",
       "      <td>...</td>\n",
       "      <td>NA</td>\n",
       "      <td>NA</td>\n",
       "      <td>NA</td>\n",
       "      <td>NA</td>\n",
       "      <td>NA</td>\n",
       "      <td>NA</td>\n",
       "      <td>NA</td>\n",
       "      <td>NA</td>\n",
       "      <td>NA</td>\n",
       "      <td>NA</td>\n",
       "    </tr>\n",
       "    <tr>\n",
       "      <th>2</th>\n",
       "      <td>REAL</td>\n",
       "      <td>Kerry</td>\n",
       "      <td>to</td>\n",
       "      <td>go</td>\n",
       "      <td>to</td>\n",
       "      <td>Paris</td>\n",
       "      <td>in</td>\n",
       "      <td>gesture</td>\n",
       "      <td>of</td>\n",
       "      <td>sympathy</td>\n",
       "      <td>...</td>\n",
       "      <td>NA</td>\n",
       "      <td>NA</td>\n",
       "      <td>NA</td>\n",
       "      <td>NA</td>\n",
       "      <td>NA</td>\n",
       "      <td>NA</td>\n",
       "      <td>NA</td>\n",
       "      <td>NA</td>\n",
       "      <td>NA</td>\n",
       "      <td>NA</td>\n",
       "    </tr>\n",
       "    <tr>\n",
       "      <th>3</th>\n",
       "      <td>FAKE</td>\n",
       "      <td>Bernie</td>\n",
       "      <td>supporters</td>\n",
       "      <td>on</td>\n",
       "      <td>Twitter</td>\n",
       "      <td>erupt</td>\n",
       "      <td>in</td>\n",
       "      <td>anger</td>\n",
       "      <td>against</td>\n",
       "      <td>the</td>\n",
       "      <td>...</td>\n",
       "      <td>NA</td>\n",
       "      <td>NA</td>\n",
       "      <td>NA</td>\n",
       "      <td>NA</td>\n",
       "      <td>NA</td>\n",
       "      <td>NA</td>\n",
       "      <td>NA</td>\n",
       "      <td>NA</td>\n",
       "      <td>NA</td>\n",
       "      <td>NA</td>\n",
       "    </tr>\n",
       "    <tr>\n",
       "      <th>4</th>\n",
       "      <td>REAL</td>\n",
       "      <td>The</td>\n",
       "      <td>Battle</td>\n",
       "      <td>of</td>\n",
       "      <td>New</td>\n",
       "      <td>York:</td>\n",
       "      <td>Why</td>\n",
       "      <td>This</td>\n",
       "      <td>Primary</td>\n",
       "      <td>Matters</td>\n",
       "      <td>...</td>\n",
       "      <td>NA</td>\n",
       "      <td>NA</td>\n",
       "      <td>NA</td>\n",
       "      <td>NA</td>\n",
       "      <td>NA</td>\n",
       "      <td>NA</td>\n",
       "      <td>NA</td>\n",
       "      <td>NA</td>\n",
       "      <td>NA</td>\n",
       "      <td>NA</td>\n",
       "    </tr>\n",
       "  </tbody>\n",
       "</table>\n",
       "<p>5 rows × 54 columns</p>\n",
       "</div>"
      ],
      "text/plain": [
       "  label       0           1      2          3      4     5          6  \\\n",
       "0  FAKE     You         Can  Smell  Hillary’s   Fear    NA         NA   \n",
       "1  FAKE   Watch         The  Exact     Moment   Paul  Ryan  Committed   \n",
       "2  REAL   Kerry          to     go         to  Paris    in    gesture   \n",
       "3  FAKE  Bernie  supporters     on    Twitter  erupt    in      anger   \n",
       "4  REAL     The      Battle     of        New  York:   Why       This   \n",
       "\n",
       "           7         8  ...  43  44  45  46  47  48  49  50  51  52  \n",
       "0         NA        NA  ...  NA  NA  NA  NA  NA  NA  NA  NA  NA  NA  \n",
       "1  Political   Suicide  ...  NA  NA  NA  NA  NA  NA  NA  NA  NA  NA  \n",
       "2         of  sympathy  ...  NA  NA  NA  NA  NA  NA  NA  NA  NA  NA  \n",
       "3    against       the  ...  NA  NA  NA  NA  NA  NA  NA  NA  NA  NA  \n",
       "4    Primary   Matters  ...  NA  NA  NA  NA  NA  NA  NA  NA  NA  NA  \n",
       "\n",
       "[5 rows x 54 columns]"
      ]
     },
     "execution_count": 7,
     "metadata": {},
     "output_type": "execute_result"
    }
   ],
   "source": [
    "#expand only the title array into new columns\n",
    "title_expand_array_df = transform_array_df.loc[:,[\"label\"]]\n",
    "\n",
    "# Create new columns for each element in the arrays\n",
    "title_array_columns = transform_array_df['title_array'].apply(lambda x: pd.Series(x, dtype='string'))\n",
    "\n",
    "# Concatenate the new columns with the original DataFrame\n",
    "title_expand_array_df = pd.concat([title_expand_array_df, title_array_columns], axis=1)\n",
    "\n",
    "#fill in na to \"none\"\n",
    "title_expand_array_df = title_expand_array_df.fillna(\"NA\")\n",
    "\n",
    "\n",
    "title_expand_array_df.head()"
   ]
  },
  {
   "cell_type": "code",
   "execution_count": 8,
   "id": "4f0d225d",
   "metadata": {
    "colab": {
     "base_uri": "https://localhost:8080/"
    },
    "id": "4f0d225d",
    "outputId": "792affba-8bde-4296-c2a8-aecc49f3ce22"
   },
   "outputs": [
    {
     "data": {
      "text/plain": [
       "label    object\n",
       "0        object\n",
       "1        object\n",
       "2        object\n",
       "3        object\n",
       "4        object\n",
       "5        object\n",
       "6        object\n",
       "7        object\n",
       "8        object\n",
       "9        object\n",
       "10       object\n",
       "11       object\n",
       "12       object\n",
       "13       object\n",
       "14       object\n",
       "15       object\n",
       "16       object\n",
       "17       object\n",
       "18       object\n",
       "19       object\n",
       "20       object\n",
       "21       object\n",
       "22       object\n",
       "23       object\n",
       "24       object\n",
       "25       object\n",
       "26       object\n",
       "27       object\n",
       "28       object\n",
       "29       object\n",
       "30       object\n",
       "31       object\n",
       "32       object\n",
       "33       object\n",
       "34       object\n",
       "35       object\n",
       "36       object\n",
       "37       object\n",
       "38       object\n",
       "39       object\n",
       "40       object\n",
       "41       object\n",
       "42       object\n",
       "43       object\n",
       "44       object\n",
       "45       object\n",
       "46       object\n",
       "47       object\n",
       "48       object\n",
       "49       object\n",
       "50       object\n",
       "51       object\n",
       "52       object\n",
       "dtype: object"
      ]
     },
     "execution_count": 8,
     "metadata": {},
     "output_type": "execute_result"
    }
   ],
   "source": [
    "title_expand_array_df.dtypes"
   ]
  },
  {
   "cell_type": "code",
   "execution_count": 9,
   "id": "c01813a3",
   "metadata": {
    "id": "c01813a3"
   },
   "outputs": [],
   "source": [
    "#should we drop duplicate words?\n"
   ]
  },
  {
   "cell_type": "markdown",
   "id": "376b7b1c",
   "metadata": {
    "id": "376b7b1c"
   },
   "source": [
    "### Text and Label Columns ONLY"
   ]
  },
  {
   "cell_type": "code",
   "execution_count": 10,
   "id": "abd14b55",
   "metadata": {
    "colab": {
     "base_uri": "https://localhost:8080/",
     "height": 272
    },
    "id": "abd14b55",
    "outputId": "8792dbe0-0807-449c-ced6-97f8d25cd499"
   },
   "outputs": [
    {
     "data": {
      "text/html": [
       "<div>\n",
       "<style scoped>\n",
       "    .dataframe tbody tr th:only-of-type {\n",
       "        vertical-align: middle;\n",
       "    }\n",
       "\n",
       "    .dataframe tbody tr th {\n",
       "        vertical-align: top;\n",
       "    }\n",
       "\n",
       "    .dataframe thead th {\n",
       "        text-align: right;\n",
       "    }\n",
       "</style>\n",
       "<table border=\"1\" class=\"dataframe\">\n",
       "  <thead>\n",
       "    <tr style=\"text-align: right;\">\n",
       "      <th></th>\n",
       "      <th>label</th>\n",
       "      <th>0</th>\n",
       "      <th>1</th>\n",
       "      <th>2</th>\n",
       "      <th>3</th>\n",
       "      <th>4</th>\n",
       "      <th>5</th>\n",
       "      <th>6</th>\n",
       "      <th>7</th>\n",
       "      <th>8</th>\n",
       "      <th>...</th>\n",
       "      <th>5510</th>\n",
       "      <th>5511</th>\n",
       "      <th>5512</th>\n",
       "      <th>5513</th>\n",
       "      <th>5514</th>\n",
       "      <th>5515</th>\n",
       "      <th>5516</th>\n",
       "      <th>5517</th>\n",
       "      <th>5518</th>\n",
       "      <th>5519</th>\n",
       "    </tr>\n",
       "  </thead>\n",
       "  <tbody>\n",
       "    <tr>\n",
       "      <th>0</th>\n",
       "      <td>FAKE</td>\n",
       "      <td>Daniel</td>\n",
       "      <td>Greenfield,</td>\n",
       "      <td>a</td>\n",
       "      <td>Shillman</td>\n",
       "      <td>Journalism</td>\n",
       "      <td>Fellow</td>\n",
       "      <td>at</td>\n",
       "      <td>the</td>\n",
       "      <td>Freedom</td>\n",
       "      <td>...</td>\n",
       "      <td>NA</td>\n",
       "      <td>NA</td>\n",
       "      <td>NA</td>\n",
       "      <td>NA</td>\n",
       "      <td>NA</td>\n",
       "      <td>NA</td>\n",
       "      <td>NA</td>\n",
       "      <td>NA</td>\n",
       "      <td>NA</td>\n",
       "      <td>NA</td>\n",
       "    </tr>\n",
       "    <tr>\n",
       "      <th>1</th>\n",
       "      <td>FAKE</td>\n",
       "      <td>Google</td>\n",
       "      <td>Pinterest</td>\n",
       "      <td>Digg</td>\n",
       "      <td>Linkedin</td>\n",
       "      <td>Reddit</td>\n",
       "      <td>Stumbleupon</td>\n",
       "      <td>Print</td>\n",
       "      <td>Delicious</td>\n",
       "      <td>Pocket</td>\n",
       "      <td>...</td>\n",
       "      <td>NA</td>\n",
       "      <td>NA</td>\n",
       "      <td>NA</td>\n",
       "      <td>NA</td>\n",
       "      <td>NA</td>\n",
       "      <td>NA</td>\n",
       "      <td>NA</td>\n",
       "      <td>NA</td>\n",
       "      <td>NA</td>\n",
       "      <td>NA</td>\n",
       "    </tr>\n",
       "    <tr>\n",
       "      <th>2</th>\n",
       "      <td>REAL</td>\n",
       "      <td>U.S.</td>\n",
       "      <td>Secretary</td>\n",
       "      <td>of</td>\n",
       "      <td>State</td>\n",
       "      <td>John</td>\n",
       "      <td>F.</td>\n",
       "      <td>Kerry</td>\n",
       "      <td>said</td>\n",
       "      <td>Monday</td>\n",
       "      <td>...</td>\n",
       "      <td>NA</td>\n",
       "      <td>NA</td>\n",
       "      <td>NA</td>\n",
       "      <td>NA</td>\n",
       "      <td>NA</td>\n",
       "      <td>NA</td>\n",
       "      <td>NA</td>\n",
       "      <td>NA</td>\n",
       "      <td>NA</td>\n",
       "      <td>NA</td>\n",
       "    </tr>\n",
       "    <tr>\n",
       "      <th>3</th>\n",
       "      <td>FAKE</td>\n",
       "      <td>—</td>\n",
       "      <td>Kaydee</td>\n",
       "      <td>King</td>\n",
       "      <td>(@KaydeeKing)</td>\n",
       "      <td>November</td>\n",
       "      <td>9,</td>\n",
       "      <td>2016</td>\n",
       "      <td>The</td>\n",
       "      <td>lesson</td>\n",
       "      <td>...</td>\n",
       "      <td>NA</td>\n",
       "      <td>NA</td>\n",
       "      <td>NA</td>\n",
       "      <td>NA</td>\n",
       "      <td>NA</td>\n",
       "      <td>NA</td>\n",
       "      <td>NA</td>\n",
       "      <td>NA</td>\n",
       "      <td>NA</td>\n",
       "      <td>NA</td>\n",
       "    </tr>\n",
       "    <tr>\n",
       "      <th>4</th>\n",
       "      <td>REAL</td>\n",
       "      <td>It's</td>\n",
       "      <td>primary</td>\n",
       "      <td>day</td>\n",
       "      <td>in</td>\n",
       "      <td>New</td>\n",
       "      <td>York</td>\n",
       "      <td>and</td>\n",
       "      <td>front-runners</td>\n",
       "      <td>Hillary</td>\n",
       "      <td>...</td>\n",
       "      <td>NA</td>\n",
       "      <td>NA</td>\n",
       "      <td>NA</td>\n",
       "      <td>NA</td>\n",
       "      <td>NA</td>\n",
       "      <td>NA</td>\n",
       "      <td>NA</td>\n",
       "      <td>NA</td>\n",
       "      <td>NA</td>\n",
       "      <td>NA</td>\n",
       "    </tr>\n",
       "  </tbody>\n",
       "</table>\n",
       "<p>5 rows × 5521 columns</p>\n",
       "</div>"
      ],
      "text/plain": [
       "  label       0            1     2              3           4            5  \\\n",
       "0  FAKE  Daniel  Greenfield,     a       Shillman  Journalism       Fellow   \n",
       "1  FAKE  Google    Pinterest  Digg       Linkedin      Reddit  Stumbleupon   \n",
       "2  REAL    U.S.    Secretary    of          State        John           F.   \n",
       "3  FAKE       —       Kaydee  King  (@KaydeeKing)    November           9,   \n",
       "4  REAL    It's      primary   day             in         New         York   \n",
       "\n",
       "       6              7        8  ... 5510 5511 5512 5513 5514 5515 5516 5517  \\\n",
       "0     at            the  Freedom  ...   NA   NA   NA   NA   NA   NA   NA   NA   \n",
       "1  Print      Delicious   Pocket  ...   NA   NA   NA   NA   NA   NA   NA   NA   \n",
       "2  Kerry           said   Monday  ...   NA   NA   NA   NA   NA   NA   NA   NA   \n",
       "3   2016            The   lesson  ...   NA   NA   NA   NA   NA   NA   NA   NA   \n",
       "4    and  front-runners  Hillary  ...   NA   NA   NA   NA   NA   NA   NA   NA   \n",
       "\n",
       "  5518 5519  \n",
       "0   NA   NA  \n",
       "1   NA   NA  \n",
       "2   NA   NA  \n",
       "3   NA   NA  \n",
       "4   NA   NA  \n",
       "\n",
       "[5 rows x 5521 columns]"
      ]
     },
     "execution_count": 10,
     "metadata": {},
     "output_type": "execute_result"
    }
   ],
   "source": [
    "#expand only the title array into new columns\n",
    "text_expand_array_df = transform_array_df.loc[:,[\"label\"]]\n",
    "\n",
    "# Create new columns for each element in the arrays\n",
    "text_array_columns = transform_array_df['text_array'].apply(lambda x: pd.Series(x, dtype='string'))\n",
    "\n",
    "# Concatenate the new columns with the original DataFrame\n",
    "text_expand_array_df = pd.concat([text_expand_array_df, text_array_columns], axis=1)\n",
    "\n",
    "#fill in na to \"none\"\n",
    "text_expand_array_df = text_expand_array_df.fillna(\"NA\")\n",
    "\n",
    "text_expand_array_df.head()"
   ]
  },
  {
   "cell_type": "markdown",
   "id": "eb67dfdb",
   "metadata": {
    "id": "eb67dfdb"
   },
   "source": [
    "### Combo(text and title) and Label Columns ONLY"
   ]
  },
  {
   "cell_type": "code",
   "execution_count": 11,
   "id": "92be834f",
   "metadata": {
    "colab": {
     "base_uri": "https://localhost:8080/",
     "height": 235
    },
    "id": "92be834f",
    "outputId": "4a082271-4da5-456a-ddab-0ecbcd04622d"
   },
   "outputs": [
    {
     "data": {
      "text/html": [
       "<div>\n",
       "<style scoped>\n",
       "    .dataframe tbody tr th:only-of-type {\n",
       "        vertical-align: middle;\n",
       "    }\n",
       "\n",
       "    .dataframe tbody tr th {\n",
       "        vertical-align: top;\n",
       "    }\n",
       "\n",
       "    .dataframe thead th {\n",
       "        text-align: right;\n",
       "    }\n",
       "</style>\n",
       "<table border=\"1\" class=\"dataframe\">\n",
       "  <thead>\n",
       "    <tr style=\"text-align: right;\">\n",
       "      <th></th>\n",
       "      <th>label</th>\n",
       "      <th>0</th>\n",
       "      <th>1</th>\n",
       "      <th>2</th>\n",
       "      <th>3</th>\n",
       "      <th>4</th>\n",
       "      <th>5</th>\n",
       "      <th>6</th>\n",
       "      <th>7</th>\n",
       "      <th>8</th>\n",
       "      <th>...</th>\n",
       "      <th>5516</th>\n",
       "      <th>5517</th>\n",
       "      <th>5518</th>\n",
       "      <th>5519</th>\n",
       "      <th>5520</th>\n",
       "      <th>5521</th>\n",
       "      <th>5522</th>\n",
       "      <th>5523</th>\n",
       "      <th>5524</th>\n",
       "      <th>5525</th>\n",
       "    </tr>\n",
       "  </thead>\n",
       "  <tbody>\n",
       "    <tr>\n",
       "      <th>0</th>\n",
       "      <td>FAKE</td>\n",
       "      <td>You</td>\n",
       "      <td>Can</td>\n",
       "      <td>Smell</td>\n",
       "      <td>Hillary’s</td>\n",
       "      <td>Fear</td>\n",
       "      <td>Daniel</td>\n",
       "      <td>Greenfield,</td>\n",
       "      <td>a</td>\n",
       "      <td>Shillman</td>\n",
       "      <td>...</td>\n",
       "      <td></td>\n",
       "      <td></td>\n",
       "      <td></td>\n",
       "      <td></td>\n",
       "      <td></td>\n",
       "      <td></td>\n",
       "      <td></td>\n",
       "      <td></td>\n",
       "      <td></td>\n",
       "      <td></td>\n",
       "    </tr>\n",
       "    <tr>\n",
       "      <th>1</th>\n",
       "      <td>FAKE</td>\n",
       "      <td>Watch</td>\n",
       "      <td>The</td>\n",
       "      <td>Exact</td>\n",
       "      <td>Moment</td>\n",
       "      <td>Paul</td>\n",
       "      <td>Ryan</td>\n",
       "      <td>Committed</td>\n",
       "      <td>Political</td>\n",
       "      <td>Suicide</td>\n",
       "      <td>...</td>\n",
       "      <td></td>\n",
       "      <td></td>\n",
       "      <td></td>\n",
       "      <td></td>\n",
       "      <td></td>\n",
       "      <td></td>\n",
       "      <td></td>\n",
       "      <td></td>\n",
       "      <td></td>\n",
       "      <td></td>\n",
       "    </tr>\n",
       "    <tr>\n",
       "      <th>2</th>\n",
       "      <td>REAL</td>\n",
       "      <td>Kerry</td>\n",
       "      <td>to</td>\n",
       "      <td>go</td>\n",
       "      <td>to</td>\n",
       "      <td>Paris</td>\n",
       "      <td>in</td>\n",
       "      <td>gesture</td>\n",
       "      <td>of</td>\n",
       "      <td>sympathy</td>\n",
       "      <td>...</td>\n",
       "      <td></td>\n",
       "      <td></td>\n",
       "      <td></td>\n",
       "      <td></td>\n",
       "      <td></td>\n",
       "      <td></td>\n",
       "      <td></td>\n",
       "      <td></td>\n",
       "      <td></td>\n",
       "      <td></td>\n",
       "    </tr>\n",
       "    <tr>\n",
       "      <th>3</th>\n",
       "      <td>FAKE</td>\n",
       "      <td>Bernie</td>\n",
       "      <td>supporters</td>\n",
       "      <td>on</td>\n",
       "      <td>Twitter</td>\n",
       "      <td>erupt</td>\n",
       "      <td>in</td>\n",
       "      <td>anger</td>\n",
       "      <td>against</td>\n",
       "      <td>the</td>\n",
       "      <td>...</td>\n",
       "      <td></td>\n",
       "      <td></td>\n",
       "      <td></td>\n",
       "      <td></td>\n",
       "      <td></td>\n",
       "      <td></td>\n",
       "      <td></td>\n",
       "      <td></td>\n",
       "      <td></td>\n",
       "      <td></td>\n",
       "    </tr>\n",
       "    <tr>\n",
       "      <th>4</th>\n",
       "      <td>REAL</td>\n",
       "      <td>The</td>\n",
       "      <td>Battle</td>\n",
       "      <td>of</td>\n",
       "      <td>New</td>\n",
       "      <td>York:</td>\n",
       "      <td>Why</td>\n",
       "      <td>This</td>\n",
       "      <td>Primary</td>\n",
       "      <td>Matters</td>\n",
       "      <td>...</td>\n",
       "      <td></td>\n",
       "      <td></td>\n",
       "      <td></td>\n",
       "      <td></td>\n",
       "      <td></td>\n",
       "      <td></td>\n",
       "      <td></td>\n",
       "      <td></td>\n",
       "      <td></td>\n",
       "      <td></td>\n",
       "    </tr>\n",
       "  </tbody>\n",
       "</table>\n",
       "<p>5 rows × 5527 columns</p>\n",
       "</div>"
      ],
      "text/plain": [
       "  label       0           1      2          3      4       5            6  \\\n",
       "0  FAKE     You         Can  Smell  Hillary’s   Fear  Daniel  Greenfield,   \n",
       "1  FAKE   Watch         The  Exact     Moment   Paul    Ryan    Committed   \n",
       "2  REAL   Kerry          to     go         to  Paris      in      gesture   \n",
       "3  FAKE  Bernie  supporters     on    Twitter  erupt      in        anger   \n",
       "4  REAL     The      Battle     of        New  York:     Why         This   \n",
       "\n",
       "           7         8  ... 5516 5517 5518 5519 5520 5521 5522 5523 5524 5525  \n",
       "0          a  Shillman  ...                                                    \n",
       "1  Political   Suicide  ...                                                    \n",
       "2         of  sympathy  ...                                                    \n",
       "3    against       the  ...                                                    \n",
       "4    Primary   Matters  ...                                                    \n",
       "\n",
       "[5 rows x 5527 columns]"
      ]
     },
     "execution_count": 11,
     "metadata": {},
     "output_type": "execute_result"
    }
   ],
   "source": [
    "#expand only the combo array into new columns\n",
    "combo_expand_array_df = join_array_df.loc[:,[\"label\"]]\n",
    "\n",
    "# Create new columns for each element in the arrays\n",
    "combo_array_columns = join_array_df['combo_array'].apply(lambda x: pd.Series(x, dtype='string'))\n",
    "\n",
    "# Concatenate the new columns with the original DataFrame\n",
    "combo_expand_array_df = pd.concat([combo_expand_array_df, combo_array_columns], axis=1)\n",
    "\n",
    "#fill in na to \"none\"\n",
    "combo_expand_array_df = combo_expand_array_df.fillna(\"\")\n",
    "\n",
    "combo_expand_array_df.head()"
   ]
  },
  {
   "cell_type": "code",
   "execution_count": null,
   "id": "d7c9180e",
   "metadata": {
    "id": "d7c9180e"
   },
   "outputs": [],
   "source": []
  },
  {
   "cell_type": "markdown",
   "id": "d7289916",
   "metadata": {
    "id": "d7289916"
   },
   "source": [
    "## Step 3 - Train and test data "
   ]
  },
  {
   "cell_type": "code",
   "execution_count": 12,
   "id": "f5679ead",
   "metadata": {
    "id": "f5679ead"
   },
   "outputs": [],
   "source": [
    "from sklearn.compose import ColumnTransformer\n",
    "from sklearn.pipeline import Pipeline\n",
    "from sklearn.preprocessing import OneHotEncoder\n",
    "from sklearn.model_selection import train_test_split\n",
    "\n",
    "\n",
    "# Drop 'label' column for X and assign 'label' column to y\n",
    "X = title_expand_array_df.drop('label', axis=1)\n",
    "y = title_expand_array_df['label']\n",
    "\n",
    "# Create a column transformer with a pipeline for one-hot encoding each column\n",
    "transformers = []\n",
    "\n",
    "for i in range(len(X.columns)):\n",
    "    transformers.append((str(i), Pipeline([('onehot', OneHotEncoder())]), [i]))\n",
    "\n",
    "ct = ColumnTransformer(transformers=transformers, remainder='passthrough')\n",
    "\n",
    "# Fit and transform X\n",
    "X_transformed = ct.fit_transform(X)\n",
    "\n",
    "# Split the data into training and testing sets\n",
    "X_train, X_test, y_train, y_test = train_test_split(X_transformed, y, test_size=1/3, random_state=0)"
   ]
  },
  {
   "cell_type": "code",
   "execution_count": 13,
   "id": "31d57627",
   "metadata": {
    "colab": {
     "base_uri": "https://localhost:8080/"
    },
    "id": "31d57627",
    "outputId": "a551c94c-0cec-445f-968c-ca0e1a60897d"
   },
   "outputs": [
    {
     "name": "stdout",
     "output_type": "stream",
     "text": [
      "              0           1      2          3          4       5          6   \\\n",
      "0            You         Can  Smell  Hillary’s       Fear      NA         NA   \n",
      "1          Watch         The  Exact     Moment       Paul    Ryan  Committed   \n",
      "2          Kerry          to     go         to      Paris      in    gesture   \n",
      "3         Bernie  supporters     on    Twitter      erupt      in      anger   \n",
      "4            The      Battle     of        New      York:     Why       This   \n",
      "...          ...         ...    ...        ...        ...     ...        ...   \n",
      "6310       State  Department   says         it      can't    find     emails   \n",
      "6311         The         ‘P’     in        PBS     Should   Stand        for   \n",
      "6312  Anti-Trump  Protesters    Are      Tools         of     the  Oligarchy   \n",
      "6313          In   Ethiopia,  Obama      seeks   progress      on     peace,   \n",
      "6314         Jeb        Bush     Is   Suddenly  Attacking  Trump.     Here's   \n",
      "\n",
      "                 7            8           9   ...  43  44  45  46  47  48  49  \\\n",
      "0                NA           NA          NA  ...  NA  NA  NA  NA  NA  NA  NA   \n",
      "1         Political      Suicide          At  ...  NA  NA  NA  NA  NA  NA  NA   \n",
      "2                of     sympathy          NA  ...  NA  NA  NA  NA  NA  NA  NA   \n",
      "3           against          the        DNC:  ...  NA  NA  NA  NA  NA  NA  NA   \n",
      "4           Primary      Matters          NA  ...  NA  NA  NA  NA  NA  NA  NA   \n",
      "...             ...          ...         ...  ...  ..  ..  ..  ..  ..  ..  ..   \n",
      "6310           from      Clinton          IT  ...  NA  NA  NA  NA  NA  NA  NA   \n",
      "6311  ‘Plutocratic’           or  ‘Pentagon’  ...  NA  NA  NA  NA  NA  NA  NA   \n",
      "6312              :  Information          NA  ...  NA  NA  NA  NA  NA  NA  NA   \n",
      "6313       security           in        East  ...  NA  NA  NA  NA  NA  NA  NA   \n",
      "6314            Why         That     Matters  ...  NA  NA  NA  NA  NA  NA  NA   \n",
      "\n",
      "      50  51  52  \n",
      "0     NA  NA  NA  \n",
      "1     NA  NA  NA  \n",
      "2     NA  NA  NA  \n",
      "3     NA  NA  NA  \n",
      "4     NA  NA  NA  \n",
      "...   ..  ..  ..  \n",
      "6310  NA  NA  NA  \n",
      "6311  NA  NA  NA  \n",
      "6312  NA  NA  NA  \n",
      "6313  NA  NA  NA  \n",
      "6314  NA  NA  NA  \n",
      "\n",
      "[6315 rows x 53 columns]\n"
     ]
    }
   ],
   "source": [
    "print(X)"
   ]
  },
  {
   "cell_type": "code",
   "execution_count": 14,
   "id": "73c9d096",
   "metadata": {
    "colab": {
     "base_uri": "https://localhost:8080/"
    },
    "id": "73c9d096",
    "outputId": "dcdcacfd-8f8d-40b8-99a0-80860e2b86d6"
   },
   "outputs": [
    {
     "name": "stdout",
     "output_type": "stream",
     "text": [
      "0       FAKE\n",
      "1       FAKE\n",
      "2       REAL\n",
      "3       FAKE\n",
      "4       REAL\n",
      "        ... \n",
      "6310    REAL\n",
      "6311    FAKE\n",
      "6312    FAKE\n",
      "6313    REAL\n",
      "6314    REAL\n",
      "Name: label, Length: 6315, dtype: object\n"
     ]
    }
   ],
   "source": [
    "print(y)"
   ]
  },
  {
   "cell_type": "markdown",
   "id": "366497e6",
   "metadata": {
    "id": "366497e6"
   },
   "source": [
    "### Feature Scaling"
   ]
  },
  {
   "cell_type": "code",
   "execution_count": 15,
   "id": "28853181",
   "metadata": {
    "id": "28853181"
   },
   "outputs": [],
   "source": [
    "from sklearn.preprocessing import StandardScaler\n",
    "scaler = StandardScaler(with_mean=False)\n",
    "X_train = scaler.fit_transform(X_train)\n",
    "X_test = scaler.transform(X_test)"
   ]
  },
  {
   "cell_type": "code",
   "execution_count": 16,
   "id": "e6a05973",
   "metadata": {
    "colab": {
     "base_uri": "https://localhost:8080/"
    },
    "id": "e6a05973",
    "outputId": "b65d2af3-72e1-4ec6-817b-86d72ab69549"
   },
   "outputs": [
    {
     "name": "stdout",
     "output_type": "stream",
     "text": [
      "  (0, 368)\t29.034482758620694\n",
      "  (0, 2533)\t32.45767938442841\n",
      "  (0, 7037)\t45.89118080072871\n",
      "  (0, 9175)\t64.89222016225153\n",
      "  (0, 12134)\t17.370020789430523\n",
      "  (0, 18256)\t64.89222016225153\n",
      "  (0, 18442)\t20.54269653556662\n",
      "  (0, 22652)\t11.17280945752754\n",
      "  (0, 24217)\t64.89222016225153\n",
      "  (0, 26765)\t45.89118080072871\n",
      "  (0, 28773)\t45.89118080072871\n",
      "  (0, 30097)\t45.89118080072871\n",
      "  (0, 31712)\t64.89222016225153\n",
      "  (0, 32790)\t64.89222016225153\n",
      "  (0, 33491)\t45.89118080072871\n",
      "  (0, 34326)\t45.89118080072871\n",
      "  (0, 34383)\t64.89222016225153\n",
      "  (0, 34741)\t26.50788738996085\n",
      "  (0, 34958)\t64.89222016225153\n",
      "  (0, 35128)\t6.241394692172815\n",
      "  (0, 35240)\t7.462838281112973\n",
      "  (0, 35344)\t8.806741259355428\n",
      "  (0, 35407)\t9.94571746625914\n",
      "  (0, 35458)\t11.513911549385181\n",
      "  (0, 35507)\t13.015605007668723\n",
      "  :\t:\n",
      "  (4209, 35615)\t20.542696535566623\n",
      "  (4209, 35635)\t21.651326059270318\n",
      "  (4209, 35652)\t24.544454300424192\n",
      "  (4209, 35667)\t24.544454300424192\n",
      "  (4209, 35678)\t29.034482758620694\n",
      "  (4209, 35689)\t29.034482758620694\n",
      "  (4209, 35700)\t29.034482758620694\n",
      "  (4209, 35705)\t45.89118080072871\n",
      "  (4209, 35712)\t45.89118080072871\n",
      "  (4209, 35719)\t45.89118080072871\n",
      "  (4209, 35722)\t45.89118080072871\n",
      "  (4209, 35728)\t45.89118080072871\n",
      "  (4209, 35731)\t45.89118080072871\n",
      "  (4209, 35734)\t64.89222016225155\n",
      "  (4209, 35738)\t64.89222016225155\n",
      "  (4209, 35739)\t64.89222016225155\n",
      "  (4209, 35742)\t64.89222016225155\n",
      "  (4209, 35744)\t64.89222016225155\n",
      "  (4209, 35745)\t64.89222016225155\n",
      "  (4209, 35748)\t64.89222016225155\n",
      "  (4209, 35749)\t64.89222016225155\n",
      "  (4209, 35752)\t64.89222016225155\n",
      "  (4209, 35753)\t64.89222016225155\n",
      "  (4209, 35756)\t64.89222016225155\n",
      "  (4209, 35757)\t64.89222016225155\n"
     ]
    }
   ],
   "source": [
    "print(X_train)"
   ]
  },
  {
   "cell_type": "code",
   "execution_count": 17,
   "id": "6e57722a",
   "metadata": {
    "colab": {
     "base_uri": "https://localhost:8080/"
    },
    "id": "6e57722a",
    "outputId": "6735588a-e295-46e8-808f-9f2fb2e8fca7"
   },
   "outputs": [
    {
     "name": "stdout",
     "output_type": "stream",
     "text": [
      "  (0, 2124)\t1.0\n",
      "  (0, 4096)\t13.015605007668725\n",
      "  (0, 7272)\t22.961966463160493\n",
      "  (0, 11278)\t11.696746114005261\n",
      "  (0, 14756)\t1.0\n",
      "  (0, 15390)\t1.0\n",
      "  (0, 20450)\t19.589024794476707\n",
      "  (0, 22880)\t1.0\n",
      "  (0, 25542)\t1.0\n",
      "  (0, 27003)\t2.0179317323670944\n",
      "  (0, 28913)\t2.0095522626184747\n",
      "  (0, 30471)\t2.1069020743390547\n",
      "  (0, 31797)\t2.293290601099495\n",
      "  (0, 32785)\t2.5854659280517236\n",
      "  (0, 33523)\t2.96958703995683\n",
      "  (0, 34040)\t3.4217906858581655\n",
      "  (0, 34448)\t3.9548931383499624\n",
      "  (0, 34734)\t4.657056851332062\n",
      "  (0, 34957)\t5.31032152857847\n",
      "  (0, 35128)\t6.241394692172815\n",
      "  (0, 35240)\t7.462838281112973\n",
      "  (0, 35344)\t8.806741259355428\n",
      "  (0, 35407)\t9.94571746625914\n",
      "  (0, 35458)\t11.513911549385181\n",
      "  (0, 35507)\t13.015605007668723\n",
      "  :\t:\n",
      "  (2104, 35615)\t20.542696535566623\n",
      "  (2104, 35635)\t21.651326059270318\n",
      "  (2104, 35652)\t24.544454300424192\n",
      "  (2104, 35667)\t24.544454300424192\n",
      "  (2104, 35678)\t29.034482758620694\n",
      "  (2104, 35689)\t29.034482758620694\n",
      "  (2104, 35700)\t29.034482758620694\n",
      "  (2104, 35705)\t45.89118080072871\n",
      "  (2104, 35712)\t45.89118080072871\n",
      "  (2104, 35719)\t45.89118080072871\n",
      "  (2104, 35722)\t45.89118080072871\n",
      "  (2104, 35728)\t45.89118080072871\n",
      "  (2104, 35731)\t45.89118080072871\n",
      "  (2104, 35734)\t64.89222016225155\n",
      "  (2104, 35738)\t64.89222016225155\n",
      "  (2104, 35739)\t64.89222016225155\n",
      "  (2104, 35742)\t64.89222016225155\n",
      "  (2104, 35744)\t64.89222016225155\n",
      "  (2104, 35745)\t64.89222016225155\n",
      "  (2104, 35748)\t64.89222016225155\n",
      "  (2104, 35749)\t64.89222016225155\n",
      "  (2104, 35752)\t64.89222016225155\n",
      "  (2104, 35753)\t64.89222016225155\n",
      "  (2104, 35756)\t64.89222016225155\n",
      "  (2104, 35757)\t64.89222016225155\n"
     ]
    }
   ],
   "source": [
    "print(X_test)"
   ]
  },
  {
   "cell_type": "markdown",
   "id": "e55a4056",
   "metadata": {
    "id": "e55a4056"
   },
   "source": [
    "### Training the Logistic Regression model on the Training set"
   ]
  },
  {
   "cell_type": "code",
   "execution_count": 18,
   "id": "35924162",
   "metadata": {
    "colab": {
     "base_uri": "https://localhost:8080/",
     "height": 213
    },
    "id": "35924162",
    "outputId": "a9ab29ff-7b1c-402d-959a-0a0f0abca2e4"
   },
   "outputs": [
    {
     "data": {
      "text/html": [
       "<style>#sk-container-id-1 {color: black;background-color: white;}#sk-container-id-1 pre{padding: 0;}#sk-container-id-1 div.sk-toggleable {background-color: white;}#sk-container-id-1 label.sk-toggleable__label {cursor: pointer;display: block;width: 100%;margin-bottom: 0;padding: 0.3em;box-sizing: border-box;text-align: center;}#sk-container-id-1 label.sk-toggleable__label-arrow:before {content: \"▸\";float: left;margin-right: 0.25em;color: #696969;}#sk-container-id-1 label.sk-toggleable__label-arrow:hover:before {color: black;}#sk-container-id-1 div.sk-estimator:hover label.sk-toggleable__label-arrow:before {color: black;}#sk-container-id-1 div.sk-toggleable__content {max-height: 0;max-width: 0;overflow: hidden;text-align: left;background-color: #f0f8ff;}#sk-container-id-1 div.sk-toggleable__content pre {margin: 0.2em;color: black;border-radius: 0.25em;background-color: #f0f8ff;}#sk-container-id-1 input.sk-toggleable__control:checked~div.sk-toggleable__content {max-height: 200px;max-width: 100%;overflow: auto;}#sk-container-id-1 input.sk-toggleable__control:checked~label.sk-toggleable__label-arrow:before {content: \"▾\";}#sk-container-id-1 div.sk-estimator input.sk-toggleable__control:checked~label.sk-toggleable__label {background-color: #d4ebff;}#sk-container-id-1 div.sk-label input.sk-toggleable__control:checked~label.sk-toggleable__label {background-color: #d4ebff;}#sk-container-id-1 input.sk-hidden--visually {border: 0;clip: rect(1px 1px 1px 1px);clip: rect(1px, 1px, 1px, 1px);height: 1px;margin: -1px;overflow: hidden;padding: 0;position: absolute;width: 1px;}#sk-container-id-1 div.sk-estimator {font-family: monospace;background-color: #f0f8ff;border: 1px dotted black;border-radius: 0.25em;box-sizing: border-box;margin-bottom: 0.5em;}#sk-container-id-1 div.sk-estimator:hover {background-color: #d4ebff;}#sk-container-id-1 div.sk-parallel-item::after {content: \"\";width: 100%;border-bottom: 1px solid gray;flex-grow: 1;}#sk-container-id-1 div.sk-label:hover label.sk-toggleable__label {background-color: #d4ebff;}#sk-container-id-1 div.sk-serial::before {content: \"\";position: absolute;border-left: 1px solid gray;box-sizing: border-box;top: 0;bottom: 0;left: 50%;z-index: 0;}#sk-container-id-1 div.sk-serial {display: flex;flex-direction: column;align-items: center;background-color: white;padding-right: 0.2em;padding-left: 0.2em;position: relative;}#sk-container-id-1 div.sk-item {position: relative;z-index: 1;}#sk-container-id-1 div.sk-parallel {display: flex;align-items: stretch;justify-content: center;background-color: white;position: relative;}#sk-container-id-1 div.sk-item::before, #sk-container-id-1 div.sk-parallel-item::before {content: \"\";position: absolute;border-left: 1px solid gray;box-sizing: border-box;top: 0;bottom: 0;left: 50%;z-index: -1;}#sk-container-id-1 div.sk-parallel-item {display: flex;flex-direction: column;z-index: 1;position: relative;background-color: white;}#sk-container-id-1 div.sk-parallel-item:first-child::after {align-self: flex-end;width: 50%;}#sk-container-id-1 div.sk-parallel-item:last-child::after {align-self: flex-start;width: 50%;}#sk-container-id-1 div.sk-parallel-item:only-child::after {width: 0;}#sk-container-id-1 div.sk-dashed-wrapped {border: 1px dashed gray;margin: 0 0.4em 0.5em 0.4em;box-sizing: border-box;padding-bottom: 0.4em;background-color: white;}#sk-container-id-1 div.sk-label label {font-family: monospace;font-weight: bold;display: inline-block;line-height: 1.2em;}#sk-container-id-1 div.sk-label-container {text-align: center;}#sk-container-id-1 div.sk-container {/* jupyter's `normalize.less` sets `[hidden] { display: none; }` but bootstrap.min.css set `[hidden] { display: none !important; }` so we also need the `!important` here to be able to override the default hidden behavior on the sphinx rendered scikit-learn.org. See: https://github.com/scikit-learn/scikit-learn/issues/21755 */display: inline-block !important;position: relative;}#sk-container-id-1 div.sk-text-repr-fallback {display: none;}</style><div id=\"sk-container-id-1\" class=\"sk-top-container\"><div class=\"sk-text-repr-fallback\"><pre>LogisticRegression(max_iter=1000, random_state=0)</pre><b>In a Jupyter environment, please rerun this cell to show the HTML representation or trust the notebook. <br />On GitHub, the HTML representation is unable to render, please try loading this page with nbviewer.org.</b></div><div class=\"sk-container\" hidden><div class=\"sk-item\"><div class=\"sk-estimator sk-toggleable\"><input class=\"sk-toggleable__control sk-hidden--visually\" id=\"sk-estimator-id-1\" type=\"checkbox\" checked><label for=\"sk-estimator-id-1\" class=\"sk-toggleable__label sk-toggleable__label-arrow\">LogisticRegression</label><div class=\"sk-toggleable__content\"><pre>LogisticRegression(max_iter=1000, random_state=0)</pre></div></div></div></div></div>"
      ],
      "text/plain": [
       "LogisticRegression(max_iter=1000, random_state=0)"
      ]
     },
     "execution_count": 18,
     "metadata": {},
     "output_type": "execute_result"
    }
   ],
   "source": [
    "from sklearn.linear_model import LogisticRegression\n",
    "classifier = LogisticRegression(max_iter=1000, random_state = 0)\n",
    "classifier.fit(X_train, y_train)"
   ]
  },
  {
   "cell_type": "markdown",
   "id": "39843eb4",
   "metadata": {
    "id": "39843eb4"
   },
   "source": [
    "### Predicting the Test set results"
   ]
  },
  {
   "cell_type": "code",
   "execution_count": 19,
   "id": "077c9822",
   "metadata": {
    "id": "077c9822"
   },
   "outputs": [],
   "source": [
    "# Make predictions on the test set\n",
    "y_pred = classifier.predict(X_test)"
   ]
  },
  {
   "cell_type": "markdown",
   "id": "bd974ef9",
   "metadata": {
    "id": "bd974ef9"
   },
   "source": [
    "### Making the Confusion Matrix"
   ]
  },
  {
   "cell_type": "code",
   "execution_count": 20,
   "id": "57b9e9fe",
   "metadata": {
    "colab": {
     "base_uri": "https://localhost:8080/"
    },
    "id": "57b9e9fe",
    "outputId": "a3d73416-e1c0-42ae-f4d6-774319d5e3c2"
   },
   "outputs": [
    {
     "name": "stdout",
     "output_type": "stream",
     "text": [
      "[[666 400]\n",
      " [131 908]]\n"
     ]
    },
    {
     "data": {
      "text/plain": [
       "0.7477434679334917"
      ]
     },
     "execution_count": 20,
     "metadata": {},
     "output_type": "execute_result"
    }
   ],
   "source": [
    "from sklearn.metrics import confusion_matrix, accuracy_score\n",
    "cm = confusion_matrix(y_test, y_pred)\n",
    "print(cm)\n",
    "accuracy_score(y_test, y_pred)"
   ]
  },
  {
   "cell_type": "markdown",
   "id": "b85771db",
   "metadata": {},
   "source": [
    "### Make Classification Report"
   ]
  },
  {
   "cell_type": "code",
   "execution_count": 23,
   "id": "b15a791d",
   "metadata": {},
   "outputs": [
    {
     "name": "stdout",
     "output_type": "stream",
     "text": [
      "              precision    recall  f1-score   support\n",
      "\n",
      "        FAKE       0.84      0.62      0.71      1066\n",
      "        REAL       0.69      0.87      0.77      1039\n",
      "\n",
      "    accuracy                           0.75      2105\n",
      "   macro avg       0.76      0.75      0.74      2105\n",
      "weighted avg       0.77      0.75      0.74      2105\n",
      "\n"
     ]
    }
   ],
   "source": [
    "from sklearn.metrics import classification_report\n",
    "\n",
    "# Generate and print the classification report\n",
    "report = classification_report(y_test, y_pred)\n",
    "\n",
    "print(report)"
   ]
  },
  {
   "cell_type": "markdown",
   "id": "56c95afd",
   "metadata": {
    "id": "56c95afd"
   },
   "source": [
    "### Visualising the Results"
   ]
  },
  {
   "cell_type": "code",
   "execution_count": 22,
   "id": "c9f861c6",
   "metadata": {
    "colab": {
     "background_save": true,
     "base_uri": "https://localhost:8080/"
    },
    "id": "c9f861c6",
    "outputId": "1ee6322a-5b4b-4772-a325-e4368b7f900c"
   },
   "outputs": [
    {
     "data": {
      "image/png": "[encoded data removed]",
      "text/plain": [
       "<Figure size 800x600 with 1 Axes>"
      ]
     },
     "metadata": {},
     "output_type": "display_data"
    },
    {
     "name": "stdout",
     "output_type": "stream",
     "text": [
      "Accuracy: 74.77%\n"
     ]
    }
   ],
   "source": [
    "import seaborn as sns\n",
    "# Create a DataFrame with actual and predicted labels\n",
    "results_df = pd.DataFrame({'Actual': y_test, 'Predicted': y_pred})\n",
    "\n",
    "# Create a confusion matrix\n",
    "conf_matrix = confusion_matrix(results_df['Actual'], results_df['Predicted'])\n",
    "\n",
    "# Map the actual and predicted labels to \"Correctly Predicted\" and \"Incorrectly Predicted\"\n",
    "results_df['Outcome'] = results_df.apply(lambda row: 'Correctly Predicted' if row['Actual'] == row['Predicted'] else 'Incorrectly Predicted', axis=1)\n",
    "\n",
    "# Plot the count of correct and incorrect predictions\n",
    "plt.figure(figsize=(8, 6))\n",
    "sns.countplot(x='Outcome', data=results_df, palette='Set2')\n",
    "\n",
    "plt.title('Logistic Regression - Title Data Only - Count of Correct and Incorrect Predictions')\n",
    "plt.xlabel('Prediction Outcome')\n",
    "plt.ylabel('Count')\n",
    "plt.show()\n",
    "\n",
    "# Calculate accuracy\n",
    "accuracy = accuracy_score(y_test, y_pred)\n",
    "print(f'Accuracy: {accuracy * 100:.2f}%')"
   ]
  },
  {
   "cell_type": "code",
   "execution_count": null,
   "id": "da678e63",
   "metadata": {
    "id": "da678e63"
   },
   "outputs": [],
   "source": []
  },
  {
   "cell_type": "code",
   "execution_count": null,
   "id": "2210d37e",
   "metadata": {
    "id": "2210d37e"
   },
   "outputs": [],
   "source": []
  },
  {
   "cell_type": "code",
   "execution_count": null,
   "id": "3d79e816",
   "metadata": {
    "id": "3d79e816"
   },
   "outputs": [],
   "source": []
  },
  {
   "cell_type": "code",
   "execution_count": null,
   "id": "0ceecdf2",
   "metadata": {
    "id": "0ceecdf2"
   },
   "outputs": [],
   "source": []
  },
  {
   "cell_type": "code",
   "execution_count": null,
   "id": "9ff1cbdf",
   "metadata": {
    "id": "9ff1cbdf"
   },
   "outputs": [],
   "source": []
  },
  {
   "cell_type": "code",
   "execution_count": null,
   "id": "0801dbf4",
   "metadata": {
    "id": "0801dbf4"
   },
   "outputs": [],
   "source": []
  },
  {
   "cell_type": "code",
   "execution_count": null,
   "id": "09c6d0ed",
   "metadata": {
    "id": "09c6d0ed"
   },
   "outputs": [],
   "source": []
  }
 ],
 "metadata": {
  "colab": {
   "provenance": []
  },
  "kernelspec": {
   "display_name": "python3_data",
   "language": "python",
   "name": "python3_data"
  },
  "language_info": {
   "codemirror_mode": {
    "name": "ipython",
    "version": 3
   },
   "file_extension": ".py",
   "mimetype": "text/x-python",
   "name": "python",
   "nbconvert_exporter": "python",
   "pygments_lexer": "ipython3",
   "version": "3.9.7"
  }
 },
 "nbformat": 4,
 "nbformat_minor": 5
}
