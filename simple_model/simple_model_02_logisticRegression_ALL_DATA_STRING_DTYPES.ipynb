{
 "cells": [
  {
   "cell_type": "code",
   "execution_count": 1,
   "id": "8d088d74",
   "metadata": {
    "id": "8d088d74"
   },
   "outputs": [],
   "source": [
    "import pandas as pd\n",
    "from pathlib import Path\n",
    "import matplotlib.pyplot as plt\n",
    "import numpy as np\n",
    "%matplotlib inline\n",
    "import warnings"
   ]
  },
  {
   "cell_type": "code",
   "execution_count": 2,
   "id": "6414ea92",
   "metadata": {},
   "outputs": [
    {
     "data": {
      "text/html": [
       "<div>\n",
       "<style scoped>\n",
       "    .dataframe tbody tr th:only-of-type {\n",
       "        vertical-align: middle;\n",
       "    }\n",
       "\n",
       "    .dataframe tbody tr th {\n",
       "        vertical-align: top;\n",
       "    }\n",
       "\n",
       "    .dataframe thead th {\n",
       "        text-align: right;\n",
       "    }\n",
       "</style>\n",
       "<table border=\"1\" class=\"dataframe\">\n",
       "  <thead>\n",
       "    <tr style=\"text-align: right;\">\n",
       "      <th></th>\n",
       "      <th>id</th>\n",
       "      <th>title</th>\n",
       "      <th>text</th>\n",
       "      <th>label</th>\n",
       "    </tr>\n",
       "  </thead>\n",
       "  <tbody>\n",
       "    <tr>\n",
       "      <th>0</th>\n",
       "      <td>8476.0</td>\n",
       "      <td>You Can Smell Hillary’s Fear</td>\n",
       "      <td>Daniel Greenfield, a Shillman Journalism Fello...</td>\n",
       "      <td>FAKE</td>\n",
       "    </tr>\n",
       "    <tr>\n",
       "      <th>1</th>\n",
       "      <td>10294.0</td>\n",
       "      <td>Watch The Exact Moment Paul Ryan Committed Pol...</td>\n",
       "      <td>Google Pinterest Digg Linkedin Reddit Stumbleu...</td>\n",
       "      <td>FAKE</td>\n",
       "    </tr>\n",
       "    <tr>\n",
       "      <th>2</th>\n",
       "      <td>3608.0</td>\n",
       "      <td>Kerry to go to Paris in gesture of sympathy</td>\n",
       "      <td>U.S. Secretary of State John F. Kerry said Mon...</td>\n",
       "      <td>REAL</td>\n",
       "    </tr>\n",
       "    <tr>\n",
       "      <th>3</th>\n",
       "      <td>10142.0</td>\n",
       "      <td>Bernie supporters on Twitter erupt in anger ag...</td>\n",
       "      <td>— Kaydee King (@KaydeeKing) November 9, 2016 T...</td>\n",
       "      <td>FAKE</td>\n",
       "    </tr>\n",
       "    <tr>\n",
       "      <th>4</th>\n",
       "      <td>875.0</td>\n",
       "      <td>The Battle of New York: Why This Primary Matters</td>\n",
       "      <td>It's primary day in New York and front-runners...</td>\n",
       "      <td>REAL</td>\n",
       "    </tr>\n",
       "    <tr>\n",
       "      <th>5</th>\n",
       "      <td>6903.0</td>\n",
       "      <td>Tehran, USA</td>\n",
       "      <td>\\nI’m not an immigrant, but my grandparents ...</td>\n",
       "      <td>FAKE</td>\n",
       "    </tr>\n",
       "    <tr>\n",
       "      <th>6</th>\n",
       "      <td>7341.0</td>\n",
       "      <td>Girl Horrified At What She Watches Boyfriend D...</td>\n",
       "      <td>Share This Baylee Luciani (left), Screenshot o...</td>\n",
       "      <td>FAKE</td>\n",
       "    </tr>\n",
       "    <tr>\n",
       "      <th>7</th>\n",
       "      <td>95.0</td>\n",
       "      <td>‘Britain’s Schindler’ Dies at 106</td>\n",
       "      <td>A Czech stockbroker who saved more than 650 Je...</td>\n",
       "      <td>REAL</td>\n",
       "    </tr>\n",
       "    <tr>\n",
       "      <th>8</th>\n",
       "      <td>4869.0</td>\n",
       "      <td>Fact check: Trump and Clinton at the 'commande...</td>\n",
       "      <td>Hillary Clinton and Donald Trump made some ina...</td>\n",
       "      <td>REAL</td>\n",
       "    </tr>\n",
       "    <tr>\n",
       "      <th>9</th>\n",
       "      <td>2909.0</td>\n",
       "      <td>Iran reportedly makes new push for uranium con...</td>\n",
       "      <td>Iranian negotiators reportedly have made a las...</td>\n",
       "      <td>REAL</td>\n",
       "    </tr>\n",
       "  </tbody>\n",
       "</table>\n",
       "</div>"
      ],
      "text/plain": [
       "        id                                              title  \\\n",
       "0   8476.0                       You Can Smell Hillary’s Fear   \n",
       "1  10294.0  Watch The Exact Moment Paul Ryan Committed Pol...   \n",
       "2   3608.0        Kerry to go to Paris in gesture of sympathy   \n",
       "3  10142.0  Bernie supporters on Twitter erupt in anger ag...   \n",
       "4    875.0   The Battle of New York: Why This Primary Matters   \n",
       "5   6903.0                                        Tehran, USA   \n",
       "6   7341.0  Girl Horrified At What She Watches Boyfriend D...   \n",
       "7     95.0                  ‘Britain’s Schindler’ Dies at 106   \n",
       "8   4869.0  Fact check: Trump and Clinton at the 'commande...   \n",
       "9   2909.0  Iran reportedly makes new push for uranium con...   \n",
       "\n",
       "                                                text label  \n",
       "0  Daniel Greenfield, a Shillman Journalism Fello...  FAKE  \n",
       "1  Google Pinterest Digg Linkedin Reddit Stumbleu...  FAKE  \n",
       "2  U.S. Secretary of State John F. Kerry said Mon...  REAL  \n",
       "3  — Kaydee King (@KaydeeKing) November 9, 2016 T...  FAKE  \n",
       "4  It's primary day in New York and front-runners...  REAL  \n",
       "5    \\nI’m not an immigrant, but my grandparents ...  FAKE  \n",
       "6  Share This Baylee Luciani (left), Screenshot o...  FAKE  \n",
       "7  A Czech stockbroker who saved more than 650 Je...  REAL  \n",
       "8  Hillary Clinton and Donald Trump made some ina...  REAL  \n",
       "9  Iranian negotiators reportedly have made a las...  REAL  "
      ]
     },
     "execution_count": 2,
     "metadata": {},
     "output_type": "execute_result"
    }
   ],
   "source": [
    "#Raw csv file from Github\n",
    "news_data = \"https://raw.githubusercontent.com/ml-truth-serum/fake_or_real_news/main/simple_model/Resources/Data/cleaned_news_df.csv\"\n",
    "\n",
    "# Read File\n",
    "news_df = pd.read_csv(news_data, header=0, encoding='utf-8')\n",
    "# Display sample data\n",
    "news_df.head(10)\n"
   ]
  },
  {
   "cell_type": "markdown",
   "id": "3852acbe",
   "metadata": {
    "id": "3852acbe"
   },
   "source": [
    "## Step 1 - Clean the data"
   ]
  },
  {
   "cell_type": "code",
   "execution_count": 4,
   "id": "d92a8132",
   "metadata": {
    "colab": {
     "base_uri": "https://localhost:8080/",
     "height": 174
    },
    "id": "d92a8132",
    "outputId": "94f4b1db-59a6-4aaa-f926-a62ba43e9a4c"
   },
   "outputs": [
    {
     "name": "stdout",
     "output_type": "stream",
     "text": [
      "<class 'pandas.core.frame.DataFrame'>\n",
      "RangeIndex: 6315 entries, 0 to 6314\n",
      "Data columns (total 4 columns):\n",
      " #   Column  Non-Null Count  Dtype  \n",
      "---  ------  --------------  -----  \n",
      " 0   id      6310 non-null   float64\n",
      " 1   title   6315 non-null   object \n",
      " 2   text    6315 non-null   object \n",
      " 3   label   6315 non-null   object \n",
      "dtypes: float64(1), object(3)\n",
      "memory usage: 197.5+ KB\n"
     ]
    }
   ],
   "source": [
    "#check count of all rows\n",
    "news_df.info()"
   ]
  },
  {
   "cell_type": "code",
   "execution_count": 6,
   "id": "7b43647f",
   "metadata": {
    "colab": {
     "base_uri": "https://localhost:8080/",
     "height": 206
    },
    "id": "7b43647f",
    "outputId": "7c72b45d-7070-4fe8-b090-6515e79cb5f6"
   },
   "outputs": [
    {
     "data": {
      "text/html": [
       "<div>\n",
       "<style scoped>\n",
       "    .dataframe tbody tr th:only-of-type {\n",
       "        vertical-align: middle;\n",
       "    }\n",
       "\n",
       "    .dataframe tbody tr th {\n",
       "        vertical-align: top;\n",
       "    }\n",
       "\n",
       "    .dataframe thead th {\n",
       "        text-align: right;\n",
       "    }\n",
       "</style>\n",
       "<table border=\"1\" class=\"dataframe\">\n",
       "  <thead>\n",
       "    <tr style=\"text-align: right;\">\n",
       "      <th></th>\n",
       "      <th>title</th>\n",
       "      <th>text</th>\n",
       "      <th>label</th>\n",
       "    </tr>\n",
       "  </thead>\n",
       "  <tbody>\n",
       "    <tr>\n",
       "      <th>0</th>\n",
       "      <td>You Can Smell Hillary’s Fear</td>\n",
       "      <td>Daniel Greenfield, a Shillman Journalism Fello...</td>\n",
       "      <td>FAKE</td>\n",
       "    </tr>\n",
       "    <tr>\n",
       "      <th>1</th>\n",
       "      <td>Watch The Exact Moment Paul Ryan Committed Pol...</td>\n",
       "      <td>Google Pinterest Digg Linkedin Reddit Stumbleu...</td>\n",
       "      <td>FAKE</td>\n",
       "    </tr>\n",
       "    <tr>\n",
       "      <th>2</th>\n",
       "      <td>Kerry to go to Paris in gesture of sympathy</td>\n",
       "      <td>U.S. Secretary of State John F. Kerry said Mon...</td>\n",
       "      <td>REAL</td>\n",
       "    </tr>\n",
       "    <tr>\n",
       "      <th>3</th>\n",
       "      <td>Bernie supporters on Twitter erupt in anger ag...</td>\n",
       "      <td>— Kaydee King (@KaydeeKing) November 9, 2016 T...</td>\n",
       "      <td>FAKE</td>\n",
       "    </tr>\n",
       "    <tr>\n",
       "      <th>4</th>\n",
       "      <td>The Battle of New York: Why This Primary Matters</td>\n",
       "      <td>It's primary day in New York and front-runners...</td>\n",
       "      <td>REAL</td>\n",
       "    </tr>\n",
       "  </tbody>\n",
       "</table>\n",
       "</div>"
      ],
      "text/plain": [
       "                                               title  \\\n",
       "0                       You Can Smell Hillary’s Fear   \n",
       "1  Watch The Exact Moment Paul Ryan Committed Pol...   \n",
       "2        Kerry to go to Paris in gesture of sympathy   \n",
       "3  Bernie supporters on Twitter erupt in anger ag...   \n",
       "4   The Battle of New York: Why This Primary Matters   \n",
       "\n",
       "                                                text label  \n",
       "0  Daniel Greenfield, a Shillman Journalism Fello...  FAKE  \n",
       "1  Google Pinterest Digg Linkedin Reddit Stumbleu...  FAKE  \n",
       "2  U.S. Secretary of State John F. Kerry said Mon...  REAL  \n",
       "3  — Kaydee King (@KaydeeKing) November 9, 2016 T...  FAKE  \n",
       "4  It's primary day in New York and front-runners...  REAL  "
      ]
     },
     "execution_count": 6,
     "metadata": {},
     "output_type": "execute_result"
    }
   ],
   "source": [
    "#drop the id column\n",
    "filter_df = news_df.loc[:,[\"title\", \"text\", \"label\"]]\n",
    "filter_df.head()"
   ]
  },
  {
   "cell_type": "markdown",
   "id": "4f1beb77",
   "metadata": {
    "id": "4f1beb77"
   },
   "source": [
    "## Step 2 - Get the columns that we need by transforming the columns"
   ]
  },
  {
   "cell_type": "code",
   "execution_count": 7,
   "id": "29148a6e",
   "metadata": {
    "colab": {
     "base_uri": "https://localhost:8080/",
     "height": 206
    },
    "id": "29148a6e",
    "outputId": "0a13fe2b-432a-4a39-b752-a979c1549a0f"
   },
   "outputs": [
    {
     "data": {
      "text/html": [
       "<div>\n",
       "<style scoped>\n",
       "    .dataframe tbody tr th:only-of-type {\n",
       "        vertical-align: middle;\n",
       "    }\n",
       "\n",
       "    .dataframe tbody tr th {\n",
       "        vertical-align: top;\n",
       "    }\n",
       "\n",
       "    .dataframe thead th {\n",
       "        text-align: right;\n",
       "    }\n",
       "</style>\n",
       "<table border=\"1\" class=\"dataframe\">\n",
       "  <thead>\n",
       "    <tr style=\"text-align: right;\">\n",
       "      <th></th>\n",
       "      <th>label</th>\n",
       "      <th>title_array</th>\n",
       "      <th>text_array</th>\n",
       "    </tr>\n",
       "  </thead>\n",
       "  <tbody>\n",
       "    <tr>\n",
       "      <th>0</th>\n",
       "      <td>FAKE</td>\n",
       "      <td>[You, Can, Smell, Hillary’s, Fear]</td>\n",
       "      <td>[Daniel, Greenfield,, a, Shillman, Journalism,...</td>\n",
       "    </tr>\n",
       "    <tr>\n",
       "      <th>1</th>\n",
       "      <td>FAKE</td>\n",
       "      <td>[Watch, The, Exact, Moment, Paul, Ryan, Commit...</td>\n",
       "      <td>[Google, Pinterest, Digg, Linkedin, Reddit, St...</td>\n",
       "    </tr>\n",
       "    <tr>\n",
       "      <th>2</th>\n",
       "      <td>REAL</td>\n",
       "      <td>[Kerry, to, go, to, Paris, in, gesture, of, sy...</td>\n",
       "      <td>[U.S., Secretary, of, State, John, F., Kerry, ...</td>\n",
       "    </tr>\n",
       "    <tr>\n",
       "      <th>3</th>\n",
       "      <td>FAKE</td>\n",
       "      <td>[Bernie, supporters, on, Twitter, erupt, in, a...</td>\n",
       "      <td>[—, Kaydee, King, (@KaydeeKing), November, 9,,...</td>\n",
       "    </tr>\n",
       "    <tr>\n",
       "      <th>4</th>\n",
       "      <td>REAL</td>\n",
       "      <td>[The, Battle, of, New, York:, Why, This, Prima...</td>\n",
       "      <td>[It's, primary, day, in, New, York, and, front...</td>\n",
       "    </tr>\n",
       "  </tbody>\n",
       "</table>\n",
       "</div>"
      ],
      "text/plain": [
       "  label                                        title_array  \\\n",
       "0  FAKE                 [You, Can, Smell, Hillary’s, Fear]   \n",
       "1  FAKE  [Watch, The, Exact, Moment, Paul, Ryan, Commit...   \n",
       "2  REAL  [Kerry, to, go, to, Paris, in, gesture, of, sy...   \n",
       "3  FAKE  [Bernie, supporters, on, Twitter, erupt, in, a...   \n",
       "4  REAL  [The, Battle, of, New, York:, Why, This, Prima...   \n",
       "\n",
       "                                          text_array  \n",
       "0  [Daniel, Greenfield,, a, Shillman, Journalism,...  \n",
       "1  [Google, Pinterest, Digg, Linkedin, Reddit, St...  \n",
       "2  [U.S., Secretary, of, State, John, F., Kerry, ...  \n",
       "3  [—, Kaydee, King, (@KaydeeKing), November, 9,,...  \n",
       "4  [It's, primary, day, in, New, York, and, front...  "
      ]
     },
     "execution_count": 7,
     "metadata": {},
     "output_type": "execute_result"
    }
   ],
   "source": [
    "# Splitting the 'TextColumn' for each row based on whitespace\n",
    "filter_df['title_array'] = filter_df['title'].apply(lambda x: x.split())\n",
    "filter_df['text_array'] = filter_df['text'].apply(lambda x: x.split())\n",
    "\n",
    "#only grab the label and the new array columns\n",
    "transform_array_df = filter_df[['label', 'title_array', 'text_array']]\n",
    "\n",
    "transform_array_df.head()"
   ]
  },
  {
   "cell_type": "code",
   "execution_count": 15,
   "id": "af647c4b",
   "metadata": {},
   "outputs": [],
   "source": [
    "transform_array_df = transform_array_df.astype(dtype={'label': 'string'})"
   ]
  },
  {
   "cell_type": "code",
   "execution_count": 16,
   "id": "249c4fed",
   "metadata": {
    "colab": {
     "base_uri": "https://localhost:8080/",
     "height": 206
    },
    "id": "249c4fed",
    "outputId": "f384bb68-e717-4a24-8d67-c0be6ca3ce45"
   },
   "outputs": [
    {
     "data": {
      "text/html": [
       "<div>\n",
       "<style scoped>\n",
       "    .dataframe tbody tr th:only-of-type {\n",
       "        vertical-align: middle;\n",
       "    }\n",
       "\n",
       "    .dataframe tbody tr th {\n",
       "        vertical-align: top;\n",
       "    }\n",
       "\n",
       "    .dataframe thead th {\n",
       "        text-align: right;\n",
       "    }\n",
       "</style>\n",
       "<table border=\"1\" class=\"dataframe\">\n",
       "  <thead>\n",
       "    <tr style=\"text-align: right;\">\n",
       "      <th></th>\n",
       "      <th>label</th>\n",
       "      <th>combo_array</th>\n",
       "    </tr>\n",
       "  </thead>\n",
       "  <tbody>\n",
       "    <tr>\n",
       "      <th>0</th>\n",
       "      <td>FAKE</td>\n",
       "      <td>[You, Can, Smell, Hillary’s, Fear, Daniel, Gre...</td>\n",
       "    </tr>\n",
       "    <tr>\n",
       "      <th>1</th>\n",
       "      <td>FAKE</td>\n",
       "      <td>[Watch, The, Exact, Moment, Paul, Ryan, Commit...</td>\n",
       "    </tr>\n",
       "    <tr>\n",
       "      <th>2</th>\n",
       "      <td>REAL</td>\n",
       "      <td>[Kerry, to, go, to, Paris, in, gesture, of, sy...</td>\n",
       "    </tr>\n",
       "    <tr>\n",
       "      <th>3</th>\n",
       "      <td>FAKE</td>\n",
       "      <td>[Bernie, supporters, on, Twitter, erupt, in, a...</td>\n",
       "    </tr>\n",
       "    <tr>\n",
       "      <th>4</th>\n",
       "      <td>REAL</td>\n",
       "      <td>[The, Battle, of, New, York:, Why, This, Prima...</td>\n",
       "    </tr>\n",
       "  </tbody>\n",
       "</table>\n",
       "</div>"
      ],
      "text/plain": [
       "  label                                        combo_array\n",
       "0  FAKE  [You, Can, Smell, Hillary’s, Fear, Daniel, Gre...\n",
       "1  FAKE  [Watch, The, Exact, Moment, Paul, Ryan, Commit...\n",
       "2  REAL  [Kerry, to, go, to, Paris, in, gesture, of, sy...\n",
       "3  FAKE  [Bernie, supporters, on, Twitter, erupt, in, a...\n",
       "4  REAL  [The, Battle, of, New, York:, Why, This, Prima..."
      ]
     },
     "execution_count": 16,
     "metadata": {},
     "output_type": "execute_result"
    }
   ],
   "source": [
    "#join array together\n",
    "\n",
    "join_array_df = transform_array_df.loc[:,[\"label\"]]\n",
    "\n",
    "# Combine the arrays from both columns into a single array\n",
    "join_array_df['combo_array'] = transform_array_df.apply(lambda row: np.concatenate([row['title_array'], row['text_array']]), axis=1)\n",
    "\n",
    "\n",
    "join_array_df.head()"
   ]
  },
  {
   "cell_type": "markdown",
   "id": "793b3dc3",
   "metadata": {
    "id": "793b3dc3"
   },
   "source": [
    "### Title and Label Columns ONLY"
   ]
  },
  {
   "cell_type": "code",
   "execution_count": 17,
   "id": "e64da52a",
   "metadata": {
    "colab": {
     "base_uri": "https://localhost:8080/",
     "height": 235
    },
    "id": "e64da52a",
    "outputId": "d7b10c09-7c6b-4dba-ca8e-a8597bc61058"
   },
   "outputs": [
    {
     "data": {
      "text/html": [
       "<div>\n",
       "<style scoped>\n",
       "    .dataframe tbody tr th:only-of-type {\n",
       "        vertical-align: middle;\n",
       "    }\n",
       "\n",
       "    .dataframe tbody tr th {\n",
       "        vertical-align: top;\n",
       "    }\n",
       "\n",
       "    .dataframe thead th {\n",
       "        text-align: right;\n",
       "    }\n",
       "</style>\n",
       "<table border=\"1\" class=\"dataframe\">\n",
       "  <thead>\n",
       "    <tr style=\"text-align: right;\">\n",
       "      <th></th>\n",
       "      <th>label</th>\n",
       "      <th>0</th>\n",
       "      <th>1</th>\n",
       "      <th>2</th>\n",
       "      <th>3</th>\n",
       "      <th>4</th>\n",
       "      <th>5</th>\n",
       "      <th>6</th>\n",
       "      <th>7</th>\n",
       "      <th>8</th>\n",
       "      <th>...</th>\n",
       "      <th>43</th>\n",
       "      <th>44</th>\n",
       "      <th>45</th>\n",
       "      <th>46</th>\n",
       "      <th>47</th>\n",
       "      <th>48</th>\n",
       "      <th>49</th>\n",
       "      <th>50</th>\n",
       "      <th>51</th>\n",
       "      <th>52</th>\n",
       "    </tr>\n",
       "  </thead>\n",
       "  <tbody>\n",
       "    <tr>\n",
       "      <th>0</th>\n",
       "      <td>FAKE</td>\n",
       "      <td>You</td>\n",
       "      <td>Can</td>\n",
       "      <td>Smell</td>\n",
       "      <td>Hillary’s</td>\n",
       "      <td>Fear</td>\n",
       "      <td>NA</td>\n",
       "      <td>NA</td>\n",
       "      <td>NA</td>\n",
       "      <td>NA</td>\n",
       "      <td>...</td>\n",
       "      <td>NA</td>\n",
       "      <td>NA</td>\n",
       "      <td>NA</td>\n",
       "      <td>NA</td>\n",
       "      <td>NA</td>\n",
       "      <td>NA</td>\n",
       "      <td>NA</td>\n",
       "      <td>NA</td>\n",
       "      <td>NA</td>\n",
       "      <td>NA</td>\n",
       "    </tr>\n",
       "    <tr>\n",
       "      <th>1</th>\n",
       "      <td>FAKE</td>\n",
       "      <td>Watch</td>\n",
       "      <td>The</td>\n",
       "      <td>Exact</td>\n",
       "      <td>Moment</td>\n",
       "      <td>Paul</td>\n",
       "      <td>Ryan</td>\n",
       "      <td>Committed</td>\n",
       "      <td>Political</td>\n",
       "      <td>Suicide</td>\n",
       "      <td>...</td>\n",
       "      <td>NA</td>\n",
       "      <td>NA</td>\n",
       "      <td>NA</td>\n",
       "      <td>NA</td>\n",
       "      <td>NA</td>\n",
       "      <td>NA</td>\n",
       "      <td>NA</td>\n",
       "      <td>NA</td>\n",
       "      <td>NA</td>\n",
       "      <td>NA</td>\n",
       "    </tr>\n",
       "    <tr>\n",
       "      <th>2</th>\n",
       "      <td>REAL</td>\n",
       "      <td>Kerry</td>\n",
       "      <td>to</td>\n",
       "      <td>go</td>\n",
       "      <td>to</td>\n",
       "      <td>Paris</td>\n",
       "      <td>in</td>\n",
       "      <td>gesture</td>\n",
       "      <td>of</td>\n",
       "      <td>sympathy</td>\n",
       "      <td>...</td>\n",
       "      <td>NA</td>\n",
       "      <td>NA</td>\n",
       "      <td>NA</td>\n",
       "      <td>NA</td>\n",
       "      <td>NA</td>\n",
       "      <td>NA</td>\n",
       "      <td>NA</td>\n",
       "      <td>NA</td>\n",
       "      <td>NA</td>\n",
       "      <td>NA</td>\n",
       "    </tr>\n",
       "    <tr>\n",
       "      <th>3</th>\n",
       "      <td>FAKE</td>\n",
       "      <td>Bernie</td>\n",
       "      <td>supporters</td>\n",
       "      <td>on</td>\n",
       "      <td>Twitter</td>\n",
       "      <td>erupt</td>\n",
       "      <td>in</td>\n",
       "      <td>anger</td>\n",
       "      <td>against</td>\n",
       "      <td>the</td>\n",
       "      <td>...</td>\n",
       "      <td>NA</td>\n",
       "      <td>NA</td>\n",
       "      <td>NA</td>\n",
       "      <td>NA</td>\n",
       "      <td>NA</td>\n",
       "      <td>NA</td>\n",
       "      <td>NA</td>\n",
       "      <td>NA</td>\n",
       "      <td>NA</td>\n",
       "      <td>NA</td>\n",
       "    </tr>\n",
       "    <tr>\n",
       "      <th>4</th>\n",
       "      <td>REAL</td>\n",
       "      <td>The</td>\n",
       "      <td>Battle</td>\n",
       "      <td>of</td>\n",
       "      <td>New</td>\n",
       "      <td>York:</td>\n",
       "      <td>Why</td>\n",
       "      <td>This</td>\n",
       "      <td>Primary</td>\n",
       "      <td>Matters</td>\n",
       "      <td>...</td>\n",
       "      <td>NA</td>\n",
       "      <td>NA</td>\n",
       "      <td>NA</td>\n",
       "      <td>NA</td>\n",
       "      <td>NA</td>\n",
       "      <td>NA</td>\n",
       "      <td>NA</td>\n",
       "      <td>NA</td>\n",
       "      <td>NA</td>\n",
       "      <td>NA</td>\n",
       "    </tr>\n",
       "  </tbody>\n",
       "</table>\n",
       "<p>5 rows × 54 columns</p>\n",
       "</div>"
      ],
      "text/plain": [
       "  label       0           1      2          3      4     5          6  \\\n",
       "0  FAKE     You         Can  Smell  Hillary’s   Fear    NA         NA   \n",
       "1  FAKE   Watch         The  Exact     Moment   Paul  Ryan  Committed   \n",
       "2  REAL   Kerry          to     go         to  Paris    in    gesture   \n",
       "3  FAKE  Bernie  supporters     on    Twitter  erupt    in      anger   \n",
       "4  REAL     The      Battle     of        New  York:   Why       This   \n",
       "\n",
       "           7         8  ...  43  44  45  46  47  48  49  50  51  52  \n",
       "0         NA        NA  ...  NA  NA  NA  NA  NA  NA  NA  NA  NA  NA  \n",
       "1  Political   Suicide  ...  NA  NA  NA  NA  NA  NA  NA  NA  NA  NA  \n",
       "2         of  sympathy  ...  NA  NA  NA  NA  NA  NA  NA  NA  NA  NA  \n",
       "3    against       the  ...  NA  NA  NA  NA  NA  NA  NA  NA  NA  NA  \n",
       "4    Primary   Matters  ...  NA  NA  NA  NA  NA  NA  NA  NA  NA  NA  \n",
       "\n",
       "[5 rows x 54 columns]"
      ]
     },
     "execution_count": 17,
     "metadata": {},
     "output_type": "execute_result"
    }
   ],
   "source": [
    "#expand only the title array into new columns\n",
    "title_expand_array_df = transform_array_df.loc[:,[\"label\"]]\n",
    "\n",
    "# Create new columns for each element in the arrays\n",
    "# title_array_columns = transform_array_df['title_array'].apply(lambda x: pd.Series(x, dtype='object'))\n",
    "#creats the columns as string dtype\n",
    "title_array_columns = pd.DataFrame(transform_array_df['title_array'].tolist(), dtype='string')\n",
    "\n",
    "\n",
    "# Concatenate the new columns with the original DataFrame\n",
    "title_expand_array_df = pd.concat([title_expand_array_df, title_array_columns], axis=1)\n",
    "\n",
    "#fill in na to \"none\"\n",
    "title_expand_array_df = title_expand_array_df.fillna(\"NA\")\n",
    "\n",
    "\n",
    "title_expand_array_df.head()"
   ]
  },
  {
   "cell_type": "code",
   "execution_count": 18,
   "id": "4f0d225d",
   "metadata": {
    "colab": {
     "base_uri": "https://localhost:8080/"
    },
    "id": "4f0d225d",
    "outputId": "792affba-8bde-4296-c2a8-aecc49f3ce22"
   },
   "outputs": [
    {
     "data": {
      "text/plain": [
       "label    string\n",
       "0        string\n",
       "1        string\n",
       "2        string\n",
       "3        string\n",
       "4        string\n",
       "5        string\n",
       "6        string\n",
       "7        string\n",
       "8        string\n",
       "9        string\n",
       "10       string\n",
       "11       string\n",
       "12       string\n",
       "13       string\n",
       "14       string\n",
       "15       string\n",
       "16       string\n",
       "17       string\n",
       "18       string\n",
       "19       string\n",
       "20       string\n",
       "21       string\n",
       "22       string\n",
       "23       string\n",
       "24       string\n",
       "25       string\n",
       "26       string\n",
       "27       string\n",
       "28       string\n",
       "29       string\n",
       "30       string\n",
       "31       string\n",
       "32       string\n",
       "33       string\n",
       "34       string\n",
       "35       string\n",
       "36       string\n",
       "37       string\n",
       "38       string\n",
       "39       string\n",
       "40       string\n",
       "41       string\n",
       "42       string\n",
       "43       string\n",
       "44       string\n",
       "45       string\n",
       "46       string\n",
       "47       string\n",
       "48       string\n",
       "49       string\n",
       "50       string\n",
       "51       string\n",
       "52       string\n",
       "dtype: object"
      ]
     },
     "execution_count": 18,
     "metadata": {},
     "output_type": "execute_result"
    }
   ],
   "source": [
    "title_expand_array_df.dtypes"
   ]
  },
  {
   "cell_type": "markdown",
   "id": "376b7b1c",
   "metadata": {
    "id": "376b7b1c"
   },
   "source": [
    "### Text and Label Columns ONLY"
   ]
  },
  {
   "cell_type": "code",
   "execution_count": 19,
   "id": "abd14b55",
   "metadata": {
    "colab": {
     "base_uri": "https://localhost:8080/",
     "height": 272
    },
    "id": "abd14b55",
    "outputId": "8792dbe0-0807-449c-ced6-97f8d25cd499"
   },
   "outputs": [
    {
     "data": {
      "text/html": [
       "<div>\n",
       "<style scoped>\n",
       "    .dataframe tbody tr th:only-of-type {\n",
       "        vertical-align: middle;\n",
       "    }\n",
       "\n",
       "    .dataframe tbody tr th {\n",
       "        vertical-align: top;\n",
       "    }\n",
       "\n",
       "    .dataframe thead th {\n",
       "        text-align: right;\n",
       "    }\n",
       "</style>\n",
       "<table border=\"1\" class=\"dataframe\">\n",
       "  <thead>\n",
       "    <tr style=\"text-align: right;\">\n",
       "      <th></th>\n",
       "      <th>label</th>\n",
       "      <th>0</th>\n",
       "      <th>1</th>\n",
       "      <th>2</th>\n",
       "      <th>3</th>\n",
       "      <th>4</th>\n",
       "      <th>5</th>\n",
       "      <th>6</th>\n",
       "      <th>7</th>\n",
       "      <th>8</th>\n",
       "      <th>...</th>\n",
       "      <th>5510</th>\n",
       "      <th>5511</th>\n",
       "      <th>5512</th>\n",
       "      <th>5513</th>\n",
       "      <th>5514</th>\n",
       "      <th>5515</th>\n",
       "      <th>5516</th>\n",
       "      <th>5517</th>\n",
       "      <th>5518</th>\n",
       "      <th>5519</th>\n",
       "    </tr>\n",
       "  </thead>\n",
       "  <tbody>\n",
       "    <tr>\n",
       "      <th>0</th>\n",
       "      <td>FAKE</td>\n",
       "      <td>Daniel</td>\n",
       "      <td>Greenfield,</td>\n",
       "      <td>a</td>\n",
       "      <td>Shillman</td>\n",
       "      <td>Journalism</td>\n",
       "      <td>Fellow</td>\n",
       "      <td>at</td>\n",
       "      <td>the</td>\n",
       "      <td>Freedom</td>\n",
       "      <td>...</td>\n",
       "      <td>NA</td>\n",
       "      <td>NA</td>\n",
       "      <td>NA</td>\n",
       "      <td>NA</td>\n",
       "      <td>NA</td>\n",
       "      <td>NA</td>\n",
       "      <td>NA</td>\n",
       "      <td>NA</td>\n",
       "      <td>NA</td>\n",
       "      <td>NA</td>\n",
       "    </tr>\n",
       "    <tr>\n",
       "      <th>1</th>\n",
       "      <td>FAKE</td>\n",
       "      <td>Google</td>\n",
       "      <td>Pinterest</td>\n",
       "      <td>Digg</td>\n",
       "      <td>Linkedin</td>\n",
       "      <td>Reddit</td>\n",
       "      <td>Stumbleupon</td>\n",
       "      <td>Print</td>\n",
       "      <td>Delicious</td>\n",
       "      <td>Pocket</td>\n",
       "      <td>...</td>\n",
       "      <td>NA</td>\n",
       "      <td>NA</td>\n",
       "      <td>NA</td>\n",
       "      <td>NA</td>\n",
       "      <td>NA</td>\n",
       "      <td>NA</td>\n",
       "      <td>NA</td>\n",
       "      <td>NA</td>\n",
       "      <td>NA</td>\n",
       "      <td>NA</td>\n",
       "    </tr>\n",
       "    <tr>\n",
       "      <th>2</th>\n",
       "      <td>REAL</td>\n",
       "      <td>U.S.</td>\n",
       "      <td>Secretary</td>\n",
       "      <td>of</td>\n",
       "      <td>State</td>\n",
       "      <td>John</td>\n",
       "      <td>F.</td>\n",
       "      <td>Kerry</td>\n",
       "      <td>said</td>\n",
       "      <td>Monday</td>\n",
       "      <td>...</td>\n",
       "      <td>NA</td>\n",
       "      <td>NA</td>\n",
       "      <td>NA</td>\n",
       "      <td>NA</td>\n",
       "      <td>NA</td>\n",
       "      <td>NA</td>\n",
       "      <td>NA</td>\n",
       "      <td>NA</td>\n",
       "      <td>NA</td>\n",
       "      <td>NA</td>\n",
       "    </tr>\n",
       "    <tr>\n",
       "      <th>3</th>\n",
       "      <td>FAKE</td>\n",
       "      <td>—</td>\n",
       "      <td>Kaydee</td>\n",
       "      <td>King</td>\n",
       "      <td>(@KaydeeKing)</td>\n",
       "      <td>November</td>\n",
       "      <td>9,</td>\n",
       "      <td>2016</td>\n",
       "      <td>The</td>\n",
       "      <td>lesson</td>\n",
       "      <td>...</td>\n",
       "      <td>NA</td>\n",
       "      <td>NA</td>\n",
       "      <td>NA</td>\n",
       "      <td>NA</td>\n",
       "      <td>NA</td>\n",
       "      <td>NA</td>\n",
       "      <td>NA</td>\n",
       "      <td>NA</td>\n",
       "      <td>NA</td>\n",
       "      <td>NA</td>\n",
       "    </tr>\n",
       "    <tr>\n",
       "      <th>4</th>\n",
       "      <td>REAL</td>\n",
       "      <td>It's</td>\n",
       "      <td>primary</td>\n",
       "      <td>day</td>\n",
       "      <td>in</td>\n",
       "      <td>New</td>\n",
       "      <td>York</td>\n",
       "      <td>and</td>\n",
       "      <td>front-runners</td>\n",
       "      <td>Hillary</td>\n",
       "      <td>...</td>\n",
       "      <td>NA</td>\n",
       "      <td>NA</td>\n",
       "      <td>NA</td>\n",
       "      <td>NA</td>\n",
       "      <td>NA</td>\n",
       "      <td>NA</td>\n",
       "      <td>NA</td>\n",
       "      <td>NA</td>\n",
       "      <td>NA</td>\n",
       "      <td>NA</td>\n",
       "    </tr>\n",
       "  </tbody>\n",
       "</table>\n",
       "<p>5 rows × 5521 columns</p>\n",
       "</div>"
      ],
      "text/plain": [
       "  label       0            1     2              3           4            5  \\\n",
       "0  FAKE  Daniel  Greenfield,     a       Shillman  Journalism       Fellow   \n",
       "1  FAKE  Google    Pinterest  Digg       Linkedin      Reddit  Stumbleupon   \n",
       "2  REAL    U.S.    Secretary    of          State        John           F.   \n",
       "3  FAKE       —       Kaydee  King  (@KaydeeKing)    November           9,   \n",
       "4  REAL    It's      primary   day             in         New         York   \n",
       "\n",
       "       6              7        8  ... 5510 5511 5512 5513 5514 5515 5516 5517  \\\n",
       "0     at            the  Freedom  ...   NA   NA   NA   NA   NA   NA   NA   NA   \n",
       "1  Print      Delicious   Pocket  ...   NA   NA   NA   NA   NA   NA   NA   NA   \n",
       "2  Kerry           said   Monday  ...   NA   NA   NA   NA   NA   NA   NA   NA   \n",
       "3   2016            The   lesson  ...   NA   NA   NA   NA   NA   NA   NA   NA   \n",
       "4    and  front-runners  Hillary  ...   NA   NA   NA   NA   NA   NA   NA   NA   \n",
       "\n",
       "  5518 5519  \n",
       "0   NA   NA  \n",
       "1   NA   NA  \n",
       "2   NA   NA  \n",
       "3   NA   NA  \n",
       "4   NA   NA  \n",
       "\n",
       "[5 rows x 5521 columns]"
      ]
     },
     "execution_count": 19,
     "metadata": {},
     "output_type": "execute_result"
    }
   ],
   "source": [
    "#expand only the title array into new columns\n",
    "text_expand_array_df = transform_array_df.loc[:,[\"label\"]]\n",
    "\n",
    "# Create new columns for each element in the arrays\n",
    "text_array_columns = transform_array_df['text_array'].apply(lambda x: pd.Series(x, dtype='string'))\n",
    "\n",
    "# Concatenate the new columns with the original DataFrame\n",
    "text_expand_array_df = pd.concat([text_expand_array_df, text_array_columns], axis=1)\n",
    "\n",
    "#fill in na to \"none\"\n",
    "text_expand_array_df = text_expand_array_df.fillna(\"NA\")\n",
    "\n",
    "text_expand_array_df.head()"
   ]
  },
  {
   "cell_type": "markdown",
   "id": "eb67dfdb",
   "metadata": {
    "id": "eb67dfdb"
   },
   "source": [
    "### Combo(text and title) and Label Columns ONLY"
   ]
  },
  {
   "cell_type": "code",
   "execution_count": 20,
   "id": "92be834f",
   "metadata": {
    "colab": {
     "base_uri": "https://localhost:8080/",
     "height": 235
    },
    "id": "92be834f",
    "outputId": "4a082271-4da5-456a-ddab-0ecbcd04622d"
   },
   "outputs": [
    {
     "data": {
      "text/html": [
       "<div>\n",
       "<style scoped>\n",
       "    .dataframe tbody tr th:only-of-type {\n",
       "        vertical-align: middle;\n",
       "    }\n",
       "\n",
       "    .dataframe tbody tr th {\n",
       "        vertical-align: top;\n",
       "    }\n",
       "\n",
       "    .dataframe thead th {\n",
       "        text-align: right;\n",
       "    }\n",
       "</style>\n",
       "<table border=\"1\" class=\"dataframe\">\n",
       "  <thead>\n",
       "    <tr style=\"text-align: right;\">\n",
       "      <th></th>\n",
       "      <th>label</th>\n",
       "      <th>0</th>\n",
       "      <th>1</th>\n",
       "      <th>2</th>\n",
       "      <th>3</th>\n",
       "      <th>4</th>\n",
       "      <th>5</th>\n",
       "      <th>6</th>\n",
       "      <th>7</th>\n",
       "      <th>8</th>\n",
       "      <th>...</th>\n",
       "      <th>5516</th>\n",
       "      <th>5517</th>\n",
       "      <th>5518</th>\n",
       "      <th>5519</th>\n",
       "      <th>5520</th>\n",
       "      <th>5521</th>\n",
       "      <th>5522</th>\n",
       "      <th>5523</th>\n",
       "      <th>5524</th>\n",
       "      <th>5525</th>\n",
       "    </tr>\n",
       "  </thead>\n",
       "  <tbody>\n",
       "    <tr>\n",
       "      <th>0</th>\n",
       "      <td>FAKE</td>\n",
       "      <td>You</td>\n",
       "      <td>Can</td>\n",
       "      <td>Smell</td>\n",
       "      <td>Hillary’s</td>\n",
       "      <td>Fear</td>\n",
       "      <td>Daniel</td>\n",
       "      <td>Greenfield,</td>\n",
       "      <td>a</td>\n",
       "      <td>Shillman</td>\n",
       "      <td>...</td>\n",
       "      <td></td>\n",
       "      <td></td>\n",
       "      <td></td>\n",
       "      <td></td>\n",
       "      <td></td>\n",
       "      <td></td>\n",
       "      <td></td>\n",
       "      <td></td>\n",
       "      <td></td>\n",
       "      <td></td>\n",
       "    </tr>\n",
       "    <tr>\n",
       "      <th>1</th>\n",
       "      <td>FAKE</td>\n",
       "      <td>Watch</td>\n",
       "      <td>The</td>\n",
       "      <td>Exact</td>\n",
       "      <td>Moment</td>\n",
       "      <td>Paul</td>\n",
       "      <td>Ryan</td>\n",
       "      <td>Committed</td>\n",
       "      <td>Political</td>\n",
       "      <td>Suicide</td>\n",
       "      <td>...</td>\n",
       "      <td></td>\n",
       "      <td></td>\n",
       "      <td></td>\n",
       "      <td></td>\n",
       "      <td></td>\n",
       "      <td></td>\n",
       "      <td></td>\n",
       "      <td></td>\n",
       "      <td></td>\n",
       "      <td></td>\n",
       "    </tr>\n",
       "    <tr>\n",
       "      <th>2</th>\n",
       "      <td>REAL</td>\n",
       "      <td>Kerry</td>\n",
       "      <td>to</td>\n",
       "      <td>go</td>\n",
       "      <td>to</td>\n",
       "      <td>Paris</td>\n",
       "      <td>in</td>\n",
       "      <td>gesture</td>\n",
       "      <td>of</td>\n",
       "      <td>sympathy</td>\n",
       "      <td>...</td>\n",
       "      <td></td>\n",
       "      <td></td>\n",
       "      <td></td>\n",
       "      <td></td>\n",
       "      <td></td>\n",
       "      <td></td>\n",
       "      <td></td>\n",
       "      <td></td>\n",
       "      <td></td>\n",
       "      <td></td>\n",
       "    </tr>\n",
       "    <tr>\n",
       "      <th>3</th>\n",
       "      <td>FAKE</td>\n",
       "      <td>Bernie</td>\n",
       "      <td>supporters</td>\n",
       "      <td>on</td>\n",
       "      <td>Twitter</td>\n",
       "      <td>erupt</td>\n",
       "      <td>in</td>\n",
       "      <td>anger</td>\n",
       "      <td>against</td>\n",
       "      <td>the</td>\n",
       "      <td>...</td>\n",
       "      <td></td>\n",
       "      <td></td>\n",
       "      <td></td>\n",
       "      <td></td>\n",
       "      <td></td>\n",
       "      <td></td>\n",
       "      <td></td>\n",
       "      <td></td>\n",
       "      <td></td>\n",
       "      <td></td>\n",
       "    </tr>\n",
       "    <tr>\n",
       "      <th>4</th>\n",
       "      <td>REAL</td>\n",
       "      <td>The</td>\n",
       "      <td>Battle</td>\n",
       "      <td>of</td>\n",
       "      <td>New</td>\n",
       "      <td>York:</td>\n",
       "      <td>Why</td>\n",
       "      <td>This</td>\n",
       "      <td>Primary</td>\n",
       "      <td>Matters</td>\n",
       "      <td>...</td>\n",
       "      <td></td>\n",
       "      <td></td>\n",
       "      <td></td>\n",
       "      <td></td>\n",
       "      <td></td>\n",
       "      <td></td>\n",
       "      <td></td>\n",
       "      <td></td>\n",
       "      <td></td>\n",
       "      <td></td>\n",
       "    </tr>\n",
       "  </tbody>\n",
       "</table>\n",
       "<p>5 rows × 5527 columns</p>\n",
       "</div>"
      ],
      "text/plain": [
       "  label       0           1      2          3      4       5            6  \\\n",
       "0  FAKE     You         Can  Smell  Hillary’s   Fear  Daniel  Greenfield,   \n",
       "1  FAKE   Watch         The  Exact     Moment   Paul    Ryan    Committed   \n",
       "2  REAL   Kerry          to     go         to  Paris      in      gesture   \n",
       "3  FAKE  Bernie  supporters     on    Twitter  erupt      in        anger   \n",
       "4  REAL     The      Battle     of        New  York:     Why         This   \n",
       "\n",
       "           7         8  ... 5516 5517 5518 5519 5520 5521 5522 5523 5524 5525  \n",
       "0          a  Shillman  ...                                                    \n",
       "1  Political   Suicide  ...                                                    \n",
       "2         of  sympathy  ...                                                    \n",
       "3    against       the  ...                                                    \n",
       "4    Primary   Matters  ...                                                    \n",
       "\n",
       "[5 rows x 5527 columns]"
      ]
     },
     "execution_count": 20,
     "metadata": {},
     "output_type": "execute_result"
    }
   ],
   "source": [
    "#expand only the combo array into new columns\n",
    "combo_expand_array_df = join_array_df.loc[:,[\"label\"]]\n",
    "\n",
    "# Create new columns for each element in the arrays\n",
    "combo_array_columns = join_array_df['combo_array'].apply(lambda x: pd.Series(x, dtype='string'))\n",
    "\n",
    "# Concatenate the new columns with the original DataFrame\n",
    "combo_expand_array_df = pd.concat([combo_expand_array_df, combo_array_columns], axis=1)\n",
    "\n",
    "#fill in na to \"none\"\n",
    "combo_expand_array_df = combo_expand_array_df.fillna(\"\")\n",
    "\n",
    "combo_expand_array_df.head()"
   ]
  },
  {
   "cell_type": "code",
   "execution_count": null,
   "id": "d7c9180e",
   "metadata": {
    "id": "d7c9180e"
   },
   "outputs": [],
   "source": []
  },
  {
   "cell_type": "markdown",
   "id": "d7289916",
   "metadata": {
    "id": "d7289916"
   },
   "source": [
    "## Step 3 - Train and test data "
   ]
  },
  {
   "cell_type": "code",
   "execution_count": 31,
   "id": "f5679ead",
   "metadata": {
    "id": "f5679ead"
   },
   "outputs": [],
   "source": [
    "from sklearn.compose import ColumnTransformer\n",
    "from sklearn.pipeline import Pipeline\n",
    "from sklearn.preprocessing import OneHotEncoder\n",
    "from sklearn.model_selection import train_test_split\n",
    "\n",
    "\n",
    "# Drop 'label' column for X and assign 'label' column to y\n",
    "X = combo_expand_array_df.drop('label', axis=1)\n",
    "y = combo_expand_array_df['label']\n",
    "\n",
    "# Create a column transformer with a pipeline for one-hot encoding each column\n",
    "transformers = []\n",
    "\n",
    "for i in range(len(X.columns)):\n",
    "    transformers.append((str(i), Pipeline([('onehot', OneHotEncoder())]), [i]))\n",
    "\n",
    "ct = ColumnTransformer(transformers=transformers, remainder='passthrough')\n",
    "\n",
    "# Fit and transform X\n",
    "X_transformed = ct.fit_transform(X)\n",
    "\n",
    "# Split the data into training and testing sets\n",
    "X_train, X_test, y_train, y_test = train_test_split(X_transformed, y, test_size=1/3, random_state=0)"
   ]
  },
  {
   "cell_type": "code",
   "execution_count": 32,
   "id": "31d57627",
   "metadata": {
    "colab": {
     "base_uri": "https://localhost:8080/"
    },
    "id": "31d57627",
    "outputId": "a551c94c-0cec-445f-968c-ca0e1a60897d"
   },
   "outputs": [
    {
     "name": "stdout",
     "output_type": "stream",
     "text": [
      "            0           1      2          3          4       5     \\\n",
      "0            You         Can  Smell  Hillary’s       Fear  Daniel   \n",
      "1          Watch         The  Exact     Moment       Paul    Ryan   \n",
      "2          Kerry          to     go         to      Paris      in   \n",
      "3         Bernie  supporters     on    Twitter      erupt      in   \n",
      "4            The      Battle     of        New      York:     Why   \n",
      "...          ...         ...    ...        ...        ...     ...   \n",
      "6310       State  Department   says         it      can't    find   \n",
      "6311         The         ‘P’     in        PBS     Should   Stand   \n",
      "6312  Anti-Trump  Protesters    Are      Tools         of     the   \n",
      "6313          In   Ethiopia,  Obama      seeks   progress      on   \n",
      "6314         Jeb        Bush     Is   Suddenly  Attacking  Trump.   \n",
      "\n",
      "             6              7            8           9     ... 5516 5517 5518  \\\n",
      "0     Greenfield,              a     Shillman  Journalism  ...                  \n",
      "1       Committed      Political      Suicide          At  ...                  \n",
      "2         gesture             of     sympathy        U.S.  ...                  \n",
      "3           anger        against          the        DNC:  ...                  \n",
      "4            This        Primary      Matters        It's  ...                  \n",
      "...           ...            ...          ...         ...  ...  ...  ...  ...   \n",
      "6310       emails           from      Clinton          IT  ...                  \n",
      "6311          for  ‘Plutocratic’           or  ‘Pentagon’  ...                  \n",
      "6312    Oligarchy              :  Information  Anti-Trump  ...                  \n",
      "6313       peace,       security           in        East  ...                  \n",
      "6314       Here's            Why         That     Matters  ...                  \n",
      "\n",
      "     5519 5520 5521 5522 5523 5524 5525  \n",
      "0                                        \n",
      "1                                        \n",
      "2                                        \n",
      "3                                        \n",
      "4                                        \n",
      "...   ...  ...  ...  ...  ...  ...  ...  \n",
      "6310                                     \n",
      "6311                                     \n",
      "6312                                     \n",
      "6313                                     \n",
      "6314                                     \n",
      "\n",
      "[6315 rows x 5526 columns]\n"
     ]
    }
   ],
   "source": [
    "print(X)"
   ]
  },
  {
   "cell_type": "code",
   "execution_count": 33,
   "id": "73c9d096",
   "metadata": {
    "colab": {
     "base_uri": "https://localhost:8080/"
    },
    "id": "73c9d096",
    "outputId": "dcdcacfd-8f8d-40b8-99a0-80860e2b86d6"
   },
   "outputs": [
    {
     "name": "stdout",
     "output_type": "stream",
     "text": [
      "0       FAKE\n",
      "1       FAKE\n",
      "2       REAL\n",
      "3       FAKE\n",
      "4       REAL\n",
      "        ... \n",
      "6310    REAL\n",
      "6311    FAKE\n",
      "6312    FAKE\n",
      "6313    REAL\n",
      "6314    REAL\n",
      "Name: label, Length: 6315, dtype: string\n"
     ]
    }
   ],
   "source": [
    "print(y)"
   ]
  },
  {
   "cell_type": "markdown",
   "id": "366497e6",
   "metadata": {
    "id": "366497e6"
   },
   "source": [
    "### Feature Scaling"
   ]
  },
  {
   "cell_type": "code",
   "execution_count": 34,
   "id": "28853181",
   "metadata": {
    "id": "28853181"
   },
   "outputs": [],
   "source": [
    "from sklearn.preprocessing import StandardScaler\n",
    "scaler = StandardScaler(with_mean=False)\n",
    "X_train = scaler.fit_transform(X_train)\n",
    "X_test = scaler.transform(X_test)"
   ]
  },
  {
   "cell_type": "code",
   "execution_count": 35,
   "id": "e6a05973",
   "metadata": {
    "colab": {
     "base_uri": "https://localhost:8080/"
    },
    "id": "e6a05973",
    "outputId": "b65d2af3-72e1-4ec6-817b-86d72ab69549"
   },
   "outputs": [
    {
     "name": "stdout",
     "output_type": "stream",
     "text": [
      "  (0, 368)\t29.034482758620694\n",
      "  (0, 2534)\t32.45767938442841\n",
      "  (0, 7047)\t45.89118080072871\n",
      "  (0, 9196)\t64.89222016225153\n",
      "  (0, 12190)\t16.78303436068717\n",
      "  (0, 18539)\t64.89222016225153\n",
      "  (0, 18767)\t19.589024794476707\n",
      "  (0, 23554)\t9.833228354497244\n",
      "  (0, 25405)\t64.89222016225153\n",
      "  (0, 28809)\t45.89118080072871\n",
      "  (0, 31940)\t45.89118080072871\n",
      "  (0, 34340)\t26.50788738996085\n",
      "  (0, 37907)\t64.89222016225153\n",
      "  (0, 41033)\t20.54269653556662\n",
      "  (0, 43799)\t45.89118080072871\n",
      "  (0, 48853)\t26.50788738996085\n",
      "  (0, 49401)\t64.89222016225153\n",
      "  (0, 52647)\t18.023574875609828\n",
      "  (0, 55493)\t64.89222016225153\n",
      "  (0, 58736)\t64.89222016225153\n",
      "  (0, 60859)\t64.89222016225153\n",
      "  (0, 63432)\t64.89222016225153\n",
      "  (0, 66407)\t64.89222016225153\n",
      "  (0, 71888)\t6.803778837405602\n",
      "  (0, 72858)\t45.89118080072871\n",
      "  :\t:\n",
      "  (4209, 2588980)\t45.89118080072871\n",
      "  (4209, 2588983)\t45.89118080072871\n",
      "  (4209, 2588986)\t45.89118080072871\n",
      "  (4209, 2588989)\t45.89118080072871\n",
      "  (4209, 2588992)\t45.89118080072871\n",
      "  (4209, 2588995)\t45.89118080072871\n",
      "  (4209, 2588998)\t45.89118080072871\n",
      "  (4209, 2589001)\t45.89118080072871\n",
      "  (4209, 2589003)\t45.89118080072871\n",
      "  (4209, 2589006)\t45.89118080072871\n",
      "  (4209, 2589009)\t45.89118080072871\n",
      "  (4209, 2589012)\t45.89118080072871\n",
      "  (4209, 2589015)\t45.89118080072871\n",
      "  (4209, 2589018)\t45.89118080072871\n",
      "  (4209, 2589021)\t45.89118080072871\n",
      "  (4209, 2589024)\t45.89118080072871\n",
      "  (4209, 2589027)\t45.89118080072871\n",
      "  (4209, 2589030)\t45.89118080072871\n",
      "  (4209, 2589033)\t45.89118080072871\n",
      "  (4209, 2589036)\t45.89118080072871\n",
      "  (4209, 2589039)\t45.89118080072871\n",
      "  (4209, 2589042)\t45.89118080072871\n",
      "  (4209, 2589045)\t45.89118080072871\n",
      "  (4209, 2589048)\t45.89118080072871\n",
      "  (4209, 2589051)\t64.89222016225155\n"
     ]
    }
   ],
   "source": [
    "print(X_train)"
   ]
  },
  {
   "cell_type": "code",
   "execution_count": 36,
   "id": "6e57722a",
   "metadata": {
    "colab": {
     "base_uri": "https://localhost:8080/"
    },
    "id": "6e57722a",
    "outputId": "6735588a-e295-46e8-808f-9f2fb2e8fca7"
   },
   "outputs": [
    {
     "name": "stdout",
     "output_type": "stream",
     "text": [
      "  (0, 2124)\t1.0\n",
      "  (0, 4097)\t13.015605007668725\n",
      "  (0, 7283)\t22.961966463160493\n",
      "  (0, 11318)\t11.696746114005261\n",
      "  (0, 14873)\t1.0\n",
      "  (0, 15538)\t1.0\n",
      "  (0, 20992)\t19.589024794476707\n",
      "  (0, 23810)\t1.0\n",
      "  (0, 27129)\t1.0\n",
      "  (0, 29221)\t21.651326059270318\n",
      "  (0, 31251)\t45.89118080072871\n",
      "  (0, 34238)\t12.090465248814164\n",
      "  (0, 37187)\t20.54269653556662\n",
      "  (0, 40652)\t64.89222016225153\n",
      "  (0, 44191)\t64.89222016225153\n",
      "  (0, 46850)\t21.651326059270318\n",
      "  (0, 48935)\t18.75729702908665\n",
      "  (0, 52791)\t1.0\n",
      "  (0, 55516)\t1.0\n",
      "  (0, 57582)\t32.45767938442841\n",
      "  (0, 63190)\t45.89118080072871\n",
      "  (0, 64765)\t16.25204033264045\n",
      "  (0, 66859)\t37.474445245134085\n",
      "  (0, 69411)\t45.89118080072871\n",
      "  (0, 72133)\t32.45767938442841\n",
      "  :\t:\n",
      "  (2104, 2588980)\t45.89118080072871\n",
      "  (2104, 2588983)\t45.89118080072871\n",
      "  (2104, 2588986)\t45.89118080072871\n",
      "  (2104, 2588989)\t45.89118080072871\n",
      "  (2104, 2588992)\t45.89118080072871\n",
      "  (2104, 2588995)\t45.89118080072871\n",
      "  (2104, 2588998)\t45.89118080072871\n",
      "  (2104, 2589001)\t45.89118080072871\n",
      "  (2104, 2589003)\t45.89118080072871\n",
      "  (2104, 2589006)\t45.89118080072871\n",
      "  (2104, 2589009)\t45.89118080072871\n",
      "  (2104, 2589012)\t45.89118080072871\n",
      "  (2104, 2589015)\t45.89118080072871\n",
      "  (2104, 2589018)\t45.89118080072871\n",
      "  (2104, 2589021)\t45.89118080072871\n",
      "  (2104, 2589024)\t45.89118080072871\n",
      "  (2104, 2589027)\t45.89118080072871\n",
      "  (2104, 2589030)\t45.89118080072871\n",
      "  (2104, 2589033)\t45.89118080072871\n",
      "  (2104, 2589036)\t45.89118080072871\n",
      "  (2104, 2589039)\t45.89118080072871\n",
      "  (2104, 2589042)\t45.89118080072871\n",
      "  (2104, 2589045)\t45.89118080072871\n",
      "  (2104, 2589048)\t45.89118080072871\n",
      "  (2104, 2589051)\t64.89222016225155\n"
     ]
    }
   ],
   "source": [
    "print(X_test)"
   ]
  },
  {
   "cell_type": "markdown",
   "id": "e55a4056",
   "metadata": {
    "id": "e55a4056"
   },
   "source": [
    "### Training the Logistic Regression model on the Training set"
   ]
  },
  {
   "cell_type": "code",
   "execution_count": 37,
   "id": "35924162",
   "metadata": {
    "colab": {
     "base_uri": "https://localhost:8080/",
     "height": 213
    },
    "id": "35924162",
    "outputId": "a9ab29ff-7b1c-402d-959a-0a0f0abca2e4"
   },
   "outputs": [
    {
     "data": {
      "text/html": [
       "<style>#sk-container-id-2 {color: black;background-color: white;}#sk-container-id-2 pre{padding: 0;}#sk-container-id-2 div.sk-toggleable {background-color: white;}#sk-container-id-2 label.sk-toggleable__label {cursor: pointer;display: block;width: 100%;margin-bottom: 0;padding: 0.3em;box-sizing: border-box;text-align: center;}#sk-container-id-2 label.sk-toggleable__label-arrow:before {content: \"▸\";float: left;margin-right: 0.25em;color: #696969;}#sk-container-id-2 label.sk-toggleable__label-arrow:hover:before {color: black;}#sk-container-id-2 div.sk-estimator:hover label.sk-toggleable__label-arrow:before {color: black;}#sk-container-id-2 div.sk-toggleable__content {max-height: 0;max-width: 0;overflow: hidden;text-align: left;background-color: #f0f8ff;}#sk-container-id-2 div.sk-toggleable__content pre {margin: 0.2em;color: black;border-radius: 0.25em;background-color: #f0f8ff;}#sk-container-id-2 input.sk-toggleable__control:checked~div.sk-toggleable__content {max-height: 200px;max-width: 100%;overflow: auto;}#sk-container-id-2 input.sk-toggleable__control:checked~label.sk-toggleable__label-arrow:before {content: \"▾\";}#sk-container-id-2 div.sk-estimator input.sk-toggleable__control:checked~label.sk-toggleable__label {background-color: #d4ebff;}#sk-container-id-2 div.sk-label input.sk-toggleable__control:checked~label.sk-toggleable__label {background-color: #d4ebff;}#sk-container-id-2 input.sk-hidden--visually {border: 0;clip: rect(1px 1px 1px 1px);clip: rect(1px, 1px, 1px, 1px);height: 1px;margin: -1px;overflow: hidden;padding: 0;position: absolute;width: 1px;}#sk-container-id-2 div.sk-estimator {font-family: monospace;background-color: #f0f8ff;border: 1px dotted black;border-radius: 0.25em;box-sizing: border-box;margin-bottom: 0.5em;}#sk-container-id-2 div.sk-estimator:hover {background-color: #d4ebff;}#sk-container-id-2 div.sk-parallel-item::after {content: \"\";width: 100%;border-bottom: 1px solid gray;flex-grow: 1;}#sk-container-id-2 div.sk-label:hover label.sk-toggleable__label {background-color: #d4ebff;}#sk-container-id-2 div.sk-serial::before {content: \"\";position: absolute;border-left: 1px solid gray;box-sizing: border-box;top: 0;bottom: 0;left: 50%;z-index: 0;}#sk-container-id-2 div.sk-serial {display: flex;flex-direction: column;align-items: center;background-color: white;padding-right: 0.2em;padding-left: 0.2em;position: relative;}#sk-container-id-2 div.sk-item {position: relative;z-index: 1;}#sk-container-id-2 div.sk-parallel {display: flex;align-items: stretch;justify-content: center;background-color: white;position: relative;}#sk-container-id-2 div.sk-item::before, #sk-container-id-2 div.sk-parallel-item::before {content: \"\";position: absolute;border-left: 1px solid gray;box-sizing: border-box;top: 0;bottom: 0;left: 50%;z-index: -1;}#sk-container-id-2 div.sk-parallel-item {display: flex;flex-direction: column;z-index: 1;position: relative;background-color: white;}#sk-container-id-2 div.sk-parallel-item:first-child::after {align-self: flex-end;width: 50%;}#sk-container-id-2 div.sk-parallel-item:last-child::after {align-self: flex-start;width: 50%;}#sk-container-id-2 div.sk-parallel-item:only-child::after {width: 0;}#sk-container-id-2 div.sk-dashed-wrapped {border: 1px dashed gray;margin: 0 0.4em 0.5em 0.4em;box-sizing: border-box;padding-bottom: 0.4em;background-color: white;}#sk-container-id-2 div.sk-label label {font-family: monospace;font-weight: bold;display: inline-block;line-height: 1.2em;}#sk-container-id-2 div.sk-label-container {text-align: center;}#sk-container-id-2 div.sk-container {/* jupyter's `normalize.less` sets `[hidden] { display: none; }` but bootstrap.min.css set `[hidden] { display: none !important; }` so we also need the `!important` here to be able to override the default hidden behavior on the sphinx rendered scikit-learn.org. See: https://github.com/scikit-learn/scikit-learn/issues/21755 */display: inline-block !important;position: relative;}#sk-container-id-2 div.sk-text-repr-fallback {display: none;}</style><div id=\"sk-container-id-2\" class=\"sk-top-container\"><div class=\"sk-text-repr-fallback\"><pre>LogisticRegression(max_iter=1000, random_state=0)</pre><b>In a Jupyter environment, please rerun this cell to show the HTML representation or trust the notebook. <br />On GitHub, the HTML representation is unable to render, please try loading this page with nbviewer.org.</b></div><div class=\"sk-container\" hidden><div class=\"sk-item\"><div class=\"sk-estimator sk-toggleable\"><input class=\"sk-toggleable__control sk-hidden--visually\" id=\"sk-estimator-id-2\" type=\"checkbox\" checked><label for=\"sk-estimator-id-2\" class=\"sk-toggleable__label sk-toggleable__label-arrow\">LogisticRegression</label><div class=\"sk-toggleable__content\"><pre>LogisticRegression(max_iter=1000, random_state=0)</pre></div></div></div></div></div>"
      ],
      "text/plain": [
       "LogisticRegression(max_iter=1000, random_state=0)"
      ]
     },
     "execution_count": 37,
     "metadata": {},
     "output_type": "execute_result"
    }
   ],
   "source": [
    "from sklearn.linear_model import LogisticRegression\n",
    "classifier = LogisticRegression(max_iter=1000, random_state = 0)\n",
    "classifier.fit(X_train, y_train)"
   ]
  },
  {
   "cell_type": "markdown",
   "id": "39843eb4",
   "metadata": {
    "id": "39843eb4"
   },
   "source": [
    "### Predicting the Test set results"
   ]
  },
  {
   "cell_type": "code",
   "execution_count": 38,
   "id": "077c9822",
   "metadata": {
    "id": "077c9822"
   },
   "outputs": [],
   "source": [
    "# Make predictions on the test set\n",
    "y_pred = classifier.predict(X_test)"
   ]
  },
  {
   "cell_type": "markdown",
   "id": "bd974ef9",
   "metadata": {
    "id": "bd974ef9"
   },
   "source": [
    "### Making the Confusion Matrix"
   ]
  },
  {
   "cell_type": "code",
   "execution_count": 39,
   "id": "57b9e9fe",
   "metadata": {
    "colab": {
     "base_uri": "https://localhost:8080/"
    },
    "id": "57b9e9fe",
    "outputId": "a3d73416-e1c0-42ae-f4d6-774319d5e3c2"
   },
   "outputs": [
    {
     "name": "stdout",
     "output_type": "stream",
     "text": [
      "[[719 347]\n",
      " [246 793]]\n"
     ]
    },
    {
     "data": {
      "text/plain": [
       "0.7182897862232779"
      ]
     },
     "execution_count": 39,
     "metadata": {},
     "output_type": "execute_result"
    }
   ],
   "source": [
    "from sklearn.metrics import confusion_matrix, accuracy_score\n",
    "cm = confusion_matrix(y_test, y_pred)\n",
    "print(cm)\n",
    "accuracy_score(y_test, y_pred)"
   ]
  },
  {
   "cell_type": "markdown",
   "id": "952a19bd",
   "metadata": {},
   "source": [
    "### Make Classification Report"
   ]
  },
  {
   "cell_type": "code",
   "execution_count": 43,
   "id": "871a495d",
   "metadata": {},
   "outputs": [
    {
     "name": "stdout",
     "output_type": "stream",
     "text": [
      "              precision    recall  f1-score   support\n",
      "\n",
      "        FAKE       0.75      0.67      0.71      1066\n",
      "        REAL       0.70      0.76      0.73      1039\n",
      "\n",
      "    accuracy                           0.72      2105\n",
      "   macro avg       0.72      0.72      0.72      2105\n",
      "weighted avg       0.72      0.72      0.72      2105\n",
      "\n"
     ]
    }
   ],
   "source": [
    "from sklearn.metrics import classification_report\n",
    "\n",
    "# Generate and print the classification report\n",
    "report = classification_report(y_test, y_pred)\n",
    "\n",
    "print(report)"
   ]
  },
  {
   "cell_type": "markdown",
   "id": "56c95afd",
   "metadata": {
    "id": "56c95afd"
   },
   "source": [
    "### Visualising the Results"
   ]
  },
  {
   "cell_type": "code",
   "execution_count": 42,
   "id": "c9f861c6",
   "metadata": {
    "colab": {
     "background_save": true,
     "base_uri": "https://localhost:8080/"
    },
    "id": "c9f861c6",
    "outputId": "1ee6322a-5b4b-4772-a325-e4368b7f900c"
   },
   "outputs": [
    {
     "data": {
      "image/png": "[encoded data removed]",
      "text/plain": [
       "<Figure size 800x600 with 1 Axes>"
      ]
     },
     "metadata": {},
     "output_type": "display_data"
    },
    {
     "name": "stdout",
     "output_type": "stream",
     "text": [
      "Accuracy: 71.83%\n"
     ]
    }
   ],
   "source": [
    "import seaborn as sns\n",
    "# Create a DataFrame with actual and predicted labels\n",
    "results_df = pd.DataFrame({'Actual': y_test, 'Predicted': y_pred})\n",
    "\n",
    "# Create a confusion matrix\n",
    "conf_matrix = confusion_matrix(results_df['Actual'], results_df['Predicted'])\n",
    "\n",
    "# Map the actual and predicted labels to \"Correctly Predicted\" and \"Incorrectly Predicted\"\n",
    "results_df['Outcome'] = results_df.apply(lambda row: 'Correctly Predicted' if row['Actual'] == row['Predicted'] else 'Incorrectly Predicted', axis=1)\n",
    "\n",
    "# Plot the count of correct and incorrect predictions\n",
    "plt.figure(figsize=(8, 6))\n",
    "sns.countplot(x='Outcome', data=results_df, palette='Set2')\n",
    "\n",
    "plt.title('Logistic Regression - All Data - Count of Correct and Incorrect Predictions')\n",
    "plt.xlabel('Prediction Outcome')\n",
    "plt.ylabel('Count')\n",
    "plt.show()\n",
    "\n",
    "# Calculate accuracy\n",
    "accuracy = accuracy_score(y_test, y_pred)\n",
    "print(f'Accuracy: {accuracy * 100:.2f}%')"
   ]
  },
  {
   "cell_type": "code",
   "execution_count": null,
   "id": "39d4c4b9",
   "metadata": {
    "id": "39d4c4b9"
   },
   "outputs": [],
   "source": []
  },
  {
   "cell_type": "code",
   "execution_count": null,
   "id": "da678e63",
   "metadata": {
    "id": "da678e63"
   },
   "outputs": [],
   "source": []
  },
  {
   "cell_type": "code",
   "execution_count": null,
   "id": "2210d37e",
   "metadata": {
    "id": "2210d37e"
   },
   "outputs": [],
   "source": []
  },
  {
   "cell_type": "code",
   "execution_count": null,
   "id": "3d79e816",
   "metadata": {
    "id": "3d79e816"
   },
   "outputs": [],
   "source": []
  },
  {
   "cell_type": "code",
   "execution_count": null,
   "id": "0ceecdf2",
   "metadata": {
    "id": "0ceecdf2"
   },
   "outputs": [],
   "source": []
  },
  {
   "cell_type": "code",
   "execution_count": null,
   "id": "9ff1cbdf",
   "metadata": {
    "id": "9ff1cbdf"
   },
   "outputs": [],
   "source": []
  },
  {
   "cell_type": "code",
   "execution_count": null,
   "id": "0801dbf4",
   "metadata": {
    "id": "0801dbf4"
   },
   "outputs": [],
   "source": []
  },
  {
   "cell_type": "code",
   "execution_count": null,
   "id": "09c6d0ed",
   "metadata": {
    "id": "09c6d0ed"
   },
   "outputs": [],
   "source": []
  }
 ],
 "metadata": {
  "colab": {
   "provenance": []
  },
  "kernelspec": {
   "display_name": "python3_data",
   "language": "python",
   "name": "python3_data"
  },
  "language_info": {
   "codemirror_mode": {
    "name": "ipython",
    "version": 3
   },
   "file_extension": ".py",
   "mimetype": "text/x-python",
   "name": "python",
   "nbconvert_exporter": "python",
   "pygments_lexer": "ipython3",
   "version": "3.9.7"
  }
 },
 "nbformat": 4,
 "nbformat_minor": 5
}
